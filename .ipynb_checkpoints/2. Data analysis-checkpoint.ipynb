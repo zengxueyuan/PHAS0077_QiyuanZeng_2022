{
 "cells": [
  {
   "cell_type": "markdown",
   "metadata": {},
   "source": [
    "# Thyroid Disease - Data Analysis"
   ]
  },
  {
   "cell_type": "markdown",
   "metadata": {},
   "source": [
    "## Project Description:\n",
    "Thyroid nodules are not uncommon whose incidence is increasing globally and the most common one is hypothyroidism. In hypothyroidism, the thyroid gland is underperforming or producing too little thyroid hormone. \n",
    "\n",
    "In its early stages, hypothyroidism may not cause any noticeable symptoms. Over time, untreated hypothyroidism can lead to cause a number of health problems, such as obesity, joint pain, infertility and heart disease. So it is important to recognize the symptoms of hypothyroidism and early detection and treatment.\n",
    "\n",
    "The thyroid gland is located at the front of the neck. It secretes two hormones known as thyroxine (T4) and tri-iodothyronine (T3). The release of T4 and T3 into the blood is controlled by a third hormone called thyroid stimulating hormone (TSH), this hormone is responsible for keeping FT4 and FT3 at the right levels. Collectively, these three hormones are referred to as ‘thyroid function tests’ (TFTs).\n",
    "\n",
    "The project will analyse the personal information and their hormonal indicators of the thyroid to detect whether they have hypothyroidism disease, using data to speak for itself. It is divided into three steps, project preparation - first introduction to the data - data analysis.  \n",
    "- The project preparation section imports the modules used and loads the data\n",
    "- The first look at the data section looks at the basic information and descriptive statistical characteristics of the data\n",
    "- The Data Analysis section analyses the types of Thyroid gland and distinguishing hyperthyroid and hypothyroid\n",
    "\n",
    "<img src=\"https://i.imgur.com/5cW3lGZ.gif?noredirect\" width=\"800px\">"
   ]
  },
  {
   "cell_type": "code",
   "execution_count": 425,
   "metadata": {},
   "outputs": [],
   "source": [
    "import numpy as np\n",
    "import pandas as pd\n",
    "import matplotlib.pyplot as plt\n",
    "import seaborn as sns\n",
    "from scipy import stats\n",
    "\n",
    "import warnings\n",
    "warnings.filterwarnings(\"ignore\")\n",
    " \n",
    "%matplotlib inline"
   ]
  },
  {
   "cell_type": "markdown",
   "metadata": {},
   "source": [
    "# Read dataset"
   ]
  },
  {
   "cell_type": "code",
   "execution_count": 426,
   "metadata": {},
   "outputs": [],
   "source": [
    "# read dataset\n",
    "data = pd.read_csv('Dataset_edited/new_data.csv')"
   ]
  },
  {
   "cell_type": "code",
   "execution_count": 427,
   "metadata": {},
   "outputs": [
    {
     "data": {
      "text/html": [
       "<div>\n",
       "<style scoped>\n",
       "    .dataframe tbody tr th:only-of-type {\n",
       "        vertical-align: middle;\n",
       "    }\n",
       "\n",
       "    .dataframe tbody tr th {\n",
       "        vertical-align: top;\n",
       "    }\n",
       "\n",
       "    .dataframe thead th {\n",
       "        text-align: right;\n",
       "    }\n",
       "</style>\n",
       "<table border=\"1\" class=\"dataframe\">\n",
       "  <thead>\n",
       "    <tr style=\"text-align: right;\">\n",
       "      <th></th>\n",
       "      <th>age</th>\n",
       "      <th>sex</th>\n",
       "      <th>on_thyroxine</th>\n",
       "      <th>query_on_thyroxine</th>\n",
       "      <th>on_antithyroid_medication</th>\n",
       "      <th>sick</th>\n",
       "      <th>pregnant</th>\n",
       "      <th>thyroid_surgery</th>\n",
       "      <th>query_hypothyroid</th>\n",
       "      <th>query_hyperthyroid</th>\n",
       "      <th>lithium</th>\n",
       "      <th>goitre</th>\n",
       "      <th>tumor</th>\n",
       "      <th>TSH</th>\n",
       "      <th>T3</th>\n",
       "      <th>TT4</th>\n",
       "      <th>T4U</th>\n",
       "      <th>FTI</th>\n",
       "      <th>Target</th>\n",
       "    </tr>\n",
       "  </thead>\n",
       "  <tbody>\n",
       "    <tr>\n",
       "      <th>0</th>\n",
       "      <td>41.0</td>\n",
       "      <td>F</td>\n",
       "      <td>f</td>\n",
       "      <td>f</td>\n",
       "      <td>f</td>\n",
       "      <td>f</td>\n",
       "      <td>f</td>\n",
       "      <td>f</td>\n",
       "      <td>f</td>\n",
       "      <td>f</td>\n",
       "      <td>f</td>\n",
       "      <td>f</td>\n",
       "      <td>f</td>\n",
       "      <td>1.30</td>\n",
       "      <td>2.5</td>\n",
       "      <td>125.0</td>\n",
       "      <td>1.14</td>\n",
       "      <td>109.0</td>\n",
       "      <td>negative</td>\n",
       "    </tr>\n",
       "    <tr>\n",
       "      <th>1</th>\n",
       "      <td>23.0</td>\n",
       "      <td>F</td>\n",
       "      <td>f</td>\n",
       "      <td>f</td>\n",
       "      <td>f</td>\n",
       "      <td>f</td>\n",
       "      <td>f</td>\n",
       "      <td>f</td>\n",
       "      <td>f</td>\n",
       "      <td>f</td>\n",
       "      <td>f</td>\n",
       "      <td>f</td>\n",
       "      <td>f</td>\n",
       "      <td>4.10</td>\n",
       "      <td>2.0</td>\n",
       "      <td>102.0</td>\n",
       "      <td>NaN</td>\n",
       "      <td>NaN</td>\n",
       "      <td>negative</td>\n",
       "    </tr>\n",
       "    <tr>\n",
       "      <th>2</th>\n",
       "      <td>46.0</td>\n",
       "      <td>M</td>\n",
       "      <td>f</td>\n",
       "      <td>f</td>\n",
       "      <td>f</td>\n",
       "      <td>f</td>\n",
       "      <td>f</td>\n",
       "      <td>f</td>\n",
       "      <td>f</td>\n",
       "      <td>f</td>\n",
       "      <td>f</td>\n",
       "      <td>f</td>\n",
       "      <td>f</td>\n",
       "      <td>0.98</td>\n",
       "      <td>NaN</td>\n",
       "      <td>109.0</td>\n",
       "      <td>0.91</td>\n",
       "      <td>120.0</td>\n",
       "      <td>negative</td>\n",
       "    </tr>\n",
       "    <tr>\n",
       "      <th>3</th>\n",
       "      <td>70.0</td>\n",
       "      <td>F</td>\n",
       "      <td>t</td>\n",
       "      <td>f</td>\n",
       "      <td>f</td>\n",
       "      <td>f</td>\n",
       "      <td>f</td>\n",
       "      <td>f</td>\n",
       "      <td>f</td>\n",
       "      <td>f</td>\n",
       "      <td>f</td>\n",
       "      <td>f</td>\n",
       "      <td>f</td>\n",
       "      <td>0.16</td>\n",
       "      <td>1.9</td>\n",
       "      <td>175.0</td>\n",
       "      <td>NaN</td>\n",
       "      <td>NaN</td>\n",
       "      <td>negative</td>\n",
       "    </tr>\n",
       "    <tr>\n",
       "      <th>4</th>\n",
       "      <td>70.0</td>\n",
       "      <td>F</td>\n",
       "      <td>f</td>\n",
       "      <td>f</td>\n",
       "      <td>f</td>\n",
       "      <td>f</td>\n",
       "      <td>f</td>\n",
       "      <td>f</td>\n",
       "      <td>f</td>\n",
       "      <td>f</td>\n",
       "      <td>f</td>\n",
       "      <td>f</td>\n",
       "      <td>f</td>\n",
       "      <td>0.72</td>\n",
       "      <td>1.2</td>\n",
       "      <td>61.0</td>\n",
       "      <td>0.87</td>\n",
       "      <td>70.0</td>\n",
       "      <td>negative</td>\n",
       "    </tr>\n",
       "    <tr>\n",
       "      <th>5</th>\n",
       "      <td>18.0</td>\n",
       "      <td>F</td>\n",
       "      <td>t</td>\n",
       "      <td>f</td>\n",
       "      <td>f</td>\n",
       "      <td>f</td>\n",
       "      <td>f</td>\n",
       "      <td>f</td>\n",
       "      <td>f</td>\n",
       "      <td>f</td>\n",
       "      <td>f</td>\n",
       "      <td>f</td>\n",
       "      <td>f</td>\n",
       "      <td>0.03</td>\n",
       "      <td>NaN</td>\n",
       "      <td>183.0</td>\n",
       "      <td>1.30</td>\n",
       "      <td>141.0</td>\n",
       "      <td>negative</td>\n",
       "    </tr>\n",
       "    <tr>\n",
       "      <th>6</th>\n",
       "      <td>59.0</td>\n",
       "      <td>F</td>\n",
       "      <td>f</td>\n",
       "      <td>f</td>\n",
       "      <td>f</td>\n",
       "      <td>f</td>\n",
       "      <td>f</td>\n",
       "      <td>f</td>\n",
       "      <td>f</td>\n",
       "      <td>f</td>\n",
       "      <td>f</td>\n",
       "      <td>f</td>\n",
       "      <td>f</td>\n",
       "      <td>NaN</td>\n",
       "      <td>NaN</td>\n",
       "      <td>72.0</td>\n",
       "      <td>0.92</td>\n",
       "      <td>78.0</td>\n",
       "      <td>negative</td>\n",
       "    </tr>\n",
       "    <tr>\n",
       "      <th>7</th>\n",
       "      <td>80.0</td>\n",
       "      <td>F</td>\n",
       "      <td>f</td>\n",
       "      <td>f</td>\n",
       "      <td>f</td>\n",
       "      <td>f</td>\n",
       "      <td>f</td>\n",
       "      <td>f</td>\n",
       "      <td>f</td>\n",
       "      <td>f</td>\n",
       "      <td>f</td>\n",
       "      <td>f</td>\n",
       "      <td>f</td>\n",
       "      <td>2.20</td>\n",
       "      <td>0.6</td>\n",
       "      <td>80.0</td>\n",
       "      <td>0.70</td>\n",
       "      <td>115.0</td>\n",
       "      <td>negative</td>\n",
       "    </tr>\n",
       "    <tr>\n",
       "      <th>8</th>\n",
       "      <td>66.0</td>\n",
       "      <td>F</td>\n",
       "      <td>f</td>\n",
       "      <td>f</td>\n",
       "      <td>f</td>\n",
       "      <td>f</td>\n",
       "      <td>f</td>\n",
       "      <td>f</td>\n",
       "      <td>f</td>\n",
       "      <td>f</td>\n",
       "      <td>f</td>\n",
       "      <td>f</td>\n",
       "      <td>t</td>\n",
       "      <td>0.60</td>\n",
       "      <td>2.2</td>\n",
       "      <td>123.0</td>\n",
       "      <td>0.93</td>\n",
       "      <td>132.0</td>\n",
       "      <td>negative</td>\n",
       "    </tr>\n",
       "    <tr>\n",
       "      <th>9</th>\n",
       "      <td>68.0</td>\n",
       "      <td>M</td>\n",
       "      <td>f</td>\n",
       "      <td>f</td>\n",
       "      <td>f</td>\n",
       "      <td>f</td>\n",
       "      <td>f</td>\n",
       "      <td>f</td>\n",
       "      <td>f</td>\n",
       "      <td>f</td>\n",
       "      <td>f</td>\n",
       "      <td>f</td>\n",
       "      <td>f</td>\n",
       "      <td>2.40</td>\n",
       "      <td>1.6</td>\n",
       "      <td>83.0</td>\n",
       "      <td>0.89</td>\n",
       "      <td>93.0</td>\n",
       "      <td>negative</td>\n",
       "    </tr>\n",
       "  </tbody>\n",
       "</table>\n",
       "</div>"
      ],
      "text/plain": [
       "    age sex on_thyroxine query_on_thyroxine on_antithyroid_medication sick  \\\n",
       "0  41.0   F            f                  f                         f    f   \n",
       "1  23.0   F            f                  f                         f    f   \n",
       "2  46.0   M            f                  f                         f    f   \n",
       "3  70.0   F            t                  f                         f    f   \n",
       "4  70.0   F            f                  f                         f    f   \n",
       "5  18.0   F            t                  f                         f    f   \n",
       "6  59.0   F            f                  f                         f    f   \n",
       "7  80.0   F            f                  f                         f    f   \n",
       "8  66.0   F            f                  f                         f    f   \n",
       "9  68.0   M            f                  f                         f    f   \n",
       "\n",
       "  pregnant thyroid_surgery query_hypothyroid query_hyperthyroid lithium  \\\n",
       "0        f               f                 f                  f       f   \n",
       "1        f               f                 f                  f       f   \n",
       "2        f               f                 f                  f       f   \n",
       "3        f               f                 f                  f       f   \n",
       "4        f               f                 f                  f       f   \n",
       "5        f               f                 f                  f       f   \n",
       "6        f               f                 f                  f       f   \n",
       "7        f               f                 f                  f       f   \n",
       "8        f               f                 f                  f       f   \n",
       "9        f               f                 f                  f       f   \n",
       "\n",
       "  goitre tumor   TSH   T3    TT4   T4U    FTI    Target  \n",
       "0      f     f  1.30  2.5  125.0  1.14  109.0  negative  \n",
       "1      f     f  4.10  2.0  102.0   NaN    NaN  negative  \n",
       "2      f     f  0.98  NaN  109.0  0.91  120.0  negative  \n",
       "3      f     f  0.16  1.9  175.0   NaN    NaN  negative  \n",
       "4      f     f  0.72  1.2   61.0  0.87   70.0  negative  \n",
       "5      f     f  0.03  NaN  183.0  1.30  141.0  negative  \n",
       "6      f     f   NaN  NaN   72.0  0.92   78.0  negative  \n",
       "7      f     f  2.20  0.6   80.0  0.70  115.0  negative  \n",
       "8      f     t  0.60  2.2  123.0  0.93  132.0  negative  \n",
       "9      f     f  2.40  1.6   83.0  0.89   93.0  negative  "
      ]
     },
     "execution_count": 427,
     "metadata": {},
     "output_type": "execute_result"
    }
   ],
   "source": [
    "data.head(10)"
   ]
  },
  {
   "cell_type": "code",
   "execution_count": 428,
   "metadata": {},
   "outputs": [
    {
     "data": {
      "text/plain": [
       "(25453, 19)"
      ]
     },
     "execution_count": 428,
     "metadata": {},
     "output_type": "execute_result"
    }
   ],
   "source": [
    "data.shape"
   ]
  },
  {
   "cell_type": "markdown",
   "metadata": {},
   "source": [
    "# Univariate data analysis"
   ]
  },
  {
   "cell_type": "code",
   "execution_count": 429,
   "metadata": {},
   "outputs": [
    {
     "name": "stdout",
     "output_type": "stream",
     "text": [
      "<class 'pandas.core.frame.DataFrame'>\n",
      "RangeIndex: 25453 entries, 0 to 25452\n",
      "Data columns (total 19 columns):\n",
      " #   Column                     Non-Null Count  Dtype  \n",
      "---  ------                     --------------  -----  \n",
      " 0   age                        25005 non-null  float64\n",
      " 1   sex                        24830 non-null  object \n",
      " 2   on_thyroxine               25453 non-null  object \n",
      " 3   query_on_thyroxine         25453 non-null  object \n",
      " 4   on_antithyroid_medication  25453 non-null  object \n",
      " 5   sick                       25453 non-null  object \n",
      " 6   pregnant                   25453 non-null  object \n",
      " 7   thyroid_surgery            25453 non-null  object \n",
      " 8   query_hypothyroid          25453 non-null  object \n",
      " 9   query_hyperthyroid         25453 non-null  object \n",
      " 10  lithium                    25453 non-null  object \n",
      " 11  goitre                     25453 non-null  object \n",
      " 12  tumor                      25453 non-null  object \n",
      " 13  TSH                        23525 non-null  float64\n",
      " 14  T3                         21011 non-null  float64\n",
      " 15  TT4                        24388 non-null  float64\n",
      " 16  T4U                        23755 non-null  float64\n",
      " 17  FTI                        23767 non-null  float64\n",
      " 18  Target                     25453 non-null  object \n",
      "dtypes: float64(6), object(13)\n",
      "memory usage: 3.7+ MB\n"
     ]
    }
   ],
   "source": [
    "data.info()"
   ]
  },
  {
   "cell_type": "markdown",
   "metadata": {},
   "source": [
    "### Data infomation\n",
    "1. The size: 3.7+ MB\n",
    "2. 25453 instances\n",
    "3. 19 columns"
   ]
  },
  {
   "cell_type": "markdown",
   "metadata": {},
   "source": [
    "## Data set description:\n",
    "<!-- * Kaggle[Data sets provided](https://www.kaggle.com/datasets/yasserhessein/thyroid-disease-data-set)\n",
    "From Garavan Institute\n",
    "Documentation: as given by Ross Quinlan\n",
    "6 databases from the Garavan Institute in Sydney, Australia\n",
    "Approximately the following for each database:\n",
    "\n",
    "2800 training (data) instances and 972 test instances\n",
    "Plenty of missing data\n",
    "29 or so attributes, either Boolean or continuously-valued\n",
    "\n",
    "The various hormonal indicators and personal information are saved in a CSV file format. -->\n",
    "\n",
    "* Data Dictionary\n",
    "    * **age**: continous, float64\n",
    "    * **sex**: Femal(F) or Male(M)\n",
    "    * **on thyroxine**: t/f\n",
    "    * **query on thyroxine**: t/f\n",
    "    * **on antithyroid medication**: t/f\n",
    "    * **sick**: t/f\n",
    "    * **pregnant**: t/f\n",
    "    * **thyroid surgery**: t/f\n",
    "    * **I131 treatment**: t/f\n",
    "    * **query hypothyroid**: t/f\n",
    "    * **query hyperthyroid**: t/f\n",
    "    * **lithium**: t/f\n",
    "    * **goitre**: t/f\n",
    "    * **tumor**: t/f\n",
    "    * **TSH**: Thyroid Stimulating Hormone, float64\n",
    "    * **T3**: Triiodothyronine which is a hormone that the thyroid gland produces, float64\n",
    "    * **TT4**: Thyroxine which is a type of thyroid hormone that regulates metabolism, float64\n",
    "    * **T4U**: , float64\n",
    "    * **FTI**: Free T4 Index, float64\n",
    "    * **Target**: negative, hyperthyroid, hypothyroid"
   ]
  },
  {
   "cell_type": "code",
   "execution_count": 430,
   "metadata": {},
   "outputs": [
    {
     "data": {
      "text/html": [
       "<div>\n",
       "<style scoped>\n",
       "    .dataframe tbody tr th:only-of-type {\n",
       "        vertical-align: middle;\n",
       "    }\n",
       "\n",
       "    .dataframe tbody tr th {\n",
       "        vertical-align: top;\n",
       "    }\n",
       "\n",
       "    .dataframe thead th {\n",
       "        text-align: right;\n",
       "    }\n",
       "</style>\n",
       "<table border=\"1\" class=\"dataframe\">\n",
       "  <thead>\n",
       "    <tr style=\"text-align: right;\">\n",
       "      <th></th>\n",
       "      <th>age</th>\n",
       "      <th>TSH</th>\n",
       "      <th>T3</th>\n",
       "      <th>TT4</th>\n",
       "      <th>T4U</th>\n",
       "      <th>FTI</th>\n",
       "    </tr>\n",
       "  </thead>\n",
       "  <tbody>\n",
       "    <tr>\n",
       "      <th>count</th>\n",
       "      <td>25005.000000</td>\n",
       "      <td>23525.000000</td>\n",
       "      <td>21011.000000</td>\n",
       "      <td>24388.000000</td>\n",
       "      <td>23755.000000</td>\n",
       "      <td>23767.000000</td>\n",
       "    </tr>\n",
       "    <tr>\n",
       "      <th>mean</th>\n",
       "      <td>59.693784</td>\n",
       "      <td>3.871701</td>\n",
       "      <td>2.001304</td>\n",
       "      <td>78.715715</td>\n",
       "      <td>3.648765</td>\n",
       "      <td>81.067773</td>\n",
       "    </tr>\n",
       "    <tr>\n",
       "      <th>std</th>\n",
       "      <td>717.289620</td>\n",
       "      <td>21.055815</td>\n",
       "      <td>0.821120</td>\n",
       "      <td>53.464618</td>\n",
       "      <td>4.183175</td>\n",
       "      <td>57.142210</td>\n",
       "    </tr>\n",
       "    <tr>\n",
       "      <th>min</th>\n",
       "      <td>1.000000</td>\n",
       "      <td>0.000000</td>\n",
       "      <td>0.000000</td>\n",
       "      <td>0.200000</td>\n",
       "      <td>0.000000</td>\n",
       "      <td>0.000000</td>\n",
       "    </tr>\n",
       "    <tr>\n",
       "      <th>25%</th>\n",
       "      <td>36.000000</td>\n",
       "      <td>0.150000</td>\n",
       "      <td>1.600000</td>\n",
       "      <td>13.500000</td>\n",
       "      <td>0.910000</td>\n",
       "      <td>13.300000</td>\n",
       "    </tr>\n",
       "    <tr>\n",
       "      <th>50%</th>\n",
       "      <td>54.000000</td>\n",
       "      <td>0.660000</td>\n",
       "      <td>2.000000</td>\n",
       "      <td>90.000000</td>\n",
       "      <td>1.050000</td>\n",
       "      <td>95.000000</td>\n",
       "    </tr>\n",
       "    <tr>\n",
       "      <th>75%</th>\n",
       "      <td>67.000000</td>\n",
       "      <td>2.000000</td>\n",
       "      <td>2.300000</td>\n",
       "      <td>114.000000</td>\n",
       "      <td>8.300000</td>\n",
       "      <td>116.000000</td>\n",
       "    </tr>\n",
       "    <tr>\n",
       "      <th>max</th>\n",
       "      <td>65526.000000</td>\n",
       "      <td>530.000000</td>\n",
       "      <td>18.000000</td>\n",
       "      <td>450.000000</td>\n",
       "      <td>23.300000</td>\n",
       "      <td>881.000000</td>\n",
       "    </tr>\n",
       "  </tbody>\n",
       "</table>\n",
       "</div>"
      ],
      "text/plain": [
       "                age           TSH            T3           TT4           T4U  \\\n",
       "count  25005.000000  23525.000000  21011.000000  24388.000000  23755.000000   \n",
       "mean      59.693784      3.871701      2.001304     78.715715      3.648765   \n",
       "std      717.289620     21.055815      0.821120     53.464618      4.183175   \n",
       "min        1.000000      0.000000      0.000000      0.200000      0.000000   \n",
       "25%       36.000000      0.150000      1.600000     13.500000      0.910000   \n",
       "50%       54.000000      0.660000      2.000000     90.000000      1.050000   \n",
       "75%       67.000000      2.000000      2.300000    114.000000      8.300000   \n",
       "max    65526.000000    530.000000     18.000000    450.000000     23.300000   \n",
       "\n",
       "                FTI  \n",
       "count  23767.000000  \n",
       "mean      81.067773  \n",
       "std       57.142210  \n",
       "min        0.000000  \n",
       "25%       13.300000  \n",
       "50%       95.000000  \n",
       "75%      116.000000  \n",
       "max      881.000000  "
      ]
     },
     "execution_count": 430,
     "metadata": {},
     "output_type": "execute_result"
    }
   ],
   "source": [
    "data.describe()"
   ]
  },
  {
   "cell_type": "markdown",
   "metadata": {},
   "source": [
    "## Handle Missing Value"
   ]
  },
  {
   "cell_type": "code",
   "execution_count": 431,
   "metadata": {},
   "outputs": [
    {
     "data": {
      "text/plain": [
       "age                           448\n",
       "sex                           623\n",
       "on_thyroxine                    0\n",
       "query_on_thyroxine              0\n",
       "on_antithyroid_medication       0\n",
       "sick                            0\n",
       "pregnant                        0\n",
       "thyroid_surgery                 0\n",
       "query_hypothyroid               0\n",
       "query_hyperthyroid              0\n",
       "lithium                         0\n",
       "goitre                          0\n",
       "tumor                           0\n",
       "TSH                          1928\n",
       "T3                           4442\n",
       "TT4                          1065\n",
       "T4U                          1698\n",
       "FTI                          1686\n",
       "Target                          0\n",
       "dtype: int64"
      ]
     },
     "execution_count": 431,
     "metadata": {},
     "output_type": "execute_result"
    }
   ],
   "source": [
    "data.isnull().sum()"
   ]
  },
  {
   "cell_type": "markdown",
   "metadata": {},
   "source": [
    "### _age_ missing value"
   ]
  },
  {
   "cell_type": "code",
   "execution_count": 432,
   "metadata": {},
   "outputs": [
    {
     "data": {
      "text/plain": [
       "0.01760106863631006"
      ]
     },
     "execution_count": 432,
     "metadata": {},
     "output_type": "execute_result"
    }
   ],
   "source": [
    "(data.shape[0]-data['age'].count())/data.shape[0]"
   ]
  },
  {
   "cell_type": "code",
   "execution_count": 433,
   "metadata": {},
   "outputs": [
    {
     "data": {
      "text/html": [
       "<div>\n",
       "<style scoped>\n",
       "    .dataframe tbody tr th:only-of-type {\n",
       "        vertical-align: middle;\n",
       "    }\n",
       "\n",
       "    .dataframe tbody tr th {\n",
       "        vertical-align: top;\n",
       "    }\n",
       "\n",
       "    .dataframe thead th {\n",
       "        text-align: right;\n",
       "    }\n",
       "</style>\n",
       "<table border=\"1\" class=\"dataframe\">\n",
       "  <thead>\n",
       "    <tr style=\"text-align: right;\">\n",
       "      <th></th>\n",
       "      <th>Target</th>\n",
       "    </tr>\n",
       "    <tr>\n",
       "      <th>age</th>\n",
       "      <th></th>\n",
       "    </tr>\n",
       "  </thead>\n",
       "  <tbody>\n",
       "    <tr>\n",
       "      <th>1.0</th>\n",
       "      <td>38</td>\n",
       "    </tr>\n",
       "    <tr>\n",
       "      <th>2.0</th>\n",
       "      <td>22</td>\n",
       "    </tr>\n",
       "    <tr>\n",
       "      <th>3.0</th>\n",
       "      <td>4</td>\n",
       "    </tr>\n",
       "    <tr>\n",
       "      <th>4.0</th>\n",
       "      <td>8</td>\n",
       "    </tr>\n",
       "    <tr>\n",
       "      <th>5.0</th>\n",
       "      <td>6</td>\n",
       "    </tr>\n",
       "    <tr>\n",
       "      <th>...</th>\n",
       "      <td>...</td>\n",
       "    </tr>\n",
       "    <tr>\n",
       "      <th>98.0</th>\n",
       "      <td>1</td>\n",
       "    </tr>\n",
       "    <tr>\n",
       "      <th>455.0</th>\n",
       "      <td>3</td>\n",
       "    </tr>\n",
       "    <tr>\n",
       "      <th>65511.0</th>\n",
       "      <td>1</td>\n",
       "    </tr>\n",
       "    <tr>\n",
       "      <th>65512.0</th>\n",
       "      <td>1</td>\n",
       "    </tr>\n",
       "    <tr>\n",
       "      <th>65526.0</th>\n",
       "      <td>1</td>\n",
       "    </tr>\n",
       "  </tbody>\n",
       "</table>\n",
       "<p>110 rows × 1 columns</p>\n",
       "</div>"
      ],
      "text/plain": [
       "         Target\n",
       "age            \n",
       "1.0          38\n",
       "2.0          22\n",
       "3.0           4\n",
       "4.0           8\n",
       "5.0           6\n",
       "...         ...\n",
       "98.0          1\n",
       "455.0         3\n",
       "65511.0       1\n",
       "65512.0       1\n",
       "65526.0       1\n",
       "\n",
       "[110 rows x 1 columns]"
      ]
     },
     "execution_count": 433,
     "metadata": {},
     "output_type": "execute_result"
    }
   ],
   "source": [
    "data.groupby(['age'])[['Target']].count()"
   ]
  },
  {
   "cell_type": "markdown",
   "metadata": {},
   "source": [
    "It is impossible that age is more than 100. Therefore, delete these data"
   ]
  },
  {
   "cell_type": "code",
   "execution_count": 434,
   "metadata": {},
   "outputs": [],
   "source": [
    "data = data.drop(data[data['age']>100].index)"
   ]
  },
  {
   "cell_type": "code",
   "execution_count": 435,
   "metadata": {},
   "outputs": [
    {
     "data": {
      "text/plain": [
       "(25447, 19)"
      ]
     },
     "execution_count": 435,
     "metadata": {},
     "output_type": "execute_result"
    }
   ],
   "source": [
    "data.shape"
   ]
  },
  {
   "cell_type": "code",
   "execution_count": 436,
   "metadata": {},
   "outputs": [
    {
     "data": {
      "text/plain": [
       "age                            0\n",
       "sex                          392\n",
       "on_thyroxine                 448\n",
       "query_on_thyroxine           448\n",
       "on_antithyroid_medication    448\n",
       "sick                         448\n",
       "pregnant                     448\n",
       "thyroid_surgery              448\n",
       "query_hypothyroid            448\n",
       "query_hyperthyroid           448\n",
       "lithium                      448\n",
       "goitre                       448\n",
       "tumor                        448\n",
       "TSH                          406\n",
       "T3                           389\n",
       "TT4                          419\n",
       "T4U                          419\n",
       "FTI                          419\n",
       "Target                       448\n",
       "dtype: int64"
      ]
     },
     "execution_count": 436,
     "metadata": {},
     "output_type": "execute_result"
    }
   ],
   "source": [
    "data[data['age'].isna()].count()"
   ]
  },
  {
   "cell_type": "code",
   "execution_count": 437,
   "metadata": {},
   "outputs": [
    {
     "data": {
      "text/html": [
       "<div>\n",
       "<style scoped>\n",
       "    .dataframe tbody tr th:only-of-type {\n",
       "        vertical-align: middle;\n",
       "    }\n",
       "\n",
       "    .dataframe tbody tr th {\n",
       "        vertical-align: top;\n",
       "    }\n",
       "\n",
       "    .dataframe thead th {\n",
       "        text-align: right;\n",
       "    }\n",
       "</style>\n",
       "<table border=\"1\" class=\"dataframe\">\n",
       "  <thead>\n",
       "    <tr style=\"text-align: right;\">\n",
       "      <th></th>\n",
       "      <th>Target</th>\n",
       "    </tr>\n",
       "    <tr>\n",
       "      <th>age</th>\n",
       "      <th></th>\n",
       "    </tr>\n",
       "  </thead>\n",
       "  <tbody>\n",
       "    <tr>\n",
       "      <th>1.0</th>\n",
       "      <td>38</td>\n",
       "    </tr>\n",
       "    <tr>\n",
       "      <th>2.0</th>\n",
       "      <td>22</td>\n",
       "    </tr>\n",
       "    <tr>\n",
       "      <th>3.0</th>\n",
       "      <td>4</td>\n",
       "    </tr>\n",
       "    <tr>\n",
       "      <th>4.0</th>\n",
       "      <td>8</td>\n",
       "    </tr>\n",
       "    <tr>\n",
       "      <th>5.0</th>\n",
       "      <td>6</td>\n",
       "    </tr>\n",
       "    <tr>\n",
       "      <th>...</th>\n",
       "      <td>...</td>\n",
       "    </tr>\n",
       "    <tr>\n",
       "      <th>93.0</th>\n",
       "      <td>13</td>\n",
       "    </tr>\n",
       "    <tr>\n",
       "      <th>94.0</th>\n",
       "      <td>9</td>\n",
       "    </tr>\n",
       "    <tr>\n",
       "      <th>95.0</th>\n",
       "      <td>4</td>\n",
       "    </tr>\n",
       "    <tr>\n",
       "      <th>97.0</th>\n",
       "      <td>6</td>\n",
       "    </tr>\n",
       "    <tr>\n",
       "      <th>98.0</th>\n",
       "      <td>1</td>\n",
       "    </tr>\n",
       "  </tbody>\n",
       "</table>\n",
       "<p>106 rows × 1 columns</p>\n",
       "</div>"
      ],
      "text/plain": [
       "      Target\n",
       "age         \n",
       "1.0       38\n",
       "2.0       22\n",
       "3.0        4\n",
       "4.0        8\n",
       "5.0        6\n",
       "...      ...\n",
       "93.0      13\n",
       "94.0       9\n",
       "95.0       4\n",
       "97.0       6\n",
       "98.0       1\n",
       "\n",
       "[106 rows x 1 columns]"
      ]
     },
     "execution_count": 437,
     "metadata": {},
     "output_type": "execute_result"
    }
   ],
   "source": [
    "data.groupby(['age'])[['Target']].count()"
   ]
  },
  {
   "cell_type": "code",
   "execution_count": 438,
   "metadata": {},
   "outputs": [
    {
     "data": {
      "text/plain": [
       "24999"
      ]
     },
     "execution_count": 438,
     "metadata": {},
     "output_type": "execute_result"
    }
   ],
   "source": [
    "data.age.count()"
   ]
  },
  {
   "cell_type": "markdown",
   "metadata": {},
   "source": [
    "1. The missing rate is: 1.76%\n",
    "2. The number of missing value: 448\n",
    "3. The number of non-missing value: 24999"
   ]
  },
  {
   "cell_type": "markdown",
   "metadata": {},
   "source": [
    "### _Sex_ missing value"
   ]
  },
  {
   "cell_type": "code",
   "execution_count": 439,
   "metadata": {},
   "outputs": [
    {
     "data": {
      "text/plain": [
       "0.02448225724053916"
      ]
     },
     "execution_count": 439,
     "metadata": {},
     "output_type": "execute_result"
    }
   ],
   "source": [
    "(data.shape[0]-data['sex'].count())/data.shape[0]"
   ]
  },
  {
   "cell_type": "code",
   "execution_count": 440,
   "metadata": {},
   "outputs": [
    {
     "data": {
      "text/plain": [
       "age                          567\n",
       "sex                            0\n",
       "on_thyroxine                 623\n",
       "query_on_thyroxine           623\n",
       "on_antithyroid_medication    623\n",
       "sick                         623\n",
       "pregnant                     623\n",
       "thyroid_surgery              623\n",
       "query_hypothyroid            623\n",
       "query_hyperthyroid           623\n",
       "lithium                      623\n",
       "goitre                       623\n",
       "tumor                        623\n",
       "TSH                          553\n",
       "T3                           491\n",
       "TT4                          571\n",
       "T4U                          549\n",
       "FTI                          549\n",
       "Target                       623\n",
       "dtype: int64"
      ]
     },
     "execution_count": 440,
     "metadata": {},
     "output_type": "execute_result"
    }
   ],
   "source": [
    "data[data['sex'].isna()].count()"
   ]
  },
  {
   "cell_type": "code",
   "execution_count": 441,
   "metadata": {},
   "outputs": [
    {
     "data": {
      "text/plain": [
       "24824"
      ]
     },
     "execution_count": 441,
     "metadata": {},
     "output_type": "execute_result"
    }
   ],
   "source": [
    "data.sex.count()"
   ]
  },
  {
   "cell_type": "code",
   "execution_count": 442,
   "metadata": {},
   "outputs": [
    {
     "data": {
      "text/html": [
       "<div>\n",
       "<style scoped>\n",
       "    .dataframe tbody tr th:only-of-type {\n",
       "        vertical-align: middle;\n",
       "    }\n",
       "\n",
       "    .dataframe tbody tr th {\n",
       "        vertical-align: top;\n",
       "    }\n",
       "\n",
       "    .dataframe thead th {\n",
       "        text-align: right;\n",
       "    }\n",
       "</style>\n",
       "<table border=\"1\" class=\"dataframe\">\n",
       "  <thead>\n",
       "    <tr style=\"text-align: right;\">\n",
       "      <th></th>\n",
       "      <th>Target</th>\n",
       "    </tr>\n",
       "    <tr>\n",
       "      <th>sex</th>\n",
       "      <th></th>\n",
       "    </tr>\n",
       "  </thead>\n",
       "  <tbody>\n",
       "    <tr>\n",
       "      <th>F</th>\n",
       "      <td>17047</td>\n",
       "    </tr>\n",
       "    <tr>\n",
       "      <th>M</th>\n",
       "      <td>7777</td>\n",
       "    </tr>\n",
       "  </tbody>\n",
       "</table>\n",
       "</div>"
      ],
      "text/plain": [
       "     Target\n",
       "sex        \n",
       "F     17047\n",
       "M      7777"
      ]
     },
     "execution_count": 442,
     "metadata": {},
     "output_type": "execute_result"
    }
   ],
   "source": [
    "data.groupby(['sex'])[['Target']].count()"
   ]
  },
  {
   "cell_type": "markdown",
   "metadata": {},
   "source": [
    "1. The missing rate is: 2.448%\n",
    "2. The number of missing value: 623\n",
    "3. The number of non-missing value: 24824 (17047 Female and 7777 Male)"
   ]
  },
  {
   "cell_type": "markdown",
   "metadata": {},
   "source": [
    "### _TSH_ Missing Value"
   ]
  },
  {
   "cell_type": "code",
   "execution_count": 443,
   "metadata": {},
   "outputs": [
    {
     "data": {
      "text/plain": [
       "0.07576531614728652"
      ]
     },
     "execution_count": 443,
     "metadata": {},
     "output_type": "execute_result"
    }
   ],
   "source": [
    "(data.shape[0]-data['TSH'].count())/data.shape[0]"
   ]
  },
  {
   "cell_type": "code",
   "execution_count": 444,
   "metadata": {},
   "outputs": [
    {
     "data": {
      "text/plain": [
       "age                          1886\n",
       "sex                          1858\n",
       "on_thyroxine                 1928\n",
       "query_on_thyroxine           1928\n",
       "on_antithyroid_medication    1928\n",
       "sick                         1928\n",
       "pregnant                     1928\n",
       "thyroid_surgery              1928\n",
       "query_hypothyroid            1928\n",
       "query_hyperthyroid           1928\n",
       "lithium                      1928\n",
       "goitre                       1928\n",
       "tumor                        1928\n",
       "TSH                             0\n",
       "T3                            457\n",
       "TT4                           985\n",
       "T4U                           958\n",
       "FTI                           958\n",
       "Target                       1928\n",
       "dtype: int64"
      ]
     },
     "execution_count": 444,
     "metadata": {},
     "output_type": "execute_result"
    }
   ],
   "source": [
    "data[data['TSH'].isna()].count()"
   ]
  },
  {
   "cell_type": "code",
   "execution_count": 445,
   "metadata": {},
   "outputs": [
    {
     "data": {
      "text/plain": [
       "23519"
      ]
     },
     "execution_count": 445,
     "metadata": {},
     "output_type": "execute_result"
    }
   ],
   "source": [
    "data.TSH.count()"
   ]
  },
  {
   "cell_type": "markdown",
   "metadata": {},
   "source": [
    "1. TSH missing rate: 7.577%\n",
    "2. TSH missed 1928 instances\n",
    "3. Non-missing: 23519 instances"
   ]
  },
  {
   "cell_type": "markdown",
   "metadata": {},
   "source": [
    "### _T3_ Missing Value"
   ]
  },
  {
   "cell_type": "code",
   "execution_count": 446,
   "metadata": {},
   "outputs": [
    {
     "data": {
      "text/plain": [
       "0.17451958973552875"
      ]
     },
     "execution_count": 446,
     "metadata": {},
     "output_type": "execute_result"
    }
   ],
   "source": [
    "(data.shape[0]-data['T3'].count())/data.shape[0]"
   ]
  },
  {
   "cell_type": "code",
   "execution_count": 447,
   "metadata": {},
   "outputs": [
    {
     "data": {
      "text/plain": [
       "age                          4382\n",
       "sex                          4309\n",
       "on_thyroxine                 4441\n",
       "query_on_thyroxine           4441\n",
       "on_antithyroid_medication    4441\n",
       "sick                         4441\n",
       "pregnant                     4441\n",
       "thyroid_surgery              4441\n",
       "query_hypothyroid            4441\n",
       "query_hyperthyroid           4441\n",
       "lithium                      4441\n",
       "goitre                       4441\n",
       "tumor                        4441\n",
       "TSH                          2970\n",
       "T3                              0\n",
       "TT4                          3524\n",
       "T4U                          3510\n",
       "FTI                          3511\n",
       "Target                       4441\n",
       "dtype: int64"
      ]
     },
     "execution_count": 447,
     "metadata": {},
     "output_type": "execute_result"
    }
   ],
   "source": [
    "data[data['T3'].isna()].count()"
   ]
  },
  {
   "cell_type": "code",
   "execution_count": 448,
   "metadata": {},
   "outputs": [
    {
     "data": {
      "text/plain": [
       "21006"
      ]
     },
     "execution_count": 448,
     "metadata": {},
     "output_type": "execute_result"
    }
   ],
   "source": [
    "data.T3.count()"
   ]
  },
  {
   "cell_type": "markdown",
   "metadata": {},
   "source": [
    "1. T3 missing rate: 17.452%\n",
    "2. T3 missed 4441 instances\n",
    "3. Non-missing: 21006 instances"
   ]
  },
  {
   "cell_type": "markdown",
   "metadata": {},
   "source": [
    "### _TT4_ Missing Value"
   ]
  },
  {
   "cell_type": "code",
   "execution_count": 449,
   "metadata": {},
   "outputs": [
    {
     "data": {
      "text/plain": [
       "0.041851691751483476"
      ]
     },
     "execution_count": 449,
     "metadata": {},
     "output_type": "execute_result"
    }
   ],
   "source": [
    "(data.shape[0]-data['TT4'].count())/data.shape[0]"
   ]
  },
  {
   "cell_type": "code",
   "execution_count": 450,
   "metadata": {},
   "outputs": [
    {
     "data": {
      "text/plain": [
       "age                          1036\n",
       "sex                          1013\n",
       "on_thyroxine                 1065\n",
       "query_on_thyroxine           1065\n",
       "on_antithyroid_medication    1065\n",
       "sick                         1065\n",
       "pregnant                     1065\n",
       "thyroid_surgery              1065\n",
       "query_hypothyroid            1065\n",
       "query_hyperthyroid           1065\n",
       "lithium                      1065\n",
       "goitre                       1065\n",
       "tumor                        1065\n",
       "TSH                           122\n",
       "T3                            148\n",
       "TT4                             0\n",
       "T4U                             9\n",
       "FTI                            17\n",
       "Target                       1065\n",
       "dtype: int64"
      ]
     },
     "execution_count": 450,
     "metadata": {},
     "output_type": "execute_result"
    }
   ],
   "source": [
    "data[data['TT4'].isna()].count()"
   ]
  },
  {
   "cell_type": "code",
   "execution_count": 451,
   "metadata": {},
   "outputs": [
    {
     "data": {
      "text/plain": [
       "24382"
      ]
     },
     "execution_count": 451,
     "metadata": {},
     "output_type": "execute_result"
    }
   ],
   "source": [
    "data.TT4.count()"
   ]
  },
  {
   "cell_type": "markdown",
   "metadata": {},
   "source": [
    "1. TT4 missing rate: 4.185%\n",
    "2. TT4 missed 1065 instances\n",
    "3. Non-missing: 24382 instances"
   ]
  },
  {
   "cell_type": "markdown",
   "metadata": {},
   "source": [
    "### _T4U_ Missing Value"
   ]
  },
  {
   "cell_type": "code",
   "execution_count": 452,
   "metadata": {},
   "outputs": [
    {
     "data": {
      "text/plain": [
       "0.06672692262349196"
      ]
     },
     "execution_count": 452,
     "metadata": {},
     "output_type": "execute_result"
    }
   ],
   "source": [
    "(data.shape[0]-data['T4U'].count())/data.shape[0]"
   ]
  },
  {
   "cell_type": "code",
   "execution_count": 453,
   "metadata": {},
   "outputs": [
    {
     "data": {
      "text/plain": [
       "age                          1669\n",
       "sex                          1624\n",
       "on_thyroxine                 1698\n",
       "query_on_thyroxine           1698\n",
       "on_antithyroid_medication    1698\n",
       "sick                         1698\n",
       "pregnant                     1698\n",
       "thyroid_surgery              1698\n",
       "query_hypothyroid            1698\n",
       "query_hyperthyroid           1698\n",
       "lithium                      1698\n",
       "goitre                       1698\n",
       "tumor                        1698\n",
       "TSH                           728\n",
       "T3                            767\n",
       "TT4                           642\n",
       "T4U                             0\n",
       "FTI                            13\n",
       "Target                       1698\n",
       "dtype: int64"
      ]
     },
     "execution_count": 453,
     "metadata": {},
     "output_type": "execute_result"
    }
   ],
   "source": [
    "data[data['T4U'].isna()].count()"
   ]
  },
  {
   "cell_type": "code",
   "execution_count": 454,
   "metadata": {},
   "outputs": [
    {
     "data": {
      "text/plain": [
       "23749"
      ]
     },
     "execution_count": 454,
     "metadata": {},
     "output_type": "execute_result"
    }
   ],
   "source": [
    "data.T4U.count()"
   ]
  },
  {
   "cell_type": "markdown",
   "metadata": {},
   "source": [
    "1. T4U missing rate: 6.673%\n",
    "2. T4U missed 1698 instances\n",
    "3. Non-missing: 23749 instances"
   ]
  },
  {
   "cell_type": "markdown",
   "metadata": {},
   "source": [
    "### _FTI_ Missing Value"
   ]
  },
  {
   "cell_type": "code",
   "execution_count": 455,
   "metadata": {},
   "outputs": [
    {
     "data": {
      "text/plain": [
       "0.06625535426572877"
      ]
     },
     "execution_count": 455,
     "metadata": {},
     "output_type": "execute_result"
    }
   ],
   "source": [
    "(data.shape[0]-data['FTI'].count())/data.shape[0]"
   ]
  },
  {
   "cell_type": "code",
   "execution_count": 456,
   "metadata": {},
   "outputs": [
    {
     "data": {
      "text/plain": [
       "age                          1657\n",
       "sex                          1612\n",
       "on_thyroxine                 1686\n",
       "query_on_thyroxine           1686\n",
       "on_antithyroid_medication    1686\n",
       "sick                         1686\n",
       "pregnant                     1686\n",
       "thyroid_surgery              1686\n",
       "query_hypothyroid            1686\n",
       "query_hyperthyroid           1686\n",
       "lithium                      1686\n",
       "goitre                       1686\n",
       "tumor                        1686\n",
       "TSH                           716\n",
       "T3                            756\n",
       "TT4                           638\n",
       "T4U                             1\n",
       "FTI                             0\n",
       "Target                       1686\n",
       "dtype: int64"
      ]
     },
     "execution_count": 456,
     "metadata": {},
     "output_type": "execute_result"
    }
   ],
   "source": [
    "data[data['FTI'].isna()].count()"
   ]
  },
  {
   "cell_type": "code",
   "execution_count": 457,
   "metadata": {},
   "outputs": [
    {
     "data": {
      "text/plain": [
       "23761"
      ]
     },
     "execution_count": 457,
     "metadata": {},
     "output_type": "execute_result"
    }
   ],
   "source": [
    "data.FTI.count()"
   ]
  },
  {
   "cell_type": "markdown",
   "metadata": {},
   "source": [
    "1. FTI missing rate: 6.626%\n",
    "2. FTI missed 1686 instances\n",
    "3. Non-missing: 23761 instances"
   ]
  },
  {
   "cell_type": "markdown",
   "metadata": {},
   "source": [
    "# Handling the Missing Value"
   ]
  },
  {
   "cell_type": "markdown",
   "metadata": {},
   "source": [
    "#### According to the results we get from the data, we know that there are plenty of Negative class data. Therefore, if the missing value corresponding to the negative class, drop it. Otherwise, fill it using the mean value this column."
   ]
  },
  {
   "cell_type": "markdown",
   "metadata": {},
   "source": [
    "#### Drop some nan value first"
   ]
  },
  {
   "cell_type": "code",
   "execution_count": 458,
   "metadata": {},
   "outputs": [
    {
     "data": {
      "text/plain": [
       "(25447, 19)"
      ]
     },
     "execution_count": 458,
     "metadata": {},
     "output_type": "execute_result"
    }
   ],
   "source": [
    "ori_shape = data.shape\n",
    "ori_shape"
   ]
  },
  {
   "cell_type": "code",
   "execution_count": 459,
   "metadata": {},
   "outputs": [
    {
     "name": "stdout",
     "output_type": "stream",
     "text": [
      "age : we have dropped 433 instances\n",
      "sex : we have dropped 511 instances\n",
      "TSH : we have dropped 1784 instances\n",
      "T3 : we have dropped 2623 instances\n",
      "TT4 : we have dropped 26 instances\n",
      "T4U : we have dropped 515 instances\n",
      "FTI : we have dropped 0 instances\n"
     ]
    }
   ],
   "source": [
    "# If the class is negative, drop it\n",
    "drop_columns = ['age', 'sex', 'TSH', 'T3', 'TT4', 'T4U', 'FTI']\n",
    "\n",
    "for col in drop_columns:\n",
    "    pre_shape = data.shape\n",
    "    data = data.drop(data[(data['Target'] == 'negative') & (data[col].isnull())].index)\n",
    "    print(col, \": we have dropped\", pre_shape[0] - data.shape[0], \"instances\")"
   ]
  },
  {
   "cell_type": "code",
   "execution_count": 460,
   "metadata": {},
   "outputs": [
    {
     "name": "stdout",
     "output_type": "stream",
     "text": [
      "The number of original instances: 25447\n",
      "After dropping, the number of final instances: 19555\n",
      "We have dropped 5892 totally\n"
     ]
    }
   ],
   "source": [
    "print(\"The number of original instances:\", ori_shape[0])\n",
    "print(\"After dropping, the number of final instances:\", data.shape[0])\n",
    "print(\"We have dropped\", ori_shape[0]-data.shape[0], \"totally\")"
   ]
  },
  {
   "cell_type": "markdown",
   "metadata": {},
   "source": [
    "#### Fill nan by mean value"
   ]
  },
  {
   "cell_type": "code",
   "execution_count": 461,
   "metadata": {},
   "outputs": [
    {
     "name": "stdout",
     "output_type": "stream",
     "text": [
      "<class 'pandas.core.frame.DataFrame'>\n",
      "Int64Index: 19555 entries, 0 to 25452\n",
      "Data columns (total 19 columns):\n",
      " #   Column                     Non-Null Count  Dtype  \n",
      "---  ------                     --------------  -----  \n",
      " 0   age                        19540 non-null  float64\n",
      " 1   sex                        19497 non-null  object \n",
      " 2   on_thyroxine               19555 non-null  object \n",
      " 3   query_on_thyroxine         19555 non-null  object \n",
      " 4   on_antithyroid_medication  19555 non-null  object \n",
      " 5   sick                       19555 non-null  object \n",
      " 6   pregnant                   19555 non-null  object \n",
      " 7   thyroid_surgery            19555 non-null  object \n",
      " 8   query_hypothyroid          19555 non-null  object \n",
      " 9   query_hyperthyroid         19555 non-null  object \n",
      " 10  lithium                    19555 non-null  object \n",
      " 11  goitre                     19555 non-null  object \n",
      " 12  tumor                      19555 non-null  object \n",
      " 13  TSH                        19508 non-null  float64\n",
      " 14  T3                         19282 non-null  float64\n",
      " 15  TT4                        19541 non-null  float64\n",
      " 16  T4U                        19479 non-null  float64\n",
      " 17  FTI                        19480 non-null  float64\n",
      " 18  Target                     19555 non-null  object \n",
      "dtypes: float64(6), object(13)\n",
      "memory usage: 3.6+ MB\n"
     ]
    }
   ],
   "source": [
    "data.info()"
   ]
  },
  {
   "cell_type": "code",
   "execution_count": 473,
   "metadata": {},
   "outputs": [],
   "source": [
    "fill_columns = ['age', 'TSH', 'T3', 'TT4', 'T4U', 'FTI'] #sex is not continous\n",
    "\n",
    "for col in fill_columns:\n",
    "    data[col].fillna(data[col].mean(), inplace=True)\n",
    "\n",
    "# for sex, fill it by F (Female). Because female patients more than male\n",
    "data['sex'].fillna('F', inplace=True)"
   ]
  },
  {
   "cell_type": "code",
   "execution_count": 477,
   "metadata": {},
   "outputs": [
    {
     "data": {
      "text/plain": [
       "(19555, 19)"
      ]
     },
     "execution_count": 477,
     "metadata": {},
     "output_type": "execute_result"
    }
   ],
   "source": [
    "data.shape"
   ]
  },
  {
   "cell_type": "code",
   "execution_count": 478,
   "metadata": {},
   "outputs": [
    {
     "data": {
      "text/plain": [
       "age                          0\n",
       "sex                          0\n",
       "on_thyroxine                 0\n",
       "query_on_thyroxine           0\n",
       "on_antithyroid_medication    0\n",
       "sick                         0\n",
       "pregnant                     0\n",
       "thyroid_surgery              0\n",
       "query_hypothyroid            0\n",
       "query_hyperthyroid           0\n",
       "lithium                      0\n",
       "goitre                       0\n",
       "tumor                        0\n",
       "TSH                          0\n",
       "T3                           0\n",
       "TT4                          0\n",
       "T4U                          0\n",
       "FTI                          0\n",
       "Target                       0\n",
       "dtype: int64"
      ]
     },
     "execution_count": 478,
     "metadata": {},
     "output_type": "execute_result"
    }
   ],
   "source": [
    "data.isnull().sum()"
   ]
  },
  {
   "cell_type": "markdown",
   "metadata": {},
   "source": [
    "### After handling missing value, the shape of this data is: [19555 instances and 19 artributes]"
   ]
  },
  {
   "cell_type": "code",
   "execution_count": 496,
   "metadata": {},
   "outputs": [],
   "source": [
    "# export this dataset\n",
    "data.to_csv('Dataset_edited/processed_data.csv', index=False, header=True)"
   ]
  },
  {
   "cell_type": "markdown",
   "metadata": {},
   "source": [
    "# Data Distribution"
   ]
  },
  {
   "cell_type": "markdown",
   "metadata": {},
   "source": [
    "### Statistical infomation"
   ]
  },
  {
   "cell_type": "code",
   "execution_count": 479,
   "metadata": {},
   "outputs": [
    {
     "data": {
      "text/html": [
       "<div>\n",
       "<style scoped>\n",
       "    .dataframe tbody tr th:only-of-type {\n",
       "        vertical-align: middle;\n",
       "    }\n",
       "\n",
       "    .dataframe tbody tr th {\n",
       "        vertical-align: top;\n",
       "    }\n",
       "\n",
       "    .dataframe thead th {\n",
       "        text-align: right;\n",
       "    }\n",
       "</style>\n",
       "<table border=\"1\" class=\"dataframe\">\n",
       "  <thead>\n",
       "    <tr style=\"text-align: right;\">\n",
       "      <th></th>\n",
       "      <th>age</th>\n",
       "      <th>TSH</th>\n",
       "      <th>T3</th>\n",
       "      <th>TT4</th>\n",
       "      <th>T4U</th>\n",
       "      <th>FTI</th>\n",
       "    </tr>\n",
       "  </thead>\n",
       "  <tbody>\n",
       "    <tr>\n",
       "      <th>count</th>\n",
       "      <td>19555.000000</td>\n",
       "      <td>19555.000000</td>\n",
       "      <td>19555.000000</td>\n",
       "      <td>19555.000000</td>\n",
       "      <td>19555.000000</td>\n",
       "      <td>19555.00000</td>\n",
       "    </tr>\n",
       "    <tr>\n",
       "      <th>mean</th>\n",
       "      <td>52.681273</td>\n",
       "      <td>4.119797</td>\n",
       "      <td>1.994549</td>\n",
       "      <td>71.281641</td>\n",
       "      <td>4.238252</td>\n",
       "      <td>73.27162</td>\n",
       "    </tr>\n",
       "    <tr>\n",
       "      <th>std</th>\n",
       "      <td>18.845595</td>\n",
       "      <td>22.412117</td>\n",
       "      <td>0.812630</td>\n",
       "      <td>54.996711</td>\n",
       "      <td>4.396264</td>\n",
       "      <td>56.09667</td>\n",
       "    </tr>\n",
       "    <tr>\n",
       "      <th>min</th>\n",
       "      <td>1.000000</td>\n",
       "      <td>0.000000</td>\n",
       "      <td>0.000000</td>\n",
       "      <td>0.200000</td>\n",
       "      <td>0.000000</td>\n",
       "      <td>0.00000</td>\n",
       "    </tr>\n",
       "    <tr>\n",
       "      <th>25%</th>\n",
       "      <td>37.000000</td>\n",
       "      <td>0.130000</td>\n",
       "      <td>1.600000</td>\n",
       "      <td>11.600000</td>\n",
       "      <td>0.930000</td>\n",
       "      <td>11.90000</td>\n",
       "    </tr>\n",
       "    <tr>\n",
       "      <th>50%</th>\n",
       "      <td>55.000000</td>\n",
       "      <td>0.500000</td>\n",
       "      <td>2.000000</td>\n",
       "      <td>83.000000</td>\n",
       "      <td>1.100000</td>\n",
       "      <td>88.00000</td>\n",
       "    </tr>\n",
       "    <tr>\n",
       "      <th>75%</th>\n",
       "      <td>68.000000</td>\n",
       "      <td>1.900000</td>\n",
       "      <td>2.300000</td>\n",
       "      <td>110.000000</td>\n",
       "      <td>9.000000</td>\n",
       "      <td>113.00000</td>\n",
       "    </tr>\n",
       "    <tr>\n",
       "      <th>max</th>\n",
       "      <td>98.000000</td>\n",
       "      <td>530.000000</td>\n",
       "      <td>18.000000</td>\n",
       "      <td>450.000000</td>\n",
       "      <td>23.300000</td>\n",
       "      <td>839.00000</td>\n",
       "    </tr>\n",
       "  </tbody>\n",
       "</table>\n",
       "</div>"
      ],
      "text/plain": [
       "                age           TSH            T3           TT4           T4U  \\\n",
       "count  19555.000000  19555.000000  19555.000000  19555.000000  19555.000000   \n",
       "mean      52.681273      4.119797      1.994549     71.281641      4.238252   \n",
       "std       18.845595     22.412117      0.812630     54.996711      4.396264   \n",
       "min        1.000000      0.000000      0.000000      0.200000      0.000000   \n",
       "25%       37.000000      0.130000      1.600000     11.600000      0.930000   \n",
       "50%       55.000000      0.500000      2.000000     83.000000      1.100000   \n",
       "75%       68.000000      1.900000      2.300000    110.000000      9.000000   \n",
       "max       98.000000    530.000000     18.000000    450.000000     23.300000   \n",
       "\n",
       "               FTI  \n",
       "count  19555.00000  \n",
       "mean      73.27162  \n",
       "std       56.09667  \n",
       "min        0.00000  \n",
       "25%       11.90000  \n",
       "50%       88.00000  \n",
       "75%      113.00000  \n",
       "max      839.00000  "
      ]
     },
     "execution_count": 479,
     "metadata": {},
     "output_type": "execute_result"
    }
   ],
   "source": [
    "data.describe()"
   ]
  },
  {
   "cell_type": "markdown",
   "metadata": {},
   "source": [
    "## Positive(hypothyroid, hyperthyroid) vs Negative label"
   ]
  },
  {
   "cell_type": "code",
   "execution_count": 480,
   "metadata": {},
   "outputs": [
    {
     "name": "stdout",
     "output_type": "stream",
     "text": [
      "The number of target：\n",
      "negative        17702\n",
      "hypothyroid      1403\n",
      "hyperthyroid      450\n",
      "Name: Target, dtype: int64\n"
     ]
    },
    {
     "data": {
      "text/plain": [
       "Text(0.5, 1.0, 'Distribution for Target variable')"
      ]
     },
     "execution_count": 480,
     "metadata": {},
     "output_type": "execute_result"
    },
    {
     "data": {
      "image/png": "[encoded data removed]",
      "text/plain": [
       "<Figure size 864x432 with 2 Axes>"
      ]
     },
     "metadata": {
      "needs_background": "light"
     },
     "output_type": "display_data"
    }
   ],
   "source": [
    "print('The number of target：')\n",
    "print(data.Target.value_counts())\n",
    "\n",
    "_,axe = plt.subplots(1,2,figsize=(12,6))\n",
    "sns.countplot('Target',data=data,ax=axe[0])\n",
    "data.Target.value_counts().plot(kind='pie',autopct='%1.1f%%',shadow=True,explode=[0,0.1,0.1],ax=axe[1])\n",
    "plt.title(\"Distribution for Target variable\")"
   ]
  },
  {
   "cell_type": "markdown",
   "metadata": {},
   "source": [
    "As can be seen from the above graph, the distribution of samples is uneven and certain measures are needed to deal with the sample imbalance:\n",
    "\n",
    "- Similar to undersampling, a positive sample and a negative sample are combined to form a multi-sample training set, and multiple models are trained and averaged\n",
    "- Adjusting the weights of the model"
   ]
  },
  {
   "cell_type": "markdown",
   "metadata": {},
   "source": [
    "### Distribution for other variables of positive class"
   ]
  },
  {
   "cell_type": "code",
   "execution_count": 481,
   "metadata": {},
   "outputs": [],
   "source": [
    "positive_df = data.loc[data.Target.isin(['hyperthyroid','hypothyroid'])]"
   ]
  },
  {
   "cell_type": "code",
   "execution_count": 482,
   "metadata": {},
   "outputs": [
    {
     "data": {
      "text/plain": [
       "Text(0.5, 1.0, 'Distribution of Positive Class Based on Age')"
      ]
     },
     "execution_count": 482,
     "metadata": {},
     "output_type": "execute_result"
    },
    {
     "data": {
      "image/png": "[encoded data removed]",
      "text/plain": [
       "<Figure size 648x432 with 1 Axes>"
      ]
     },
     "metadata": {
      "needs_background": "light"
     },
     "output_type": "display_data"
    }
   ],
   "source": [
    "plt.figure(figsize=(9,6))\n",
    "sns.histplot(x='age',data=positive_df)\n",
    "plt.title(\"Distribution of Positive Class Based on Age\", {'fontsize':20})"
   ]
  },
  {
   "cell_type": "code",
   "execution_count": 497,
   "metadata": {},
   "outputs": [
    {
     "data": {
      "text/plain": [
       "<matplotlib.legend.Legend at 0x2571f516ee0>"
      ]
     },
     "execution_count": 497,
     "metadata": {},
     "output_type": "execute_result"
    },
    {
     "data": {
      "image/png": "[encoded data removed]",
      "text/plain": [
       "<Figure size 576x576 with 1 Axes>"
      ]
     },
     "metadata": {},
     "output_type": "display_data"
    }
   ],
   "source": [
    "plt.figure(figsize=(8,8))\n",
    "plt.pie(x=positive_df.sex.value_counts(), labels=['Female','Male'], startangle=90,autopct='%.2f',shadow=True)\n",
    "plt.title(\"Positive Sex distribution\", {'fontsize':20})\n",
    "plt.legend()\n",
    "# 如何有理由的证明，女生比男生患病率高"
   ]
  },
  {
   "cell_type": "code",
   "execution_count": 498,
   "metadata": {},
   "outputs": [
    {
     "data": {
      "text/plain": [
       "<matplotlib.legend.Legend at 0x2571bbb5af0>"
      ]
     },
     "execution_count": 498,
     "metadata": {},
     "output_type": "execute_result"
    },
    {
     "data": {
      "image/png": "[encoded data removed]",
      "text/plain": [
       "<Figure size 576x576 with 1 Axes>"
      ]
     },
     "metadata": {},
     "output_type": "display_data"
    }
   ],
   "source": [
    "negative_df = data.loc[data.Target.isin(['negative'])]\n",
    "\n",
    "plt.figure(figsize=(8,8))\n",
    "plt.pie(x=negative_df.sex.value_counts(), labels=['Female','Male'], startangle=90,autopct='%.2f',shadow=True)\n",
    "plt.title(\"Negative Sex distribution\", {'fontsize':20})\n",
    "plt.legend()"
   ]
  },
  {
   "cell_type": "code",
   "execution_count": 485,
   "metadata": {},
   "outputs": [
    {
     "data": {
      "text/plain": [
       "<matplotlib.legend.Legend at 0x2571f191d90>"
      ]
     },
     "execution_count": 485,
     "metadata": {},
     "output_type": "execute_result"
    },
    {
     "data": {
      "image/png": "[encoded data removed]",
      "text/plain": [
       "<Figure size 576x576 with 1 Axes>"
      ]
     },
     "metadata": {},
     "output_type": "display_data"
    }
   ],
   "source": [
    "plt.figure(figsize=(8,8))\n",
    "plt.pie(x=positive_df.sick.value_counts(),labels=['Sick','Well'],autopct='%.2f',startangle=20,colors=['skyblue','red'],shadow=True,explode=[0,0.2])\n",
    "plt.title(\"Sick distribution\", {'fontsize':20})\n",
    "plt.legend()"
   ]
  },
  {
   "cell_type": "code",
   "execution_count": 486,
   "metadata": {},
   "outputs": [
    {
     "data": {
      "text/plain": [
       "<matplotlib.legend.Legend at 0x2572242ae50>"
      ]
     },
     "execution_count": 486,
     "metadata": {},
     "output_type": "execute_result"
    },
    {
     "data": {
      "image/png": "[encoded data removed]",
      "text/plain": [
       "<Figure size 576x576 with 1 Axes>"
      ]
     },
     "metadata": {},
     "output_type": "display_data"
    }
   ],
   "source": [
    "female_df = positive_df[positive_df.sex == 'F']\n",
    "# female_df = data[data.sex == 'F']\n",
    "plt.figure(figsize=(8,8))\n",
    "plt.pie(x=female_df.pregnant.value_counts(), labels=['False','True'], startangle=20,autopct='%.2f',shadow=True,explode=[0,0.2])\n",
    "plt.title(\"Pregnant distribution of female patients\", {'fontsize':20})\n",
    "plt.legend()\n",
    "# 关于怀孕的数据可以有些结论，比如甲低更多等。。。！之后再进行考证"
   ]
  },
  {
   "cell_type": "code",
   "execution_count": 487,
   "metadata": {},
   "outputs": [
    {
     "data": {
      "text/plain": [
       "<matplotlib.legend.Legend at 0x25722415940>"
      ]
     },
     "execution_count": 487,
     "metadata": {},
     "output_type": "execute_result"
    },
    {
     "data": {
      "image/png": "[encoded data removed]",
      "text/plain": [
       "<Figure size 576x576 with 1 Axes>"
      ]
     },
     "metadata": {},
     "output_type": "display_data"
    }
   ],
   "source": [
    "plt.figure(figsize=(8,8))\n",
    "plt.pie(x=positive_df['thyroid_surgery'].value_counts(),labels=['False','True'],autopct='%.2f',startangle=20,colors=['skyblue','red'],explode=[0,0.2])\n",
    "plt.title(\"Thyroid Surgery on positive class distribution\", {'fontsize':20})\n",
    "plt.legend()"
   ]
  },
  {
   "cell_type": "code",
   "execution_count": 507,
   "metadata": {},
   "outputs": [
    {
     "data": {
      "text/plain": [
       "negative        288\n",
       "hypothyroid      16\n",
       "hyperthyroid      4\n",
       "Name: Target, dtype: int64"
      ]
     },
     "execution_count": 507,
     "metadata": {},
     "output_type": "execute_result"
    }
   ],
   "source": [
    "has_thyroid_surgery = data.loc[data['thyroid_surgery'].isin(['t'])]\n",
    "has_thyroid_surgery['Target'].value_counts()"
   ]
  },
  {
   "cell_type": "code",
   "execution_count": 508,
   "metadata": {},
   "outputs": [
    {
     "data": {
      "text/plain": [
       "<matplotlib.legend.Legend at 0x2571f090220>"
      ]
     },
     "execution_count": 508,
     "metadata": {},
     "output_type": "execute_result"
    },
    {
     "data": {
      "image/png": "[encoded data removed]",
      "text/plain": [
       "<Figure size 576x576 with 1 Axes>"
      ]
     },
     "metadata": {},
     "output_type": "display_data"
    }
   ],
   "source": [
    "plt.figure(figsize=(8,8))\n",
    "plt.pie(x=has_thyroid_surgery['Target'].value_counts(),labels=['negative','hypothyroid','hyperthyroid'],autopct='%.2f',startangle=20,explode=[0,0.05,0.05])\n",
    "plt.title(\"get positive after thyroid surgery distribution\", {'fontsize':20})\n",
    "plt.legend()"
   ]
  },
  {
   "cell_type": "markdown",
   "metadata": {},
   "source": [
    "#### There is 6.49% patients suffering thyroid disease after they have done thyroid surgery. Therefore, 做了手术不一定能完全康复，印证了“保守治疗”这样的一个说法，因为这里的数据和上面的整体数据来比较，是一样的分布状态，也就是没什么变化。可以用统计分析来验证"
   ]
  },
  {
   "cell_type": "markdown",
   "metadata": {},
   "source": [
    "#### Results:\n",
    "- The age distribution is mainly between 20-80, especially around 60\n",
    "- The number of Female patients who has thyroid disease is extremely greater than male patients.\n",
    "- Only 2.81% patients do not feel sick, which means there is no symptoms\n",
    "- Only 0.79% femal patients have pregnant\n",
    "- 1.08% patients had thyroid surgery before, but they still have thyroid gland disease"
   ]
  },
  {
   "cell_type": "markdown",
   "metadata": {},
   "source": [
    "## Parameter Analysis"
   ]
  },
  {
   "cell_type": "code",
   "execution_count": 488,
   "metadata": {},
   "outputs": [],
   "source": [
    "para_cols = ['TSH','T3','TT4','T4U','FTI']"
   ]
  },
  {
   "cell_type": "markdown",
   "metadata": {},
   "source": [
    "#### Hyperthyroid parameter distribution "
   ]
  },
  {
   "cell_type": "code",
   "execution_count": 489,
   "metadata": {},
   "outputs": [],
   "source": [
    "hyper_df =  data.loc[data.Target.isin(['hyperthyroid'])]"
   ]
  },
  {
   "cell_type": "code",
   "execution_count": 490,
   "metadata": {},
   "outputs": [
    {
     "name": "stdout",
     "output_type": "stream",
     "text": [
      "Hyperthyroid parameters distribution:\n",
      "TSH      4.329293\n",
      "T3       2.869984\n",
      "TT4    120.413104\n",
      "T4U      4.458862\n",
      "FTI    132.706381\n",
      "dtype: float64\n"
     ]
    }
   ],
   "source": [
    "# Parameter distribution\n",
    "print('Hyperthyroid parameters distribution:')\n",
    "hyper_mean_para = hyper_df[para_cols].mean()\n",
    "print(hyper_mean_para)"
   ]
  },
  {
   "cell_type": "markdown",
   "metadata": {},
   "source": [
    "#### Hypothyroid parameter distribution"
   ]
  },
  {
   "cell_type": "code",
   "execution_count": 491,
   "metadata": {},
   "outputs": [],
   "source": [
    "hypo_df = data.loc[data.Target.isin(['hypothyroid'])]"
   ]
  },
  {
   "cell_type": "code",
   "execution_count": 492,
   "metadata": {},
   "outputs": [
    {
     "name": "stdout",
     "output_type": "stream",
     "text": [
      "Hypothyroid parameters distribution:\n",
      "TSH    34.242552\n",
      "T3      1.583171\n",
      "TT4    50.698421\n",
      "T4U     3.476892\n",
      "FTI    50.892223\n",
      "dtype: float64\n"
     ]
    }
   ],
   "source": [
    "# Parameter distribution\n",
    "print('Hypothyroid parameters distribution:')\n",
    "hypo_mean_para = hypo_df[para_cols].mean()\n",
    "print(hypo_mean_para)"
   ]
  },
  {
   "cell_type": "markdown",
   "metadata": {},
   "source": [
    "#### Negative parameter distribution"
   ]
  },
  {
   "cell_type": "code",
   "execution_count": 493,
   "metadata": {},
   "outputs": [],
   "source": [
    "negative_df = data.loc[data.Target.isin(['negative'])]"
   ]
  },
  {
   "cell_type": "code",
   "execution_count": 494,
   "metadata": {},
   "outputs": [
    {
     "name": "stdout",
     "output_type": "stream",
     "text": [
      "Negative parameters distribution:\n",
      "TSH     1.727045\n",
      "T3      2.004899\n",
      "TT4    71.664033\n",
      "T4U     4.292986\n",
      "FTI    73.534452\n",
      "dtype: float64\n"
     ]
    }
   ],
   "source": [
    "# Parameter distribution\n",
    "print('Negative parameters distribution:')\n",
    "negative_mean_para = negative_df[para_cols].mean()\n",
    "print(negative_mean_para)"
   ]
  },
  {
   "cell_type": "markdown",
   "metadata": {},
   "source": [
    "### Plot three classes"
   ]
  },
  {
   "cell_type": "code",
   "execution_count": 510,
   "metadata": {},
   "outputs": [
    {
     "data": {
      "image/png": "[encoded data removed]",
      "text/plain": [
       "<Figure size 720x720 with 1 Axes>"
      ]
     },
     "metadata": {
      "needs_background": "light"
     },
     "output_type": "display_data"
    }
   ],
   "source": [
    "x = np.arange(5)\n",
    "\n",
    "bar_width = 0.28\n",
    "tick_label = ['TSH', 'T3', 'TT4', 'T4U', 'FTI']\n",
    "\n",
    "plt.figure(figsize=(10,10))\n",
    "plt.bar(x, hyper_mean_para, bar_width, align=\"center\", label=\"Hyperthyroid\", alpha=0.7)\n",
    "plt.bar(x+bar_width, hypo_mean_para, bar_width, align=\"center\", label=\"Hyperthyroid\", alpha=0.7)\n",
    "plt.bar(x+2*bar_width, negative_mean_para, bar_width, align=\"center\", label=\"Negative\", alpha=0.7)\n",
    "\n",
    "plt.xticks(x+bar_width, tick_label)\n",
    "plt.legend()\n",
    "plt.show()"
   ]
  },
  {
   "cell_type": "markdown",
   "metadata": {},
   "source": [
    "### Results:\n",
    "According to the results above, we can know that:\n",
    "1. Hyperthyroid patients have extremely higher TSH\n",
    "2. Hyperthyroid patients have higher TT4 and FTI, but Hypothyroid patients have lower TT4 and FTI"
   ]
  },
  {
   "cell_type": "code",
   "execution_count": 227,
   "metadata": {},
   "outputs": [],
   "source": [
    "%matplotlib inline\n",
    "sns.set(rc={'figure.figsize': [8, 8]}, font_scale=1.2)"
   ]
  },
  {
   "cell_type": "code",
   "execution_count": 229,
   "metadata": {},
   "outputs": [
    {
     "data": {
      "text/plain": [
       "Text(0.5, 1.0, 'Distribution of TSH value')"
      ]
     },
     "execution_count": 229,
     "metadata": {},
     "output_type": "execute_result"
    },
    {
     "data": {
      "image/png": "[encoded data removed]",
      "text/plain": [
       "<Figure size 648x432 with 1 Axes>"
      ]
     },
     "metadata": {},
     "output_type": "display_data"
    }
   ],
   "source": [
    "plt.figure(figsize=(9,6))\n",
    "sns.distplot(negative_df['TSH'])\n",
    "plt.title(\"Distribution of TSH value\", {'fontsize':20})"
   ]
  },
  {
   "cell_type": "code",
   "execution_count": 230,
   "metadata": {
    "scrolled": true
   },
   "outputs": [
    {
     "data": {
      "text/plain": [
       "Text(0.5, 1.0, 'Distribution of T3 value')"
      ]
     },
     "execution_count": 230,
     "metadata": {},
     "output_type": "execute_result"
    },
    {
     "data": {
      "image/png": "[encoded data removed]",
      "text/plain": [
       "<Figure size 648x432 with 1 Axes>"
      ]
     },
     "metadata": {},
     "output_type": "display_data"
    }
   ],
   "source": [
    "plt.figure(figsize=(9,6))\n",
    "sns.distplot(negative_df['T3'])\n",
    "plt.title(\"Distribution of T3 value\", {'fontsize':20})"
   ]
  },
  {
   "cell_type": "code",
   "execution_count": 232,
   "metadata": {},
   "outputs": [
    {
     "data": {
      "text/plain": [
       "Text(0.5, 1.0, 'Distribution of TT4 value')"
      ]
     },
     "execution_count": 232,
     "metadata": {},
     "output_type": "execute_result"
    },
    {
     "data": {
      "image/png": "[encoded data removed]",
      "text/plain": [
       "<Figure size 648x432 with 1 Axes>"
      ]
     },
     "metadata": {},
     "output_type": "display_data"
    }
   ],
   "source": [
    "plt.figure(figsize=(9,6))\n",
    "sns.distplot(negative_df['TT4'])\n",
    "plt.title(\"Distribution of TT4 value\", {'fontsize':20})"
   ]
  },
  {
   "cell_type": "code",
   "execution_count": 234,
   "metadata": {},
   "outputs": [
    {
     "data": {
      "text/plain": [
       "Text(0.5, 1.0, 'Distribution of T4U value')"
      ]
     },
     "execution_count": 234,
     "metadata": {},
     "output_type": "execute_result"
    },
    {
     "data": {
      "image/png": "[encoded data removed]",
      "text/plain": [
       "<Figure size 648x432 with 1 Axes>"
      ]
     },
     "metadata": {},
     "output_type": "display_data"
    }
   ],
   "source": [
    "plt.figure(figsize=(9,6))\n",
    "sns.distplot(negative_df['T4U'])\n",
    "plt.title(\"Distribution of T4U value\", {'fontsize':20})"
   ]
  },
  {
   "cell_type": "code",
   "execution_count": 235,
   "metadata": {},
   "outputs": [
    {
     "data": {
      "text/plain": [
       "Text(0.5, 1.0, 'Distribution of FTI value')"
      ]
     },
     "execution_count": 235,
     "metadata": {},
     "output_type": "execute_result"
    },
    {
     "data": {
      "image/png": "[encoded data removed]",
      "text/plain": [
       "<Figure size 648x432 with 1 Axes>"
      ]
     },
     "metadata": {},
     "output_type": "display_data"
    }
   ],
   "source": [
    "plt.figure(figsize=(9,6))\n",
    "sns.distplot(negative_df['FTI'])\n",
    "plt.title(\"Distribution of FTI value\", {'fontsize':20})"
   ]
  },
  {
   "cell_type": "code",
   "execution_count": 74,
   "metadata": {},
   "outputs": [
    {
     "data": {
      "text/plain": [
       "(25447, 19)"
      ]
     },
     "execution_count": 74,
     "metadata": {},
     "output_type": "execute_result"
    }
   ],
   "source": [
    "data.shape"
   ]
  },
  {
   "cell_type": "code",
   "execution_count": null,
   "metadata": {},
   "outputs": [],
   "source": []
  }
 ],
 "metadata": {
  "kernelspec": {
   "display_name": "Python 3",
   "language": "python",
   "name": "python3"
  },
  "language_info": {
   "codemirror_mode": {
    "name": "ipython",
    "version": 3
   },
   "file_extension": ".py",
   "mimetype": "text/x-python",
   "name": "python",
   "nbconvert_exporter": "python",
   "pygments_lexer": "ipython3",
   "version": "3.8.5"
  }
 },
 "nbformat": 4,
 "nbformat_minor": 4
}
