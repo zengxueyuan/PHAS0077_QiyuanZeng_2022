{
 "cells": [
  {
   "cell_type": "markdown",
   "metadata": {},
   "source": [
    "# Thyroid Disease - Data Analysis"
   ]
  },
  {
   "cell_type": "markdown",
   "metadata": {},
   "source": [
    "## Project Description:\n",
    "Thyroid nodules are not uncommon whose incidence is increasing globally and the most common one is hypothyroidism. In hypothyroidism, the thyroid gland is underperforming or producing too little thyroid hormone. \n",
    "\n",
    "In its early stages, hypothyroidism may not cause any noticeable symptoms. Over time, untreated hypothyroidism can lead to cause a number of health problems, such as obesity, joint pain, infertility and heart disease. So it is important to recognize the symptoms of hypothyroidism and early detection and treatment.\n",
    "\n",
    "The thyroid gland is located at the front of the neck. It secretes two hormones known as thyroxine (T4) and tri-iodothyronine (T3). The release of T4 and T3 into the blood is controlled by a third hormone called thyroid stimulating hormone (TSH), this hormone is responsible for keeping FT4 and FT3 at the right levels. Collectively, these three hormones are referred to as ‘thyroid function tests’ (TFTs).\n",
    "\n",
    "The project will analyse the personal information and their hormonal indicators of the thyroid to detect whether they have hypothyroidism disease, using data to speak for itself. It is divided into three steps, project preparation - first introduction to the data - data analysis.  \n",
    "- The project preparation section imports the modules used and loads the data\n",
    "- The first look at the data section looks at the basic information and descriptive statistical characteristics of the data\n",
    "- The Data Analysis section analyses the types of Thyroid gland and distinguishing hyperthyroid and hypothyroid\n",
    "\n",
    "<img src=\"https://i.imgur.com/5cW3lGZ.gif?noredirect\" width=\"800px\">"
   ]
  },
  {
   "cell_type": "code",
   "execution_count": 162,
   "metadata": {},
   "outputs": [],
   "source": [
    "import numpy as np\n",
    "import pandas as pd\n",
    "import matplotlib.pyplot as plt\n",
    "import seaborn as sns\n",
    "from scipy import stats\n",
    "\n",
    "import warnings\n",
    "warnings.filterwarnings(\"ignore\")\n",
    " \n",
    "%matplotlib inline"
   ]
  },
  {
   "cell_type": "markdown",
   "metadata": {},
   "source": [
    "# Read dataset"
   ]
  },
  {
   "cell_type": "code",
   "execution_count": 163,
   "metadata": {},
   "outputs": [],
   "source": [
    "# read dataset\n",
    "data = pd.read_csv('Dataset_edited/new_data.csv')"
   ]
  },
  {
   "cell_type": "code",
   "execution_count": 164,
   "metadata": {},
   "outputs": [
    {
     "data": {
      "text/html": [
       "<div>\n",
       "<style scoped>\n",
       "    .dataframe tbody tr th:only-of-type {\n",
       "        vertical-align: middle;\n",
       "    }\n",
       "\n",
       "    .dataframe tbody tr th {\n",
       "        vertical-align: top;\n",
       "    }\n",
       "\n",
       "    .dataframe thead th {\n",
       "        text-align: right;\n",
       "    }\n",
       "</style>\n",
       "<table border=\"1\" class=\"dataframe\">\n",
       "  <thead>\n",
       "    <tr style=\"text-align: right;\">\n",
       "      <th></th>\n",
       "      <th>age</th>\n",
       "      <th>sex</th>\n",
       "      <th>on_thyroxine</th>\n",
       "      <th>query_on_thyroxine</th>\n",
       "      <th>on_antithyroid_medication</th>\n",
       "      <th>sick</th>\n",
       "      <th>pregnant</th>\n",
       "      <th>thyroid_surgery</th>\n",
       "      <th>query_hypothyroid</th>\n",
       "      <th>query_hyperthyroid</th>\n",
       "      <th>lithium</th>\n",
       "      <th>goitre</th>\n",
       "      <th>tumor</th>\n",
       "      <th>TSH</th>\n",
       "      <th>T3</th>\n",
       "      <th>TT4</th>\n",
       "      <th>T4U</th>\n",
       "      <th>FTI</th>\n",
       "      <th>Target</th>\n",
       "    </tr>\n",
       "  </thead>\n",
       "  <tbody>\n",
       "    <tr>\n",
       "      <th>0</th>\n",
       "      <td>41.0</td>\n",
       "      <td>F</td>\n",
       "      <td>f</td>\n",
       "      <td>f</td>\n",
       "      <td>f</td>\n",
       "      <td>f</td>\n",
       "      <td>f</td>\n",
       "      <td>f</td>\n",
       "      <td>f</td>\n",
       "      <td>f</td>\n",
       "      <td>f</td>\n",
       "      <td>f</td>\n",
       "      <td>f</td>\n",
       "      <td>1.30</td>\n",
       "      <td>2.5</td>\n",
       "      <td>125.0</td>\n",
       "      <td>1.14</td>\n",
       "      <td>109.0</td>\n",
       "      <td>negative</td>\n",
       "    </tr>\n",
       "    <tr>\n",
       "      <th>1</th>\n",
       "      <td>23.0</td>\n",
       "      <td>F</td>\n",
       "      <td>f</td>\n",
       "      <td>f</td>\n",
       "      <td>f</td>\n",
       "      <td>f</td>\n",
       "      <td>f</td>\n",
       "      <td>f</td>\n",
       "      <td>f</td>\n",
       "      <td>f</td>\n",
       "      <td>f</td>\n",
       "      <td>f</td>\n",
       "      <td>f</td>\n",
       "      <td>4.10</td>\n",
       "      <td>2.0</td>\n",
       "      <td>102.0</td>\n",
       "      <td>NaN</td>\n",
       "      <td>NaN</td>\n",
       "      <td>negative</td>\n",
       "    </tr>\n",
       "    <tr>\n",
       "      <th>2</th>\n",
       "      <td>46.0</td>\n",
       "      <td>M</td>\n",
       "      <td>f</td>\n",
       "      <td>f</td>\n",
       "      <td>f</td>\n",
       "      <td>f</td>\n",
       "      <td>f</td>\n",
       "      <td>f</td>\n",
       "      <td>f</td>\n",
       "      <td>f</td>\n",
       "      <td>f</td>\n",
       "      <td>f</td>\n",
       "      <td>f</td>\n",
       "      <td>0.98</td>\n",
       "      <td>NaN</td>\n",
       "      <td>109.0</td>\n",
       "      <td>0.91</td>\n",
       "      <td>120.0</td>\n",
       "      <td>negative</td>\n",
       "    </tr>\n",
       "    <tr>\n",
       "      <th>3</th>\n",
       "      <td>70.0</td>\n",
       "      <td>F</td>\n",
       "      <td>t</td>\n",
       "      <td>f</td>\n",
       "      <td>f</td>\n",
       "      <td>f</td>\n",
       "      <td>f</td>\n",
       "      <td>f</td>\n",
       "      <td>f</td>\n",
       "      <td>f</td>\n",
       "      <td>f</td>\n",
       "      <td>f</td>\n",
       "      <td>f</td>\n",
       "      <td>0.16</td>\n",
       "      <td>1.9</td>\n",
       "      <td>175.0</td>\n",
       "      <td>NaN</td>\n",
       "      <td>NaN</td>\n",
       "      <td>negative</td>\n",
       "    </tr>\n",
       "    <tr>\n",
       "      <th>4</th>\n",
       "      <td>70.0</td>\n",
       "      <td>F</td>\n",
       "      <td>f</td>\n",
       "      <td>f</td>\n",
       "      <td>f</td>\n",
       "      <td>f</td>\n",
       "      <td>f</td>\n",
       "      <td>f</td>\n",
       "      <td>f</td>\n",
       "      <td>f</td>\n",
       "      <td>f</td>\n",
       "      <td>f</td>\n",
       "      <td>f</td>\n",
       "      <td>0.72</td>\n",
       "      <td>1.2</td>\n",
       "      <td>61.0</td>\n",
       "      <td>0.87</td>\n",
       "      <td>70.0</td>\n",
       "      <td>negative</td>\n",
       "    </tr>\n",
       "    <tr>\n",
       "      <th>5</th>\n",
       "      <td>18.0</td>\n",
       "      <td>F</td>\n",
       "      <td>t</td>\n",
       "      <td>f</td>\n",
       "      <td>f</td>\n",
       "      <td>f</td>\n",
       "      <td>f</td>\n",
       "      <td>f</td>\n",
       "      <td>f</td>\n",
       "      <td>f</td>\n",
       "      <td>f</td>\n",
       "      <td>f</td>\n",
       "      <td>f</td>\n",
       "      <td>0.03</td>\n",
       "      <td>NaN</td>\n",
       "      <td>183.0</td>\n",
       "      <td>1.30</td>\n",
       "      <td>141.0</td>\n",
       "      <td>negative</td>\n",
       "    </tr>\n",
       "    <tr>\n",
       "      <th>6</th>\n",
       "      <td>59.0</td>\n",
       "      <td>F</td>\n",
       "      <td>f</td>\n",
       "      <td>f</td>\n",
       "      <td>f</td>\n",
       "      <td>f</td>\n",
       "      <td>f</td>\n",
       "      <td>f</td>\n",
       "      <td>f</td>\n",
       "      <td>f</td>\n",
       "      <td>f</td>\n",
       "      <td>f</td>\n",
       "      <td>f</td>\n",
       "      <td>NaN</td>\n",
       "      <td>NaN</td>\n",
       "      <td>72.0</td>\n",
       "      <td>0.92</td>\n",
       "      <td>78.0</td>\n",
       "      <td>negative</td>\n",
       "    </tr>\n",
       "    <tr>\n",
       "      <th>7</th>\n",
       "      <td>80.0</td>\n",
       "      <td>F</td>\n",
       "      <td>f</td>\n",
       "      <td>f</td>\n",
       "      <td>f</td>\n",
       "      <td>f</td>\n",
       "      <td>f</td>\n",
       "      <td>f</td>\n",
       "      <td>f</td>\n",
       "      <td>f</td>\n",
       "      <td>f</td>\n",
       "      <td>f</td>\n",
       "      <td>f</td>\n",
       "      <td>2.20</td>\n",
       "      <td>0.6</td>\n",
       "      <td>80.0</td>\n",
       "      <td>0.70</td>\n",
       "      <td>115.0</td>\n",
       "      <td>negative</td>\n",
       "    </tr>\n",
       "    <tr>\n",
       "      <th>8</th>\n",
       "      <td>66.0</td>\n",
       "      <td>F</td>\n",
       "      <td>f</td>\n",
       "      <td>f</td>\n",
       "      <td>f</td>\n",
       "      <td>f</td>\n",
       "      <td>f</td>\n",
       "      <td>f</td>\n",
       "      <td>f</td>\n",
       "      <td>f</td>\n",
       "      <td>f</td>\n",
       "      <td>f</td>\n",
       "      <td>t</td>\n",
       "      <td>0.60</td>\n",
       "      <td>2.2</td>\n",
       "      <td>123.0</td>\n",
       "      <td>0.93</td>\n",
       "      <td>132.0</td>\n",
       "      <td>negative</td>\n",
       "    </tr>\n",
       "    <tr>\n",
       "      <th>9</th>\n",
       "      <td>68.0</td>\n",
       "      <td>M</td>\n",
       "      <td>f</td>\n",
       "      <td>f</td>\n",
       "      <td>f</td>\n",
       "      <td>f</td>\n",
       "      <td>f</td>\n",
       "      <td>f</td>\n",
       "      <td>f</td>\n",
       "      <td>f</td>\n",
       "      <td>f</td>\n",
       "      <td>f</td>\n",
       "      <td>f</td>\n",
       "      <td>2.40</td>\n",
       "      <td>1.6</td>\n",
       "      <td>83.0</td>\n",
       "      <td>0.89</td>\n",
       "      <td>93.0</td>\n",
       "      <td>negative</td>\n",
       "    </tr>\n",
       "  </tbody>\n",
       "</table>\n",
       "</div>"
      ],
      "text/plain": [
       "    age sex on_thyroxine query_on_thyroxine on_antithyroid_medication sick  \\\n",
       "0  41.0   F            f                  f                         f    f   \n",
       "1  23.0   F            f                  f                         f    f   \n",
       "2  46.0   M            f                  f                         f    f   \n",
       "3  70.0   F            t                  f                         f    f   \n",
       "4  70.0   F            f                  f                         f    f   \n",
       "5  18.0   F            t                  f                         f    f   \n",
       "6  59.0   F            f                  f                         f    f   \n",
       "7  80.0   F            f                  f                         f    f   \n",
       "8  66.0   F            f                  f                         f    f   \n",
       "9  68.0   M            f                  f                         f    f   \n",
       "\n",
       "  pregnant thyroid_surgery query_hypothyroid query_hyperthyroid lithium  \\\n",
       "0        f               f                 f                  f       f   \n",
       "1        f               f                 f                  f       f   \n",
       "2        f               f                 f                  f       f   \n",
       "3        f               f                 f                  f       f   \n",
       "4        f               f                 f                  f       f   \n",
       "5        f               f                 f                  f       f   \n",
       "6        f               f                 f                  f       f   \n",
       "7        f               f                 f                  f       f   \n",
       "8        f               f                 f                  f       f   \n",
       "9        f               f                 f                  f       f   \n",
       "\n",
       "  goitre tumor   TSH   T3    TT4   T4U    FTI    Target  \n",
       "0      f     f  1.30  2.5  125.0  1.14  109.0  negative  \n",
       "1      f     f  4.10  2.0  102.0   NaN    NaN  negative  \n",
       "2      f     f  0.98  NaN  109.0  0.91  120.0  negative  \n",
       "3      f     f  0.16  1.9  175.0   NaN    NaN  negative  \n",
       "4      f     f  0.72  1.2   61.0  0.87   70.0  negative  \n",
       "5      f     f  0.03  NaN  183.0  1.30  141.0  negative  \n",
       "6      f     f   NaN  NaN   72.0  0.92   78.0  negative  \n",
       "7      f     f  2.20  0.6   80.0  0.70  115.0  negative  \n",
       "8      f     t  0.60  2.2  123.0  0.93  132.0  negative  \n",
       "9      f     f  2.40  1.6   83.0  0.89   93.0  negative  "
      ]
     },
     "execution_count": 164,
     "metadata": {},
     "output_type": "execute_result"
    }
   ],
   "source": [
    "data.head(10)"
   ]
  },
  {
   "cell_type": "code",
   "execution_count": 165,
   "metadata": {},
   "outputs": [
    {
     "data": {
      "text/plain": [
       "(25453, 19)"
      ]
     },
     "execution_count": 165,
     "metadata": {},
     "output_type": "execute_result"
    }
   ],
   "source": [
    "data.shape"
   ]
  },
  {
   "cell_type": "markdown",
   "metadata": {},
   "source": [
    "# Univariate data analysis"
   ]
  },
  {
   "cell_type": "code",
   "execution_count": 166,
   "metadata": {},
   "outputs": [
    {
     "name": "stdout",
     "output_type": "stream",
     "text": [
      "<class 'pandas.core.frame.DataFrame'>\n",
      "RangeIndex: 25453 entries, 0 to 25452\n",
      "Data columns (total 19 columns):\n",
      " #   Column                     Non-Null Count  Dtype  \n",
      "---  ------                     --------------  -----  \n",
      " 0   age                        21577 non-null  float64\n",
      " 1   sex                        24830 non-null  object \n",
      " 2   on_thyroxine               25453 non-null  object \n",
      " 3   query_on_thyroxine         25453 non-null  object \n",
      " 4   on_antithyroid_medication  25453 non-null  object \n",
      " 5   sick                       25453 non-null  object \n",
      " 6   pregnant                   25453 non-null  object \n",
      " 7   thyroid_surgery            25453 non-null  object \n",
      " 8   query_hypothyroid          25453 non-null  object \n",
      " 9   query_hyperthyroid         25453 non-null  object \n",
      " 10  lithium                    25453 non-null  object \n",
      " 11  goitre                     25453 non-null  object \n",
      " 12  tumor                      25453 non-null  object \n",
      " 13  TSH                        20097 non-null  float64\n",
      " 14  T3                         17583 non-null  float64\n",
      " 15  TT4                        20960 non-null  float64\n",
      " 16  T4U                        20327 non-null  float64\n",
      " 17  FTI                        20339 non-null  float64\n",
      " 18  Target                     25453 non-null  object \n",
      "dtypes: float64(6), object(13)\n",
      "memory usage: 3.7+ MB\n"
     ]
    }
   ],
   "source": [
    "data.info()"
   ]
  },
  {
   "cell_type": "markdown",
   "metadata": {},
   "source": [
    "### Data infomation\n",
    "1. The size: 3.7+ MB\n",
    "2. 25453 instances\n",
    "3. 19 columns"
   ]
  },
  {
   "cell_type": "markdown",
   "metadata": {},
   "source": [
    "## Data set description:\n",
    "<!-- * Kaggle[Data sets provided](https://www.kaggle.com/datasets/yasserhessein/thyroid-disease-data-set)\n",
    "From Garavan Institute\n",
    "Documentation: as given by Ross Quinlan\n",
    "6 databases from the Garavan Institute in Sydney, Australia\n",
    "Approximately the following for each database:\n",
    "\n",
    "2800 training (data) instances and 972 test instances\n",
    "Plenty of missing data\n",
    "29 or so attributes, either Boolean or continuously-valued\n",
    "\n",
    "The various hormonal indicators and personal information are saved in a CSV file format. -->\n",
    "\n",
    "* Data Dictionary\n",
    "    * **age**: continous, float64\n",
    "    * **sex**: Femal(F) or Male(M)\n",
    "    * **on thyroxine**: t/f\n",
    "    * **query on thyroxine**: t/f\n",
    "    * **on antithyroid medication**: t/f\n",
    "    * **sick**: t/f\n",
    "    * **pregnant**: t/f\n",
    "    * **thyroid surgery**: t/f\n",
    "    * **I131 treatment**: t/f\n",
    "    * **query hypothyroid**: t/f\n",
    "    * **query hyperthyroid**: t/f\n",
    "    * **lithium**: t/f\n",
    "    * **goitre**: t/f\n",
    "    * **tumor**: t/f\n",
    "    * **TSH**: Thyroid Stimulating Hormone, float64\n",
    "    * **T3**: Triiodothyronine which is a hormone that the thyroid gland produces, float64\n",
    "    * **TT4**: Thyroxine which is a type of thyroid hormone that regulates metabolism, float64\n",
    "    * **T4U**: , float64\n",
    "    * **FTI**: Free T4 Index, float64\n",
    "    * **Target**: negative, hyperthyroid, hypothyroid"
   ]
  },
  {
   "cell_type": "code",
   "execution_count": 167,
   "metadata": {},
   "outputs": [
    {
     "data": {
      "text/html": [
       "<div>\n",
       "<style scoped>\n",
       "    .dataframe tbody tr th:only-of-type {\n",
       "        vertical-align: middle;\n",
       "    }\n",
       "\n",
       "    .dataframe tbody tr th {\n",
       "        vertical-align: top;\n",
       "    }\n",
       "\n",
       "    .dataframe thead th {\n",
       "        text-align: right;\n",
       "    }\n",
       "</style>\n",
       "<table border=\"1\" class=\"dataframe\">\n",
       "  <thead>\n",
       "    <tr style=\"text-align: right;\">\n",
       "      <th></th>\n",
       "      <th>age</th>\n",
       "      <th>TSH</th>\n",
       "      <th>T3</th>\n",
       "      <th>TT4</th>\n",
       "      <th>T4U</th>\n",
       "      <th>FTI</th>\n",
       "    </tr>\n",
       "  </thead>\n",
       "  <tbody>\n",
       "    <tr>\n",
       "      <th>count</th>\n",
       "      <td>21577.000000</td>\n",
       "      <td>20097.000000</td>\n",
       "      <td>17583.000000</td>\n",
       "      <td>20960.000000</td>\n",
       "      <td>20327.000000</td>\n",
       "      <td>20339.000000</td>\n",
       "    </tr>\n",
       "    <tr>\n",
       "      <th>mean</th>\n",
       "      <td>60.813204</td>\n",
       "      <td>4.447303</td>\n",
       "      <td>2.006617</td>\n",
       "      <td>89.779328</td>\n",
       "      <td>2.641054</td>\n",
       "      <td>92.766267</td>\n",
       "    </tr>\n",
       "    <tr>\n",
       "      <th>std</th>\n",
       "      <td>772.129005</td>\n",
       "      <td>22.711850</td>\n",
       "      <td>0.831331</td>\n",
       "      <td>49.526017</td>\n",
       "      <td>3.574042</td>\n",
       "      <td>53.518300</td>\n",
       "    </tr>\n",
       "    <tr>\n",
       "      <th>min</th>\n",
       "      <td>1.000000</td>\n",
       "      <td>0.000000</td>\n",
       "      <td>0.000000</td>\n",
       "      <td>0.200000</td>\n",
       "      <td>0.000000</td>\n",
       "      <td>0.000000</td>\n",
       "    </tr>\n",
       "    <tr>\n",
       "      <th>25%</th>\n",
       "      <td>36.000000</td>\n",
       "      <td>0.189000</td>\n",
       "      <td>1.600000</td>\n",
       "      <td>69.000000</td>\n",
       "      <td>0.890000</td>\n",
       "      <td>73.000000</td>\n",
       "    </tr>\n",
       "    <tr>\n",
       "      <th>50%</th>\n",
       "      <td>54.000000</td>\n",
       "      <td>0.920000</td>\n",
       "      <td>2.000000</td>\n",
       "      <td>96.000000</td>\n",
       "      <td>1.010000</td>\n",
       "      <td>101.000000</td>\n",
       "    </tr>\n",
       "    <tr>\n",
       "      <th>75%</th>\n",
       "      <td>67.000000</td>\n",
       "      <td>2.300000</td>\n",
       "      <td>2.300000</td>\n",
       "      <td>118.000000</td>\n",
       "      <td>1.210000</td>\n",
       "      <td>120.000000</td>\n",
       "    </tr>\n",
       "    <tr>\n",
       "      <th>max</th>\n",
       "      <td>65526.000000</td>\n",
       "      <td>530.000000</td>\n",
       "      <td>18.000000</td>\n",
       "      <td>450.000000</td>\n",
       "      <td>23.200000</td>\n",
       "      <td>881.000000</td>\n",
       "    </tr>\n",
       "  </tbody>\n",
       "</table>\n",
       "</div>"
      ],
      "text/plain": [
       "                age           TSH            T3           TT4           T4U  \\\n",
       "count  21577.000000  20097.000000  17583.000000  20960.000000  20327.000000   \n",
       "mean      60.813204      4.447303      2.006617     89.779328      2.641054   \n",
       "std      772.129005     22.711850      0.831331     49.526017      3.574042   \n",
       "min        1.000000      0.000000      0.000000      0.200000      0.000000   \n",
       "25%       36.000000      0.189000      1.600000     69.000000      0.890000   \n",
       "50%       54.000000      0.920000      2.000000     96.000000      1.010000   \n",
       "75%       67.000000      2.300000      2.300000    118.000000      1.210000   \n",
       "max    65526.000000    530.000000     18.000000    450.000000     23.200000   \n",
       "\n",
       "                FTI  \n",
       "count  20339.000000  \n",
       "mean      92.766267  \n",
       "std       53.518300  \n",
       "min        0.000000  \n",
       "25%       73.000000  \n",
       "50%      101.000000  \n",
       "75%      120.000000  \n",
       "max      881.000000  "
      ]
     },
     "execution_count": 167,
     "metadata": {},
     "output_type": "execute_result"
    }
   ],
   "source": [
    "data.describe()"
   ]
  },
  {
   "cell_type": "markdown",
   "metadata": {},
   "source": [
    "## Handle Missing Valuea"
   ]
  },
  {
   "cell_type": "code",
   "execution_count": 168,
   "metadata": {},
   "outputs": [
    {
     "data": {
      "text/plain": [
       "age                          3876\n",
       "sex                           623\n",
       "on_thyroxine                    0\n",
       "query_on_thyroxine              0\n",
       "on_antithyroid_medication       0\n",
       "sick                            0\n",
       "pregnant                        0\n",
       "thyroid_surgery                 0\n",
       "query_hypothyroid               0\n",
       "query_hyperthyroid              0\n",
       "lithium                         0\n",
       "goitre                          0\n",
       "tumor                           0\n",
       "TSH                          5356\n",
       "T3                           7870\n",
       "TT4                          4493\n",
       "T4U                          5126\n",
       "FTI                          5114\n",
       "Target                          0\n",
       "dtype: int64"
      ]
     },
     "execution_count": 168,
     "metadata": {},
     "output_type": "execute_result"
    }
   ],
   "source": [
    "data.isnull().sum()"
   ]
  },
  {
   "cell_type": "markdown",
   "metadata": {},
   "source": [
    "### _age_ missing value"
   ]
  },
  {
   "cell_type": "code",
   "execution_count": 169,
   "metadata": {},
   "outputs": [
    {
     "data": {
      "text/plain": [
       "0.15228067418378974"
      ]
     },
     "execution_count": 169,
     "metadata": {},
     "output_type": "execute_result"
    }
   ],
   "source": [
    "(data.shape[0]-data['age'].count())/data.shape[0]"
   ]
  },
  {
   "cell_type": "code",
   "execution_count": 170,
   "metadata": {},
   "outputs": [
    {
     "data": {
      "text/html": [
       "<div>\n",
       "<style scoped>\n",
       "    .dataframe tbody tr th:only-of-type {\n",
       "        vertical-align: middle;\n",
       "    }\n",
       "\n",
       "    .dataframe tbody tr th {\n",
       "        vertical-align: top;\n",
       "    }\n",
       "\n",
       "    .dataframe thead th {\n",
       "        text-align: right;\n",
       "    }\n",
       "</style>\n",
       "<table border=\"1\" class=\"dataframe\">\n",
       "  <thead>\n",
       "    <tr style=\"text-align: right;\">\n",
       "      <th></th>\n",
       "      <th>Target</th>\n",
       "    </tr>\n",
       "    <tr>\n",
       "      <th>age</th>\n",
       "      <th></th>\n",
       "    </tr>\n",
       "  </thead>\n",
       "  <tbody>\n",
       "    <tr>\n",
       "      <th>1.0</th>\n",
       "      <td>34</td>\n",
       "    </tr>\n",
       "    <tr>\n",
       "      <th>2.0</th>\n",
       "      <td>19</td>\n",
       "    </tr>\n",
       "    <tr>\n",
       "      <th>3.0</th>\n",
       "      <td>2</td>\n",
       "    </tr>\n",
       "    <tr>\n",
       "      <th>4.0</th>\n",
       "      <td>5</td>\n",
       "    </tr>\n",
       "    <tr>\n",
       "      <th>5.0</th>\n",
       "      <td>5</td>\n",
       "    </tr>\n",
       "    <tr>\n",
       "      <th>...</th>\n",
       "      <td>...</td>\n",
       "    </tr>\n",
       "    <tr>\n",
       "      <th>98.0</th>\n",
       "      <td>1</td>\n",
       "    </tr>\n",
       "    <tr>\n",
       "      <th>455.0</th>\n",
       "      <td>3</td>\n",
       "    </tr>\n",
       "    <tr>\n",
       "      <th>65511.0</th>\n",
       "      <td>1</td>\n",
       "    </tr>\n",
       "    <tr>\n",
       "      <th>65512.0</th>\n",
       "      <td>1</td>\n",
       "    </tr>\n",
       "    <tr>\n",
       "      <th>65526.0</th>\n",
       "      <td>1</td>\n",
       "    </tr>\n",
       "  </tbody>\n",
       "</table>\n",
       "<p>109 rows × 1 columns</p>\n",
       "</div>"
      ],
      "text/plain": [
       "         Target\n",
       "age            \n",
       "1.0          34\n",
       "2.0          19\n",
       "3.0           2\n",
       "4.0           5\n",
       "5.0           5\n",
       "...         ...\n",
       "98.0          1\n",
       "455.0         3\n",
       "65511.0       1\n",
       "65512.0       1\n",
       "65526.0       1\n",
       "\n",
       "[109 rows x 1 columns]"
      ]
     },
     "execution_count": 170,
     "metadata": {},
     "output_type": "execute_result"
    }
   ],
   "source": [
    "data.groupby(['age'])[['Target']].count()"
   ]
  },
  {
   "cell_type": "markdown",
   "metadata": {},
   "source": [
    "It is impossible that age is more than 100. Therefore, delete these data"
   ]
  },
  {
   "cell_type": "code",
   "execution_count": 171,
   "metadata": {},
   "outputs": [],
   "source": [
    "data = data.drop(data[data['age']>100].index)"
   ]
  },
  {
   "cell_type": "code",
   "execution_count": 172,
   "metadata": {},
   "outputs": [
    {
     "data": {
      "text/plain": [
       "(25447, 19)"
      ]
     },
     "execution_count": 172,
     "metadata": {},
     "output_type": "execute_result"
    }
   ],
   "source": [
    "data.shape"
   ]
  },
  {
   "cell_type": "code",
   "execution_count": 173,
   "metadata": {},
   "outputs": [
    {
     "data": {
      "text/plain": [
       "age                             0\n",
       "sex                          3820\n",
       "on_thyroxine                 3876\n",
       "query_on_thyroxine           3876\n",
       "on_antithyroid_medication    3876\n",
       "sick                         3876\n",
       "pregnant                     3876\n",
       "thyroid_surgery              3876\n",
       "query_hypothyroid            3876\n",
       "query_hyperthyroid           3876\n",
       "lithium                      3876\n",
       "goitre                       3876\n",
       "tumor                        3876\n",
       "TSH                           406\n",
       "T3                            389\n",
       "TT4                           419\n",
       "T4U                           419\n",
       "FTI                           419\n",
       "Target                       3876\n",
       "dtype: int64"
      ]
     },
     "execution_count": 173,
     "metadata": {},
     "output_type": "execute_result"
    }
   ],
   "source": [
    "data[data['age'].isna()].count()"
   ]
  },
  {
   "cell_type": "code",
   "execution_count": 174,
   "metadata": {},
   "outputs": [
    {
     "data": {
      "text/html": [
       "<div>\n",
       "<style scoped>\n",
       "    .dataframe tbody tr th:only-of-type {\n",
       "        vertical-align: middle;\n",
       "    }\n",
       "\n",
       "    .dataframe tbody tr th {\n",
       "        vertical-align: top;\n",
       "    }\n",
       "\n",
       "    .dataframe thead th {\n",
       "        text-align: right;\n",
       "    }\n",
       "</style>\n",
       "<table border=\"1\" class=\"dataframe\">\n",
       "  <thead>\n",
       "    <tr style=\"text-align: right;\">\n",
       "      <th></th>\n",
       "      <th>Target</th>\n",
       "    </tr>\n",
       "    <tr>\n",
       "      <th>age</th>\n",
       "      <th></th>\n",
       "    </tr>\n",
       "  </thead>\n",
       "  <tbody>\n",
       "    <tr>\n",
       "      <th>1.0</th>\n",
       "      <td>34</td>\n",
       "    </tr>\n",
       "    <tr>\n",
       "      <th>2.0</th>\n",
       "      <td>19</td>\n",
       "    </tr>\n",
       "    <tr>\n",
       "      <th>3.0</th>\n",
       "      <td>2</td>\n",
       "    </tr>\n",
       "    <tr>\n",
       "      <th>4.0</th>\n",
       "      <td>5</td>\n",
       "    </tr>\n",
       "    <tr>\n",
       "      <th>5.0</th>\n",
       "      <td>5</td>\n",
       "    </tr>\n",
       "    <tr>\n",
       "      <th>...</th>\n",
       "      <td>...</td>\n",
       "    </tr>\n",
       "    <tr>\n",
       "      <th>93.0</th>\n",
       "      <td>10</td>\n",
       "    </tr>\n",
       "    <tr>\n",
       "      <th>94.0</th>\n",
       "      <td>8</td>\n",
       "    </tr>\n",
       "    <tr>\n",
       "      <th>95.0</th>\n",
       "      <td>1</td>\n",
       "    </tr>\n",
       "    <tr>\n",
       "      <th>97.0</th>\n",
       "      <td>4</td>\n",
       "    </tr>\n",
       "    <tr>\n",
       "      <th>98.0</th>\n",
       "      <td>1</td>\n",
       "    </tr>\n",
       "  </tbody>\n",
       "</table>\n",
       "<p>105 rows × 1 columns</p>\n",
       "</div>"
      ],
      "text/plain": [
       "      Target\n",
       "age         \n",
       "1.0       34\n",
       "2.0       19\n",
       "3.0        2\n",
       "4.0        5\n",
       "5.0        5\n",
       "...      ...\n",
       "93.0      10\n",
       "94.0       8\n",
       "95.0       1\n",
       "97.0       4\n",
       "98.0       1\n",
       "\n",
       "[105 rows x 1 columns]"
      ]
     },
     "execution_count": 174,
     "metadata": {},
     "output_type": "execute_result"
    }
   ],
   "source": [
    "data.groupby(['age'])[['Target']].count()"
   ]
  },
  {
   "cell_type": "code",
   "execution_count": 175,
   "metadata": {},
   "outputs": [
    {
     "data": {
      "text/plain": [
       "21571"
      ]
     },
     "execution_count": 175,
     "metadata": {},
     "output_type": "execute_result"
    }
   ],
   "source": [
    "data.age.count()"
   ]
  },
  {
   "cell_type": "markdown",
   "metadata": {},
   "source": [
    "1. The missing rate is: 1.76%\n",
    "2. The number of missing value: 448\n",
    "3. The number of non-missing value: 25005"
   ]
  },
  {
   "cell_type": "markdown",
   "metadata": {},
   "source": [
    "### _Sex_ missing value"
   ]
  },
  {
   "cell_type": "code",
   "execution_count": 176,
   "metadata": {},
   "outputs": [
    {
     "data": {
      "text/plain": [
       "0.02448225724053916"
      ]
     },
     "execution_count": 176,
     "metadata": {},
     "output_type": "execute_result"
    }
   ],
   "source": [
    "(data.shape[0]-data['sex'].count())/data.shape[0]"
   ]
  },
  {
   "cell_type": "code",
   "execution_count": 177,
   "metadata": {},
   "outputs": [
    {
     "data": {
      "text/plain": [
       "age                          567\n",
       "sex                            0\n",
       "on_thyroxine                 623\n",
       "query_on_thyroxine           623\n",
       "on_antithyroid_medication    623\n",
       "sick                         623\n",
       "pregnant                     623\n",
       "thyroid_surgery              623\n",
       "query_hypothyroid            623\n",
       "query_hyperthyroid           623\n",
       "lithium                      623\n",
       "goitre                       623\n",
       "tumor                        623\n",
       "TSH                          553\n",
       "T3                           491\n",
       "TT4                          571\n",
       "T4U                          549\n",
       "FTI                          549\n",
       "Target                       623\n",
       "dtype: int64"
      ]
     },
     "execution_count": 177,
     "metadata": {},
     "output_type": "execute_result"
    }
   ],
   "source": [
    "data[data['sex'].isna()].count()"
   ]
  },
  {
   "cell_type": "code",
   "execution_count": 178,
   "metadata": {},
   "outputs": [
    {
     "data": {
      "text/plain": [
       "24824"
      ]
     },
     "execution_count": 178,
     "metadata": {},
     "output_type": "execute_result"
    }
   ],
   "source": [
    "data.sex.count()"
   ]
  },
  {
   "cell_type": "code",
   "execution_count": 179,
   "metadata": {},
   "outputs": [
    {
     "data": {
      "text/html": [
       "<div>\n",
       "<style scoped>\n",
       "    .dataframe tbody tr th:only-of-type {\n",
       "        vertical-align: middle;\n",
       "    }\n",
       "\n",
       "    .dataframe tbody tr th {\n",
       "        vertical-align: top;\n",
       "    }\n",
       "\n",
       "    .dataframe thead th {\n",
       "        text-align: right;\n",
       "    }\n",
       "</style>\n",
       "<table border=\"1\" class=\"dataframe\">\n",
       "  <thead>\n",
       "    <tr style=\"text-align: right;\">\n",
       "      <th></th>\n",
       "      <th>Target</th>\n",
       "    </tr>\n",
       "    <tr>\n",
       "      <th>sex</th>\n",
       "      <th></th>\n",
       "    </tr>\n",
       "  </thead>\n",
       "  <tbody>\n",
       "    <tr>\n",
       "      <th>F</th>\n",
       "      <td>17047</td>\n",
       "    </tr>\n",
       "    <tr>\n",
       "      <th>M</th>\n",
       "      <td>7777</td>\n",
       "    </tr>\n",
       "  </tbody>\n",
       "</table>\n",
       "</div>"
      ],
      "text/plain": [
       "     Target\n",
       "sex        \n",
       "F     17047\n",
       "M      7777"
      ]
     },
     "execution_count": 179,
     "metadata": {},
     "output_type": "execute_result"
    }
   ],
   "source": [
    "data.groupby(['sex'])[['Target']].count()"
   ]
  },
  {
   "cell_type": "markdown",
   "metadata": {},
   "source": [
    "1. The missing rate is: 2.448%\n",
    "2. The number of missing value: 623\n",
    "3. The number of non-missing value: 24824 (17047 Female and 7777 Male)"
   ]
  },
  {
   "cell_type": "markdown",
   "metadata": {},
   "source": [
    "### _TSH_ Missing Value"
   ]
  },
  {
   "cell_type": "code",
   "execution_count": 180,
   "metadata": {},
   "outputs": [
    {
     "data": {
      "text/plain": [
       "0.2104766770149723"
      ]
     },
     "execution_count": 180,
     "metadata": {},
     "output_type": "execute_result"
    }
   ],
   "source": [
    "(data.shape[0]-data['TSH'].count())/data.shape[0]"
   ]
  },
  {
   "cell_type": "code",
   "execution_count": 181,
   "metadata": {},
   "outputs": [
    {
     "data": {
      "text/plain": [
       "age                          1886\n",
       "sex                          5286\n",
       "on_thyroxine                 5356\n",
       "query_on_thyroxine           5356\n",
       "on_antithyroid_medication    5356\n",
       "sick                         5356\n",
       "pregnant                     5356\n",
       "thyroid_surgery              5356\n",
       "query_hypothyroid            5356\n",
       "query_hyperthyroid           5356\n",
       "lithium                      5356\n",
       "goitre                       5356\n",
       "tumor                        5356\n",
       "TSH                             0\n",
       "T3                            457\n",
       "TT4                           985\n",
       "T4U                           958\n",
       "FTI                           958\n",
       "Target                       5356\n",
       "dtype: int64"
      ]
     },
     "execution_count": 181,
     "metadata": {},
     "output_type": "execute_result"
    }
   ],
   "source": [
    "data[data['TSH'].isna()].count()"
   ]
  },
  {
   "cell_type": "code",
   "execution_count": 182,
   "metadata": {},
   "outputs": [
    {
     "data": {
      "text/plain": [
       "20091"
      ]
     },
     "execution_count": 182,
     "metadata": {},
     "output_type": "execute_result"
    }
   ],
   "source": [
    "data.TSH.count()"
   ]
  },
  {
   "cell_type": "markdown",
   "metadata": {},
   "source": [
    "1. TSH missing rate: 7.577%\n",
    "2. TSH missed 1928 instances\n",
    "3. Non-missing: 23519 instances"
   ]
  },
  {
   "cell_type": "markdown",
   "metadata": {},
   "source": [
    "### _T3_ Missing Value"
   ]
  },
  {
   "cell_type": "code",
   "execution_count": 183,
   "metadata": {},
   "outputs": [
    {
     "data": {
      "text/plain": [
       "0.30923095060321454"
      ]
     },
     "execution_count": 183,
     "metadata": {},
     "output_type": "execute_result"
    }
   ],
   "source": [
    "(data.shape[0]-data['T3'].count())/data.shape[0]"
   ]
  },
  {
   "cell_type": "code",
   "execution_count": 184,
   "metadata": {},
   "outputs": [
    {
     "data": {
      "text/plain": [
       "age                          4382\n",
       "sex                          7737\n",
       "on_thyroxine                 7869\n",
       "query_on_thyroxine           7869\n",
       "on_antithyroid_medication    7869\n",
       "sick                         7869\n",
       "pregnant                     7869\n",
       "thyroid_surgery              7869\n",
       "query_hypothyroid            7869\n",
       "query_hyperthyroid           7869\n",
       "lithium                      7869\n",
       "goitre                       7869\n",
       "tumor                        7869\n",
       "TSH                          2970\n",
       "T3                              0\n",
       "TT4                          3524\n",
       "T4U                          3510\n",
       "FTI                          3511\n",
       "Target                       7869\n",
       "dtype: int64"
      ]
     },
     "execution_count": 184,
     "metadata": {},
     "output_type": "execute_result"
    }
   ],
   "source": [
    "data[data['T3'].isna()].count()"
   ]
  },
  {
   "cell_type": "code",
   "execution_count": 185,
   "metadata": {},
   "outputs": [
    {
     "data": {
      "text/plain": [
       "17578"
      ]
     },
     "execution_count": 185,
     "metadata": {},
     "output_type": "execute_result"
    }
   ],
   "source": [
    "data.T3.count()"
   ]
  },
  {
   "cell_type": "markdown",
   "metadata": {},
   "source": [
    "1. T3 missing rate: 17.452%\n",
    "2. T3 missed 4441 instances\n",
    "3. Non-missing: 21006 instances"
   ]
  },
  {
   "cell_type": "markdown",
   "metadata": {},
   "source": [
    "### _TT4_ Missing Value"
   ]
  },
  {
   "cell_type": "code",
   "execution_count": 186,
   "metadata": {},
   "outputs": [
    {
     "data": {
      "text/plain": [
       "0.17656305261916924"
      ]
     },
     "execution_count": 186,
     "metadata": {},
     "output_type": "execute_result"
    }
   ],
   "source": [
    "(data.shape[0]-data['TT4'].count())/data.shape[0]"
   ]
  },
  {
   "cell_type": "code",
   "execution_count": 187,
   "metadata": {},
   "outputs": [
    {
     "data": {
      "text/plain": [
       "age                          1036\n",
       "sex                          4441\n",
       "on_thyroxine                 4493\n",
       "query_on_thyroxine           4493\n",
       "on_antithyroid_medication    4493\n",
       "sick                         4493\n",
       "pregnant                     4493\n",
       "thyroid_surgery              4493\n",
       "query_hypothyroid            4493\n",
       "query_hyperthyroid           4493\n",
       "lithium                      4493\n",
       "goitre                       4493\n",
       "tumor                        4493\n",
       "TSH                           122\n",
       "T3                            148\n",
       "TT4                             0\n",
       "T4U                             9\n",
       "FTI                            17\n",
       "Target                       4493\n",
       "dtype: int64"
      ]
     },
     "execution_count": 187,
     "metadata": {},
     "output_type": "execute_result"
    }
   ],
   "source": [
    "data[data['TT4'].isna()].count()"
   ]
  },
  {
   "cell_type": "code",
   "execution_count": 188,
   "metadata": {},
   "outputs": [
    {
     "data": {
      "text/plain": [
       "20954"
      ]
     },
     "execution_count": 188,
     "metadata": {},
     "output_type": "execute_result"
    }
   ],
   "source": [
    "data.TT4.count()"
   ]
  },
  {
   "cell_type": "markdown",
   "metadata": {},
   "source": [
    "1. TT4 missing rate: 4.185%\n",
    "2. TT4 missed 1065 instances\n",
    "3. Non-missing: 24382 instances"
   ]
  },
  {
   "cell_type": "markdown",
   "metadata": {},
   "source": [
    "### _T4U_ Missing Value"
   ]
  },
  {
   "cell_type": "code",
   "execution_count": 189,
   "metadata": {},
   "outputs": [
    {
     "data": {
      "text/plain": [
       "0.20143828349117773"
      ]
     },
     "execution_count": 189,
     "metadata": {},
     "output_type": "execute_result"
    }
   ],
   "source": [
    "(data.shape[0]-data['T4U'].count())/data.shape[0]"
   ]
  },
  {
   "cell_type": "code",
   "execution_count": 190,
   "metadata": {},
   "outputs": [
    {
     "data": {
      "text/plain": [
       "age                          1669\n",
       "sex                          5052\n",
       "on_thyroxine                 5126\n",
       "query_on_thyroxine           5126\n",
       "on_antithyroid_medication    5126\n",
       "sick                         5126\n",
       "pregnant                     5126\n",
       "thyroid_surgery              5126\n",
       "query_hypothyroid            5126\n",
       "query_hyperthyroid           5126\n",
       "lithium                      5126\n",
       "goitre                       5126\n",
       "tumor                        5126\n",
       "TSH                           728\n",
       "T3                            767\n",
       "TT4                           642\n",
       "T4U                             0\n",
       "FTI                            13\n",
       "Target                       5126\n",
       "dtype: int64"
      ]
     },
     "execution_count": 190,
     "metadata": {},
     "output_type": "execute_result"
    }
   ],
   "source": [
    "data[data['T4U'].isna()].count()"
   ]
  },
  {
   "cell_type": "code",
   "execution_count": 191,
   "metadata": {},
   "outputs": [
    {
     "data": {
      "text/plain": [
       "20321"
      ]
     },
     "execution_count": 191,
     "metadata": {},
     "output_type": "execute_result"
    }
   ],
   "source": [
    "data.T4U.count()"
   ]
  },
  {
   "cell_type": "markdown",
   "metadata": {},
   "source": [
    "1. T4U missing rate: 6.673%\n",
    "2. T4U missed 1698 instances\n",
    "3. Non-missing: 23749 instances"
   ]
  },
  {
   "cell_type": "markdown",
   "metadata": {},
   "source": [
    "### _FTI_ Missing Value"
   ]
  },
  {
   "cell_type": "code",
   "execution_count": 192,
   "metadata": {},
   "outputs": [
    {
     "data": {
      "text/plain": [
       "0.20096671513341455"
      ]
     },
     "execution_count": 192,
     "metadata": {},
     "output_type": "execute_result"
    }
   ],
   "source": [
    "(data.shape[0]-data['FTI'].count())/data.shape[0]"
   ]
  },
  {
   "cell_type": "code",
   "execution_count": 193,
   "metadata": {},
   "outputs": [
    {
     "data": {
      "text/plain": [
       "age                          1657\n",
       "sex                          5040\n",
       "on_thyroxine                 5114\n",
       "query_on_thyroxine           5114\n",
       "on_antithyroid_medication    5114\n",
       "sick                         5114\n",
       "pregnant                     5114\n",
       "thyroid_surgery              5114\n",
       "query_hypothyroid            5114\n",
       "query_hyperthyroid           5114\n",
       "lithium                      5114\n",
       "goitre                       5114\n",
       "tumor                        5114\n",
       "TSH                           716\n",
       "T3                            756\n",
       "TT4                           638\n",
       "T4U                             1\n",
       "FTI                             0\n",
       "Target                       5114\n",
       "dtype: int64"
      ]
     },
     "execution_count": 193,
     "metadata": {},
     "output_type": "execute_result"
    }
   ],
   "source": [
    "data[data['FTI'].isna()].count()"
   ]
  },
  {
   "cell_type": "code",
   "execution_count": 194,
   "metadata": {},
   "outputs": [
    {
     "data": {
      "text/plain": [
       "20333"
      ]
     },
     "execution_count": 194,
     "metadata": {},
     "output_type": "execute_result"
    }
   ],
   "source": [
    "data.FTI.count()"
   ]
  },
  {
   "cell_type": "markdown",
   "metadata": {},
   "source": [
    "1. FTI missing rate: 6.626%\n",
    "2. FTI missed 1686 instances\n",
    "3. Non-missing: 23761 instances"
   ]
  },
  {
   "cell_type": "markdown",
   "metadata": {},
   "source": [
    "# How to handle the missing value!?....???????"
   ]
  },
  {
   "cell_type": "code",
   "execution_count": 195,
   "metadata": {},
   "outputs": [],
   "source": [
    "# miss_cols = ['TSH','T3','TT4','T4U','FTI']\n",
    "# for i in miss_cols:\n",
    "#     data[i] = data[i].fillna(data[i].mean())"
   ]
  },
  {
   "cell_type": "code",
   "execution_count": 196,
   "metadata": {},
   "outputs": [],
   "source": [
    "# # Delete the null value in age and sex\n",
    "# thyroid_df.dropna(inplace=True)"
   ]
  },
  {
   "cell_type": "code",
   "execution_count": 197,
   "metadata": {},
   "outputs": [
    {
     "data": {
      "text/plain": [
       "age                          3876\n",
       "sex                           623\n",
       "on_thyroxine                    0\n",
       "query_on_thyroxine              0\n",
       "on_antithyroid_medication       0\n",
       "sick                            0\n",
       "pregnant                        0\n",
       "thyroid_surgery                 0\n",
       "query_hypothyroid               0\n",
       "query_hyperthyroid              0\n",
       "lithium                         0\n",
       "goitre                          0\n",
       "tumor                           0\n",
       "TSH                          5356\n",
       "T3                           7869\n",
       "TT4                          4493\n",
       "T4U                          5126\n",
       "FTI                          5114\n",
       "Target                          0\n",
       "dtype: int64"
      ]
     },
     "execution_count": 197,
     "metadata": {},
     "output_type": "execute_result"
    }
   ],
   "source": [
    "data.isnull().sum()"
   ]
  },
  {
   "cell_type": "markdown",
   "metadata": {},
   "source": [
    "# Data Distribution"
   ]
  },
  {
   "cell_type": "markdown",
   "metadata": {},
   "source": [
    "### Statistical infomation"
   ]
  },
  {
   "cell_type": "code",
   "execution_count": 198,
   "metadata": {},
   "outputs": [
    {
     "data": {
      "text/html": [
       "<div>\n",
       "<style scoped>\n",
       "    .dataframe tbody tr th:only-of-type {\n",
       "        vertical-align: middle;\n",
       "    }\n",
       "\n",
       "    .dataframe tbody tr th {\n",
       "        vertical-align: top;\n",
       "    }\n",
       "\n",
       "    .dataframe thead th {\n",
       "        text-align: right;\n",
       "    }\n",
       "</style>\n",
       "<table border=\"1\" class=\"dataframe\">\n",
       "  <thead>\n",
       "    <tr style=\"text-align: right;\">\n",
       "      <th></th>\n",
       "      <th>age</th>\n",
       "      <th>TSH</th>\n",
       "      <th>T3</th>\n",
       "      <th>TT4</th>\n",
       "      <th>T4U</th>\n",
       "      <th>FTI</th>\n",
       "    </tr>\n",
       "  </thead>\n",
       "  <tbody>\n",
       "    <tr>\n",
       "      <th>count</th>\n",
       "      <td>21571.000000</td>\n",
       "      <td>20091.000000</td>\n",
       "      <td>17578.000000</td>\n",
       "      <td>20954.000000</td>\n",
       "      <td>20321.000000</td>\n",
       "      <td>20333.000000</td>\n",
       "    </tr>\n",
       "    <tr>\n",
       "      <th>mean</th>\n",
       "      <td>51.655116</td>\n",
       "      <td>4.448372</td>\n",
       "      <td>2.006573</td>\n",
       "      <td>89.771104</td>\n",
       "      <td>2.641522</td>\n",
       "      <td>92.760296</td>\n",
       "    </tr>\n",
       "    <tr>\n",
       "      <th>std</th>\n",
       "      <td>18.891287</td>\n",
       "      <td>22.715155</td>\n",
       "      <td>0.831427</td>\n",
       "      <td>49.530599</td>\n",
       "      <td>3.574465</td>\n",
       "      <td>53.524617</td>\n",
       "    </tr>\n",
       "    <tr>\n",
       "      <th>min</th>\n",
       "      <td>1.000000</td>\n",
       "      <td>0.000000</td>\n",
       "      <td>0.000000</td>\n",
       "      <td>0.200000</td>\n",
       "      <td>0.000000</td>\n",
       "      <td>0.000000</td>\n",
       "    </tr>\n",
       "    <tr>\n",
       "      <th>25%</th>\n",
       "      <td>36.000000</td>\n",
       "      <td>0.189000</td>\n",
       "      <td>1.600000</td>\n",
       "      <td>69.000000</td>\n",
       "      <td>0.890000</td>\n",
       "      <td>73.000000</td>\n",
       "    </tr>\n",
       "    <tr>\n",
       "      <th>50%</th>\n",
       "      <td>54.000000</td>\n",
       "      <td>0.920000</td>\n",
       "      <td>2.000000</td>\n",
       "      <td>96.000000</td>\n",
       "      <td>1.010000</td>\n",
       "      <td>101.000000</td>\n",
       "    </tr>\n",
       "    <tr>\n",
       "      <th>75%</th>\n",
       "      <td>67.000000</td>\n",
       "      <td>2.300000</td>\n",
       "      <td>2.300000</td>\n",
       "      <td>118.000000</td>\n",
       "      <td>1.210000</td>\n",
       "      <td>120.000000</td>\n",
       "    </tr>\n",
       "    <tr>\n",
       "      <th>max</th>\n",
       "      <td>98.000000</td>\n",
       "      <td>530.000000</td>\n",
       "      <td>18.000000</td>\n",
       "      <td>450.000000</td>\n",
       "      <td>23.200000</td>\n",
       "      <td>881.000000</td>\n",
       "    </tr>\n",
       "  </tbody>\n",
       "</table>\n",
       "</div>"
      ],
      "text/plain": [
       "                age           TSH            T3           TT4           T4U  \\\n",
       "count  21571.000000  20091.000000  17578.000000  20954.000000  20321.000000   \n",
       "mean      51.655116      4.448372      2.006573     89.771104      2.641522   \n",
       "std       18.891287     22.715155      0.831427     49.530599      3.574465   \n",
       "min        1.000000      0.000000      0.000000      0.200000      0.000000   \n",
       "25%       36.000000      0.189000      1.600000     69.000000      0.890000   \n",
       "50%       54.000000      0.920000      2.000000     96.000000      1.010000   \n",
       "75%       67.000000      2.300000      2.300000    118.000000      1.210000   \n",
       "max       98.000000    530.000000     18.000000    450.000000     23.200000   \n",
       "\n",
       "                FTI  \n",
       "count  20333.000000  \n",
       "mean      92.760296  \n",
       "std       53.524617  \n",
       "min        0.000000  \n",
       "25%       73.000000  \n",
       "50%      101.000000  \n",
       "75%      120.000000  \n",
       "max      881.000000  "
      ]
     },
     "execution_count": 198,
     "metadata": {},
     "output_type": "execute_result"
    }
   ],
   "source": [
    "data.describe()"
   ]
  },
  {
   "cell_type": "markdown",
   "metadata": {},
   "source": [
    "### positive(hypothyroid, hyperthyroid) vs Negative label"
   ]
  },
  {
   "cell_type": "code",
   "execution_count": 199,
   "metadata": {},
   "outputs": [
    {
     "name": "stdout",
     "output_type": "stream",
     "text": [
      "The number of target：\n",
      "negative        23594\n",
      "hypothyroid      1403\n",
      "hyperthyroid      450\n",
      "Name: Target, dtype: int64\n"
     ]
    },
    {
     "data": {
      "text/plain": [
       "Text(0.5, 1.0, 'Distribution for Target variable')"
      ]
     },
     "execution_count": 199,
     "metadata": {},
     "output_type": "execute_result"
    },
    {
     "data": {
      "image/png": "[encoded data removed]",
      "text/plain": [
       "<Figure size 864x432 with 2 Axes>"
      ]
     },
     "metadata": {
      "needs_background": "light"
     },
     "output_type": "display_data"
    }
   ],
   "source": [
    "print('The number of target：')\n",
    "print(data.Target.value_counts())\n",
    "\n",
    "_,axe = plt.subplots(1,2,figsize=(12,6))\n",
    "sns.countplot('Target',data=data,ax=axe[0])\n",
    "data.Target.value_counts().plot(kind='pie',autopct='%1.1f%%',shadow=True,explode=[0,0.1,0.1],ax=axe[1])\n",
    "plt.title(\"Distribution for Target variable\")"
   ]
  },
  {
   "cell_type": "markdown",
   "metadata": {},
   "source": [
    "As can be seen from the above graph, the distribution of samples is uneven and certain measures are needed to deal with the sample imbalance:\n",
    "**\n",
    "- Similar to undersampling, a positive sample and a negative sample are combined to form a multi-sample training set, and multiple models are trained and averaged\n",
    "- Adjusting the weights of the model"
   ]
  },
  {
   "cell_type": "markdown",
   "metadata": {},
   "source": [
    "### Distribution for other variables of positive class"
   ]
  },
  {
   "cell_type": "code",
   "execution_count": 200,
   "metadata": {},
   "outputs": [],
   "source": [
    "positive_df = data.loc[data.Target.isin(['hyperthyroid','hypothyroid'])]"
   ]
  },
  {
   "cell_type": "code",
   "execution_count": 201,
   "metadata": {},
   "outputs": [
    {
     "data": {
      "text/plain": [
       "Text(0.5, 1.0, 'Distribution of Positive Class Based on Age')"
      ]
     },
     "execution_count": 201,
     "metadata": {},
     "output_type": "execute_result"
    },
    {
     "data": {
      "image/png": "[encoded data removed]",
      "text/plain": [
       "<Figure size 648x432 with 1 Axes>"
      ]
     },
     "metadata": {
      "needs_background": "light"
     },
     "output_type": "display_data"
    }
   ],
   "source": [
    "plt.figure(figsize=(9,6))\n",
    "sns.histplot(x='age',data=positive_df)\n",
    "plt.title(\"Distribution of Positive Class Based on Age\", {'fontsize':20})"
   ]
  },
  {
   "cell_type": "code",
   "execution_count": 202,
   "metadata": {},
   "outputs": [
    {
     "data": {
      "text/plain": [
       "<matplotlib.legend.Legend at 0x11b32cc4400>"
      ]
     },
     "execution_count": 202,
     "metadata": {},
     "output_type": "execute_result"
    },
    {
     "data": {
      "image/png": "[encoded data removed]",
      "text/plain": [
       "<Figure size 576x576 with 1 Axes>"
      ]
     },
     "metadata": {},
     "output_type": "display_data"
    }
   ],
   "source": [
    "plt.figure(figsize=(8,8))\n",
    "plt.pie(x=positive_df.sex.value_counts(), labels=['Femal','Male'], startangle=90,autopct='%.2f',shadow=True)\n",
    "plt.title(\"Sex distribution\", {'fontsize':20})\n",
    "plt.legend()"
   ]
  },
  {
   "cell_type": "code",
   "execution_count": 205,
   "metadata": {},
   "outputs": [
    {
     "data": {
      "text/plain": [
       "<matplotlib.legend.Legend at 0x11b33354c70>"
      ]
     },
     "execution_count": 205,
     "metadata": {},
     "output_type": "execute_result"
    },
    {
     "data": {
      "image/png": "[encoded data removed]",
      "text/plain": [
       "<Figure size 576x576 with 1 Axes>"
      ]
     },
     "metadata": {},
     "output_type": "display_data"
    }
   ],
   "source": [
    "plt.figure(figsize=(8,8))\n",
    "plt.pie(x=positive_df.sick.value_counts(),labels=['Sick','Well'],autopct='%.2f',startangle=20,colors=['skyblue','red'],shadow=True,explode=[0,0.2])\n",
    "plt.title(\"Sick distribution\", {'fontsize':20})\n",
    "plt.legend()"
   ]
  },
  {
   "cell_type": "code",
   "execution_count": 206,
   "metadata": {},
   "outputs": [
    {
     "data": {
      "text/plain": [
       "<matplotlib.legend.Legend at 0x11b333cb760>"
      ]
     },
     "execution_count": 206,
     "metadata": {},
     "output_type": "execute_result"
    },
    {
     "data": {
      "image/png": "[encoded data removed]",
      "text/plain": [
       "<Figure size 576x576 with 1 Axes>"
      ]
     },
     "metadata": {},
     "output_type": "display_data"
    }
   ],
   "source": [
    "female_df = positive_df[positive_df.sex == 'F']\n",
    "plt.figure(figsize=(8,8))\n",
    "plt.pie(x=female_df.pregnant.value_counts(), labels=['False','True'], startangle=20,autopct='%.2f',shadow=True,explode=[0,0.2])\n",
    "plt.title(\"Pregnant distribution of femal patients\", {'fontsize':20})\n",
    "plt.legend()"
   ]
  },
  {
   "cell_type": "code",
   "execution_count": 208,
   "metadata": {},
   "outputs": [
    {
     "data": {
      "text/plain": [
       "<matplotlib.legend.Legend at 0x11b34a40280>"
      ]
     },
     "execution_count": 208,
     "metadata": {},
     "output_type": "execute_result"
    },
    {
     "data": {
      "image/png": "[encoded data removed]",
      "text/plain": [
       "<Figure size 576x576 with 1 Axes>"
      ]
     },
     "metadata": {},
     "output_type": "display_data"
    }
   ],
   "source": [
    "plt.figure(figsize=(8,8))\n",
    "plt.pie(x=positive_df['thyroid_surgery'].value_counts(),labels=['False','True'],autopct='%.2f',startangle=20,colors=['skyblue','red'],explode=[0,0.2])\n",
    "plt.title(\"Thyroid Surgery distribution\", {'fontsize':20})\n",
    "plt.legend()"
   ]
  },
  {
   "cell_type": "markdown",
   "metadata": {},
   "source": [
    "#### Results:\n",
    "- The age distribution is mainly between 20-80, especially around 60\n",
    "- The number of Female patients who has thyroid disease is extremely greater than male patients.\n",
    "- Only 2.81% patients do not feel sick, which means there is no symptoms\n",
    "- Only 0.79% femal patients have pregnant\n",
    "- 1.08% patients had thyroid surgery before, but they still have thyroid gland disease"
   ]
  },
  {
   "cell_type": "markdown",
   "metadata": {},
   "source": [
    "## Parameter Analysis"
   ]
  },
  {
   "cell_type": "code",
   "execution_count": 212,
   "metadata": {},
   "outputs": [],
   "source": [
    "para_cols = ['TSH','T3','TT4','T4U','FTI']"
   ]
  },
  {
   "cell_type": "markdown",
   "metadata": {},
   "source": [
    "### Hyperthyroid parameter distribution "
   ]
  },
  {
   "cell_type": "code",
   "execution_count": 213,
   "metadata": {},
   "outputs": [],
   "source": [
    "hyper_df =  data.loc[data.Target.isin(['hyperthyroid'])]"
   ]
  },
  {
   "cell_type": "code",
   "execution_count": 216,
   "metadata": {},
   "outputs": [
    {
     "name": "stdout",
     "output_type": "stream",
     "text": [
      "Hyperthyroid parameters distribution:\n",
      "TSH      3.113533\n",
      "T3       3.424756\n",
      "TT4    143.124748\n",
      "T4U      3.321135\n",
      "FTI    159.392614\n",
      "dtype: float64\n"
     ]
    }
   ],
   "source": [
    "# Parameter distribution\n",
    "print('Hyperthyroid parameters distribution:')\n",
    "hyper_mean_para = hyper_df[para_cols].mean()\n",
    "print(hyper_mean_para)"
   ]
  },
  {
   "cell_type": "code",
   "execution_count": 217,
   "metadata": {},
   "outputs": [
    {
     "data": {
      "image/png": "[encoded data removed]",
      "text/plain": [
       "<Figure size 720x576 with 1 Axes>"
      ]
     },
     "metadata": {
      "needs_background": "light"
     },
     "output_type": "display_data"
    }
   ],
   "source": [
    "plt.figure(figsize=(10,8))\n",
    "index = np.arange(len(hyper_mean_para.index))\n",
    "plt.bar(para_cols, hyper_mean_para)\n",
    "plt.xticks(index, hyper_mean_para.index)\n",
    "plt.title('Hyperthyroid parameter mean value')\n",
    "plt.show()"
   ]
  },
  {
   "cell_type": "markdown",
   "metadata": {},
   "source": [
    "### Hypothyroid parameter distribution"
   ]
  },
  {
   "cell_type": "code",
   "execution_count": 219,
   "metadata": {},
   "outputs": [],
   "source": [
    "hypo_df = data.loc[data.Target.isin(['hypothyroid'])]"
   ]
  },
  {
   "cell_type": "code",
   "execution_count": 220,
   "metadata": {},
   "outputs": [
    {
     "name": "stdout",
     "output_type": "stream",
     "text": [
      "Hypothyroid parameters distribution:\n",
      "TSH    39.049346\n",
      "T3      1.470100\n",
      "TT4    56.453447\n",
      "T4U     2.501763\n",
      "FTI    55.798406\n",
      "dtype: float64\n"
     ]
    }
   ],
   "source": [
    "# Parameter distribution\n",
    "print('Hypothyroid parameters distribution:')\n",
    "hypo_mean_para = hypo_df[para_cols].mean()\n",
    "print(hypo_mean_para)"
   ]
  },
  {
   "cell_type": "code",
   "execution_count": 221,
   "metadata": {},
   "outputs": [
    {
     "data": {
      "image/png": "[encoded data removed]",
      "text/plain": [
       "<Figure size 720x576 with 1 Axes>"
      ]
     },
     "metadata": {
      "needs_background": "light"
     },
     "output_type": "display_data"
    }
   ],
   "source": [
    "plt.figure(figsize=(10,8))\n",
    "index = np.arange(len(hypo_mean_para.index))\n",
    "plt.bar(para_cols, hypo_mean_para)\n",
    "plt.xticks(index, hypo_mean_para.index)\n",
    "plt.title('Hypothyroid parameter mean value')\n",
    "plt.show()"
   ]
  },
  {
   "cell_type": "code",
   "execution_count": null,
   "metadata": {},
   "outputs": [],
   "source": []
  }
 ],
 "metadata": {
  "kernelspec": {
   "display_name": "Python 3",
   "language": "python",
   "name": "python3"
  },
  "language_info": {
   "codemirror_mode": {
    "name": "ipython",
    "version": 3
   },
   "file_extension": ".py",
   "mimetype": "text/x-python",
   "name": "python",
   "nbconvert_exporter": "python",
   "pygments_lexer": "ipython3",
   "version": "3.8.5"
  }
 },
 "nbformat": 4,
 "nbformat_minor": 4
}
