{
 "cells": [
  {
   "cell_type": "markdown",
   "metadata": {},
   "source": [
    "# Introduction\n",
    "In this section, we will process some models using processed data"
   ]
  },
  {
   "cell_type": "code",
   "execution_count": 38,
   "metadata": {},
   "outputs": [],
   "source": [
    "import numpy as np\n",
    "import pandas as pd\n",
    "import matplotlib.pyplot as plt\n",
    "import seaborn as sns\n",
    "from scipy import stats\n",
    "from sklearn.model_selection import train_test_split\n",
    "from sklearn.metrics import confusion_matrix\n",
    "from sklearn.neural_network import MLPClassifier\n",
    "from imblearn.over_sampling import SMOTE\n",
    "from sklearn.utils import resample\n",
    "from scipy import stats\n",
    "from sklearn import metrics\n",
    "from catboost import CatBoostClassifier\n",
    "from sklearn.tree import DecisionTreeClassifier \n",
    "from sklearn.neighbors import KNeighborsClassifier\n",
    "from sklearn.preprocessing import LabelEncoder\n",
    "from sklearn.linear_model import LinearRegression\n",
    "from sklearn.naive_bayes import GaussianNB\n",
    "from xgboost import XGBClassifier\n",
    "from sklearn.ensemble import AdaBoostClassifier, BaggingClassifier, GradientBoostingClassifier, RandomForestClassifier, ExtraTreesClassifier\n",
    "\n",
    "import warnings\n",
    "warnings.filterwarnings(\"ignore\")\n",
    " \n",
    "%matplotlib inline"
   ]
  },
  {
   "cell_type": "code",
   "execution_count": 39,
   "metadata": {},
   "outputs": [],
   "source": [
    "# read dataset\n",
    "data = pd.read_csv('Dataset_edited/processed_data.csv')"
   ]
  },
  {
   "cell_type": "code",
   "execution_count": 40,
   "metadata": {},
   "outputs": [
    {
     "name": "stdout",
     "output_type": "stream",
     "text": [
      "<class 'pandas.core.frame.DataFrame'>\n",
      "RangeIndex: 19555 entries, 0 to 19554\n",
      "Data columns (total 19 columns):\n",
      " #   Column                     Non-Null Count  Dtype  \n",
      "---  ------                     --------------  -----  \n",
      " 0   age                        19555 non-null  float64\n",
      " 1   sex                        19555 non-null  int64  \n",
      " 2   on_thyroxine               19555 non-null  int64  \n",
      " 3   query_on_thyroxine         19555 non-null  int64  \n",
      " 4   on_antithyroid_medication  19555 non-null  int64  \n",
      " 5   sick                       19555 non-null  int64  \n",
      " 6   pregnant                   19555 non-null  int64  \n",
      " 7   thyroid_surgery            19555 non-null  int64  \n",
      " 8   query_hypothyroid          19555 non-null  int64  \n",
      " 9   query_hyperthyroid         19555 non-null  int64  \n",
      " 10  lithium                    19555 non-null  int64  \n",
      " 11  goitre                     19555 non-null  int64  \n",
      " 12  tumor                      19555 non-null  int64  \n",
      " 13  TSH                        19555 non-null  float64\n",
      " 14  T3                         19555 non-null  float64\n",
      " 15  TT4                        19555 non-null  float64\n",
      " 16  T4U                        19555 non-null  float64\n",
      " 17  FTI                        19555 non-null  float64\n",
      " 18  Target                     19555 non-null  int64  \n",
      "dtypes: float64(6), int64(13)\n",
      "memory usage: 2.8 MB\n"
     ]
    }
   ],
   "source": [
    "data.info()"
   ]
  },
  {
   "cell_type": "code",
   "execution_count": 41,
   "metadata": {},
   "outputs": [
    {
     "data": {
      "text/html": [
       "<div>\n",
       "<style scoped>\n",
       "    .dataframe tbody tr th:only-of-type {\n",
       "        vertical-align: middle;\n",
       "    }\n",
       "\n",
       "    .dataframe tbody tr th {\n",
       "        vertical-align: top;\n",
       "    }\n",
       "\n",
       "    .dataframe thead th {\n",
       "        text-align: right;\n",
       "    }\n",
       "</style>\n",
       "<table border=\"1\" class=\"dataframe\">\n",
       "  <thead>\n",
       "    <tr style=\"text-align: right;\">\n",
       "      <th></th>\n",
       "      <th>age</th>\n",
       "      <th>sex</th>\n",
       "      <th>on_thyroxine</th>\n",
       "      <th>query_on_thyroxine</th>\n",
       "      <th>on_antithyroid_medication</th>\n",
       "      <th>sick</th>\n",
       "      <th>pregnant</th>\n",
       "      <th>thyroid_surgery</th>\n",
       "      <th>query_hypothyroid</th>\n",
       "      <th>query_hyperthyroid</th>\n",
       "      <th>lithium</th>\n",
       "      <th>goitre</th>\n",
       "      <th>tumor</th>\n",
       "      <th>TSH</th>\n",
       "      <th>T3</th>\n",
       "      <th>TT4</th>\n",
       "      <th>T4U</th>\n",
       "      <th>FTI</th>\n",
       "      <th>Target</th>\n",
       "    </tr>\n",
       "  </thead>\n",
       "  <tbody>\n",
       "    <tr>\n",
       "      <th>0</th>\n",
       "      <td>41.0</td>\n",
       "      <td>0</td>\n",
       "      <td>0</td>\n",
       "      <td>0</td>\n",
       "      <td>0</td>\n",
       "      <td>0</td>\n",
       "      <td>0</td>\n",
       "      <td>0</td>\n",
       "      <td>0</td>\n",
       "      <td>0</td>\n",
       "      <td>0</td>\n",
       "      <td>0</td>\n",
       "      <td>0</td>\n",
       "      <td>1.30</td>\n",
       "      <td>2.5</td>\n",
       "      <td>125.0</td>\n",
       "      <td>1.14</td>\n",
       "      <td>109.0</td>\n",
       "      <td>0</td>\n",
       "    </tr>\n",
       "    <tr>\n",
       "      <th>1</th>\n",
       "      <td>70.0</td>\n",
       "      <td>0</td>\n",
       "      <td>0</td>\n",
       "      <td>0</td>\n",
       "      <td>0</td>\n",
       "      <td>0</td>\n",
       "      <td>0</td>\n",
       "      <td>0</td>\n",
       "      <td>0</td>\n",
       "      <td>0</td>\n",
       "      <td>0</td>\n",
       "      <td>0</td>\n",
       "      <td>0</td>\n",
       "      <td>0.72</td>\n",
       "      <td>1.2</td>\n",
       "      <td>61.0</td>\n",
       "      <td>0.87</td>\n",
       "      <td>70.0</td>\n",
       "      <td>0</td>\n",
       "    </tr>\n",
       "    <tr>\n",
       "      <th>2</th>\n",
       "      <td>80.0</td>\n",
       "      <td>0</td>\n",
       "      <td>0</td>\n",
       "      <td>0</td>\n",
       "      <td>0</td>\n",
       "      <td>0</td>\n",
       "      <td>0</td>\n",
       "      <td>0</td>\n",
       "      <td>0</td>\n",
       "      <td>0</td>\n",
       "      <td>0</td>\n",
       "      <td>0</td>\n",
       "      <td>0</td>\n",
       "      <td>2.20</td>\n",
       "      <td>0.6</td>\n",
       "      <td>80.0</td>\n",
       "      <td>0.70</td>\n",
       "      <td>115.0</td>\n",
       "      <td>0</td>\n",
       "    </tr>\n",
       "    <tr>\n",
       "      <th>3</th>\n",
       "      <td>66.0</td>\n",
       "      <td>0</td>\n",
       "      <td>0</td>\n",
       "      <td>0</td>\n",
       "      <td>0</td>\n",
       "      <td>0</td>\n",
       "      <td>0</td>\n",
       "      <td>0</td>\n",
       "      <td>0</td>\n",
       "      <td>0</td>\n",
       "      <td>0</td>\n",
       "      <td>0</td>\n",
       "      <td>1</td>\n",
       "      <td>0.60</td>\n",
       "      <td>2.2</td>\n",
       "      <td>123.0</td>\n",
       "      <td>0.93</td>\n",
       "      <td>132.0</td>\n",
       "      <td>0</td>\n",
       "    </tr>\n",
       "    <tr>\n",
       "      <th>4</th>\n",
       "      <td>68.0</td>\n",
       "      <td>1</td>\n",
       "      <td>0</td>\n",
       "      <td>0</td>\n",
       "      <td>0</td>\n",
       "      <td>0</td>\n",
       "      <td>0</td>\n",
       "      <td>0</td>\n",
       "      <td>0</td>\n",
       "      <td>0</td>\n",
       "      <td>0</td>\n",
       "      <td>0</td>\n",
       "      <td>0</td>\n",
       "      <td>2.40</td>\n",
       "      <td>1.6</td>\n",
       "      <td>83.0</td>\n",
       "      <td>0.89</td>\n",
       "      <td>93.0</td>\n",
       "      <td>0</td>\n",
       "    </tr>\n",
       "  </tbody>\n",
       "</table>\n",
       "</div>"
      ],
      "text/plain": [
       "    age  sex  on_thyroxine  query_on_thyroxine  on_antithyroid_medication  \\\n",
       "0  41.0    0             0                   0                          0   \n",
       "1  70.0    0             0                   0                          0   \n",
       "2  80.0    0             0                   0                          0   \n",
       "3  66.0    0             0                   0                          0   \n",
       "4  68.0    1             0                   0                          0   \n",
       "\n",
       "   sick  pregnant  thyroid_surgery  query_hypothyroid  query_hyperthyroid  \\\n",
       "0     0         0                0                  0                   0   \n",
       "1     0         0                0                  0                   0   \n",
       "2     0         0                0                  0                   0   \n",
       "3     0         0                0                  0                   0   \n",
       "4     0         0                0                  0                   0   \n",
       "\n",
       "   lithium  goitre  tumor   TSH   T3    TT4   T4U    FTI  Target  \n",
       "0        0       0      0  1.30  2.5  125.0  1.14  109.0       0  \n",
       "1        0       0      0  0.72  1.2   61.0  0.87   70.0       0  \n",
       "2        0       0      0  2.20  0.6   80.0  0.70  115.0       0  \n",
       "3        0       0      1  0.60  2.2  123.0  0.93  132.0       0  \n",
       "4        0       0      0  2.40  1.6   83.0  0.89   93.0       0  "
      ]
     },
     "execution_count": 41,
     "metadata": {},
     "output_type": "execute_result"
    }
   ],
   "source": [
    "data.head()"
   ]
  },
  {
   "cell_type": "markdown",
   "metadata": {},
   "source": [
    "# Correlation Matrix"
   ]
  },
  {
   "cell_type": "markdown",
   "metadata": {},
   "source": [
    "### Most related to the _Target_"
   ]
  },
  {
   "cell_type": "markdown",
   "metadata": {},
   "source": [
    "#### 缩减特征变量  Feature Scaling"
   ]
  },
  {
   "cell_type": "markdown",
   "metadata": {},
   "source": [
    "In the new dataset, using number to replace name:\n",
    "\n",
    "0 means False, 1 means True\n",
    "\n",
    "Sex: 0 means Female, 1 means Male\n",
    "\n",
    "Target: 0 means 'negativee', 1 means 'hypothyroid', 2 means 'hyperthyroid'"
   ]
  },
  {
   "cell_type": "code",
   "execution_count": 42,
   "metadata": {},
   "outputs": [
    {
     "data": {
      "text/plain": [
       "sex                   0.071489\n",
       "on_thyroxine          0.069057\n",
       "query_hypothyroid     0.060746\n",
       "query_hyperthyroid    0.079067\n",
       "tumor                 0.043465\n",
       "TSH                   0.250161\n",
       "FTI                   0.052016\n",
       "Name: Target, dtype: float64"
      ]
     },
     "execution_count": 42,
     "metadata": {},
     "output_type": "execute_result"
    }
   ],
   "source": [
    "corr_values = abs(data[data.columns].corr()['Target']).drop('Target')\n",
    "high_corr_values = corr_values[corr_values>0.04]\n",
    "high_corr_values"
   ]
  },
  {
   "cell_type": "markdown",
   "metadata": {},
   "source": [
    "We can know that, except for five parameters [TSH, T3, TT4, T4U, FTI], the sex, on_thyroxine, query_hypothyroid, query_hyperthyroid and tomor are slightly high related to the Target."
   ]
  },
  {
   "cell_type": "code",
   "execution_count": 43,
   "metadata": {},
   "outputs": [
    {
     "name": "stdout",
     "output_type": "stream",
     "text": [
      "<class 'pandas.core.frame.DataFrame'>\n",
      "RangeIndex: 19555 entries, 0 to 19554\n",
      "Data columns (total 19 columns):\n",
      " #   Column                     Non-Null Count  Dtype  \n",
      "---  ------                     --------------  -----  \n",
      " 0   age                        19555 non-null  float64\n",
      " 1   sex                        19555 non-null  int64  \n",
      " 2   on_thyroxine               19555 non-null  int64  \n",
      " 3   query_on_thyroxine         19555 non-null  int64  \n",
      " 4   on_antithyroid_medication  19555 non-null  int64  \n",
      " 5   sick                       19555 non-null  int64  \n",
      " 6   pregnant                   19555 non-null  int64  \n",
      " 7   thyroid_surgery            19555 non-null  int64  \n",
      " 8   query_hypothyroid          19555 non-null  int64  \n",
      " 9   query_hyperthyroid         19555 non-null  int64  \n",
      " 10  lithium                    19555 non-null  int64  \n",
      " 11  goitre                     19555 non-null  int64  \n",
      " 12  tumor                      19555 non-null  int64  \n",
      " 13  TSH                        19555 non-null  float64\n",
      " 14  T3                         19555 non-null  float64\n",
      " 15  TT4                        19555 non-null  float64\n",
      " 16  T4U                        19555 non-null  float64\n",
      " 17  FTI                        19555 non-null  float64\n",
      " 18  Target                     19555 non-null  int64  \n",
      "dtypes: float64(6), int64(13)\n",
      "memory usage: 2.8 MB\n"
     ]
    }
   ],
   "source": [
    "data.info()"
   ]
  },
  {
   "cell_type": "markdown",
   "metadata": {},
   "source": [
    "## Divide dataset - Train and Test"
   ]
  },
  {
   "cell_type": "code",
   "execution_count": 44,
   "metadata": {},
   "outputs": [],
   "source": [
    "X_columns = ['sex','on_thyroxine','query_hypothyroid','query_hyperthyroid','tumor','TSH','T3','TT4','T4U','FTI']\n",
    "X = data[X_columns]\n",
    "y = data['Target']\n",
    "X_train, X_test, y_train, y_test = train_test_split(X, y, test_size=0.4, random_state=42)"
   ]
  },
  {
   "cell_type": "markdown",
   "metadata": {},
   "source": [
    "## Classifier"
   ]
  },
  {
   "cell_type": "code",
   "execution_count": 45,
   "metadata": {},
   "outputs": [],
   "source": [
    "classifiers = {\n",
    "    \"XGB Classifier\" : XGBClassifier(learning_rate=0.1),\n",
    "    \"CatBoost Classifier\" : CatBoostClassifier(max_depth=3,verbose=0),\n",
    "    \"K Nearest Neighbors\" : KNeighborsClassifier(3),\n",
    "    \"Decision Tree\" : DecisionTreeClassifier(class_weight = 'balanced'),\n",
    "    \"Random Forest\": RandomForestClassifier(class_weight = 'balanced',random_state = 1),\n",
    "    \"ExtraTrees\": ExtraTreesClassifier(class_weight = 'balanced',random_state = 1),\n",
    "    \"MLP Classifier\": MLPClassifier(activation=\"relu\",random_state=1),\n",
    "    \"Bagging Classifier\": BaggingClassifier(KNeighborsClassifier(), max_samples=0.5),\n",
    "    \"AdaBoost Classifier\": AdaBoostClassifier(n_estimators=10),\n",
    "    \"GradientBoosting Classifier\": GradientBoostingClassifier(random_state=1)\n",
    "}"
   ]
  },
  {
   "cell_type": "code",
   "execution_count": 46,
   "metadata": {},
   "outputs": [
    {
     "name": "stdout",
     "output_type": "stream",
     "text": [
      "Confusion matrix for:  XGB Classifier\n",
      "[[6916  112   50]\n",
      " [  74  493    0]\n",
      " [  30    0  147]]\n",
      "Confusion matrix for:  CatBoost Classifier\n",
      "[[6922  110   46]\n",
      " [  70  496    1]\n",
      " [  42    1  134]]\n",
      "Confusion matrix for:  K Nearest Neighbors\n",
      "[[6892  124   62]\n",
      " [ 218  348    1]\n",
      " [  77    1   99]]\n",
      "Confusion matrix for:  Decision Tree\n",
      "[[6899  115   64]\n",
      " [  86  481    0]\n",
      " [  36    0  141]]\n",
      "Confusion matrix for:  Random Forest\n",
      "[[6908  115   55]\n",
      " [  75  492    0]\n",
      " [  36    0  141]]\n",
      "Confusion matrix for:  ExtraTrees\n",
      "[[6897  115   66]\n",
      " [ 123  442    2]\n",
      " [  40    3  134]]\n",
      "Confusion matrix for:  MLP Classifier\n",
      "[[6922  138   18]\n",
      " [  87  478    2]\n",
      " [  81   10   86]]\n",
      "Confusion matrix for:  Bagging Classifier\n",
      "[[6940   96   42]\n",
      " [ 254  310    3]\n",
      " [  81    1   95]]\n",
      "Confusion matrix for:  AdaBoost Classifier\n",
      "[[7036   35    7]\n",
      " [ 390  152   25]\n",
      " [ 139    0   38]]\n",
      "Confusion matrix for:  GradientBoosting Classifier\n",
      "[[6904  124   50]\n",
      " [  22  545    0]\n",
      " [  38    0  139]]\n"
     ]
    },
    {
     "data": {
      "text/html": [
       "<div>\n",
       "<style scoped>\n",
       "    .dataframe tbody tr th:only-of-type {\n",
       "        vertical-align: middle;\n",
       "    }\n",
       "\n",
       "    .dataframe tbody tr th {\n",
       "        vertical-align: top;\n",
       "    }\n",
       "\n",
       "    .dataframe thead th {\n",
       "        text-align: right;\n",
       "    }\n",
       "</style>\n",
       "<table border=\"1\" class=\"dataframe\">\n",
       "  <thead>\n",
       "    <tr style=\"text-align: right;\">\n",
       "      <th></th>\n",
       "      <th>Accuracy</th>\n",
       "      <th>Precision</th>\n",
       "      <th>Recall</th>\n",
       "      <th>F1-Score</th>\n",
       "    </tr>\n",
       "    <tr>\n",
       "      <th>Classifier</th>\n",
       "      <th></th>\n",
       "      <th></th>\n",
       "      <th></th>\n",
       "      <th></th>\n",
       "    </tr>\n",
       "  </thead>\n",
       "  <tbody>\n",
       "    <tr>\n",
       "      <th>GradientBoosting Classifier</th>\n",
       "      <td>0.9701</td>\n",
       "      <td>0.8472</td>\n",
       "      <td>0.9073</td>\n",
       "      <td>0.8749</td>\n",
       "    </tr>\n",
       "    <tr>\n",
       "      <th>XGB Classifier</th>\n",
       "      <td>0.9660</td>\n",
       "      <td>0.8488</td>\n",
       "      <td>0.8924</td>\n",
       "      <td>0.8695</td>\n",
       "    </tr>\n",
       "    <tr>\n",
       "      <th>CatBoost Classifier</th>\n",
       "      <td>0.9655</td>\n",
       "      <td>0.8472</td>\n",
       "      <td>0.8699</td>\n",
       "      <td>0.8582</td>\n",
       "    </tr>\n",
       "    <tr>\n",
       "      <th>Random Forest</th>\n",
       "      <td>0.9641</td>\n",
       "      <td>0.8380</td>\n",
       "      <td>0.8801</td>\n",
       "      <td>0.8581</td>\n",
       "    </tr>\n",
       "    <tr>\n",
       "      <th>Decision Tree</th>\n",
       "      <td>0.9615</td>\n",
       "      <td>0.8258</td>\n",
       "      <td>0.8732</td>\n",
       "      <td>0.8480</td>\n",
       "    </tr>\n",
       "    <tr>\n",
       "      <th>ExtraTrees</th>\n",
       "      <td>0.9554</td>\n",
       "      <td>0.8099</td>\n",
       "      <td>0.8370</td>\n",
       "      <td>0.8224</td>\n",
       "    </tr>\n",
       "    <tr>\n",
       "      <th>MLP Classifier</th>\n",
       "      <td>0.9570</td>\n",
       "      <td>0.8504</td>\n",
       "      <td>0.7690</td>\n",
       "      <td>0.7954</td>\n",
       "    </tr>\n",
       "    <tr>\n",
       "      <th>K Nearest Neighbors</th>\n",
       "      <td>0.9383</td>\n",
       "      <td>0.7686</td>\n",
       "      <td>0.7156</td>\n",
       "      <td>0.7399</td>\n",
       "    </tr>\n",
       "    <tr>\n",
       "      <th>Bagging Classifier</th>\n",
       "      <td>0.9390</td>\n",
       "      <td>0.7981</td>\n",
       "      <td>0.6880</td>\n",
       "      <td>0.7343</td>\n",
       "    </tr>\n",
       "    <tr>\n",
       "      <th>AdaBoost Classifier</th>\n",
       "      <td>0.9238</td>\n",
       "      <td>0.7619</td>\n",
       "      <td>0.4923</td>\n",
       "      <td>0.5573</td>\n",
       "    </tr>\n",
       "  </tbody>\n",
       "</table>\n",
       "</div>"
      ],
      "text/plain": [
       "                             Accuracy  Precision  Recall  F1-Score\n",
       "Classifier                                                        \n",
       "GradientBoosting Classifier    0.9701     0.8472  0.9073    0.8749\n",
       "XGB Classifier                 0.9660     0.8488  0.8924    0.8695\n",
       "CatBoost Classifier            0.9655     0.8472  0.8699    0.8582\n",
       "Random Forest                  0.9641     0.8380  0.8801    0.8581\n",
       "Decision Tree                  0.9615     0.8258  0.8732    0.8480\n",
       "ExtraTrees                     0.9554     0.8099  0.8370    0.8224\n",
       "MLP Classifier                 0.9570     0.8504  0.7690    0.7954\n",
       "K Nearest Neighbors            0.9383     0.7686  0.7156    0.7399\n",
       "Bagging Classifier             0.9390     0.7981  0.6880    0.7343\n",
       "AdaBoost Classifier            0.9238     0.7619  0.4923    0.5573"
      ]
     },
     "metadata": {},
     "output_type": "display_data"
    }
   ],
   "source": [
    "def classification(classifiers, X_train, X_test, y_train, y_test):\n",
    "    # Creo un dataframe per visualizzare i risultati calcolati\n",
    "    res = pd.DataFrame(columns=[\"Classifier\", \n",
    "                                \"Accuracy\", \n",
    "                                \"Precision\", \n",
    "                                \"Recall\", \n",
    "                                \"F1-Score\"])    \n",
    "                                    \n",
    "    for name, clf in classifiers.items():\n",
    "        clf.fit(X_train, y_train)\n",
    "        y_pred = clf.predict(X_test)\n",
    "        precision, recall, f1, sup = metrics.precision_recall_fscore_support(y_test, y_pred, average='macro')\n",
    "        res = res.append({\"Classifier\": name, \"Accuracy\": round(metrics.accuracy_score(y_test, y_pred), 4),\n",
    "                          \"Precision\": round(precision, 4), \"Recall\":round(recall, 4), \"F1-Score\":round(f1, 4)}, ignore_index=True)\n",
    "        print(\"Confusion matrix for: \", name)\n",
    "        print(confusion_matrix(y_test, y_pred))\n",
    "        \n",
    "    res.set_index(\"Classifier\", inplace=True)\n",
    "    res.sort_values(by=\"F1-Score\", ascending=False, inplace=True)   \n",
    "    return res\n",
    "\n",
    "display(classification(classifiers, X_train, X_test, y_train, y_test))"
   ]
  },
  {
   "cell_type": "code",
   "execution_count": 47,
   "metadata": {},
   "outputs": [
    {
     "data": {
      "text/plain": [
       "(19555, 19)"
      ]
     },
     "metadata": {},
     "output_type": "display_data"
    },
    {
     "data": {
      "text/plain": [
       "0    17702\n",
       "1     1403\n",
       "2      450\n",
       "Name: Target, dtype: int64"
      ]
     },
     "execution_count": 47,
     "metadata": {},
     "output_type": "execute_result"
    }
   ],
   "source": [
    "display(data.shape)\n",
    "data.Target.value_counts()"
   ]
  },
  {
   "cell_type": "markdown",
   "metadata": {},
   "source": [
    "# Imbalance Class\n",
    "## SMOTE - Over-sampling"
   ]
  },
  {
   "cell_type": "code",
   "execution_count": 56,
   "metadata": {},
   "outputs": [
    {
     "name": "stdout",
     "output_type": "stream",
     "text": [
      "(11733, 10)\n",
      "(31863, 10)\n",
      "Confusion matrix for:  XGB Classifier\n",
      "[[6940  146   93]\n",
      " [  10 7078    0]\n",
      " [   8    0 6968]]\n",
      "Confusion matrix for:  CatBoost Classifier\n",
      "[[6900  155  124]\n",
      " [  17 7071    0]\n",
      " [   6    7 6963]]\n",
      "Confusion matrix for:  K Nearest Neighbors\n",
      "[[6688  287  204]\n",
      " [  54 7034    0]\n",
      " [  53    0 6923]]\n",
      "Confusion matrix for:  Decision Tree\n",
      "[[6978  125   76]\n",
      " [  93 6995    0]\n",
      " [  42    0 6934]]\n",
      "Confusion matrix for:  Random Forest\n",
      "[[6977  134   68]\n",
      " [  28 7060    0]\n",
      " [  10    0 6966]]\n",
      "Confusion matrix for:  ExtraTrees\n",
      "[[6947  135   97]\n",
      " [  62 7024    2]\n",
      " [  20    1 6955]]\n",
      "Confusion matrix for:  MLP Classifier\n",
      "[[6846  220  113]\n",
      " [  39 7045    4]\n",
      " [ 443    0 6533]]\n",
      "Confusion matrix for:  Bagging Classifier\n",
      "[[6487  389  303]\n",
      " [  27 7059    2]\n",
      " [  63    1 6912]]\n",
      "Confusion matrix for:  AdaBoost Classifier\n",
      "[[6587  175  417]\n",
      " [1835 4969  284]\n",
      " [ 108   37 6831]]\n",
      "Confusion matrix for:  GradientBoosting Classifier\n",
      "[[6878  158  143]\n",
      " [   9 7078    1]\n",
      " [  20    0 6956]]\n"
     ]
    },
    {
     "data": {
      "text/html": [
       "<div>\n",
       "<style scoped>\n",
       "    .dataframe tbody tr th:only-of-type {\n",
       "        vertical-align: middle;\n",
       "    }\n",
       "\n",
       "    .dataframe tbody tr th {\n",
       "        vertical-align: top;\n",
       "    }\n",
       "\n",
       "    .dataframe thead th {\n",
       "        text-align: right;\n",
       "    }\n",
       "</style>\n",
       "<table border=\"1\" class=\"dataframe\">\n",
       "  <thead>\n",
       "    <tr style=\"text-align: right;\">\n",
       "      <th></th>\n",
       "      <th>Accuracy</th>\n",
       "      <th>Precision</th>\n",
       "      <th>Recall</th>\n",
       "      <th>F1-Score</th>\n",
       "    </tr>\n",
       "    <tr>\n",
       "      <th>Classifier</th>\n",
       "      <th></th>\n",
       "      <th></th>\n",
       "      <th></th>\n",
       "      <th></th>\n",
       "    </tr>\n",
       "  </thead>\n",
       "  <tbody>\n",
       "    <tr>\n",
       "      <th>Random Forest</th>\n",
       "      <td>0.9887</td>\n",
       "      <td>0.9888</td>\n",
       "      <td>0.9888</td>\n",
       "      <td>0.9887</td>\n",
       "    </tr>\n",
       "    <tr>\n",
       "      <th>XGB Classifier</th>\n",
       "      <td>0.9879</td>\n",
       "      <td>0.9880</td>\n",
       "      <td>0.9881</td>\n",
       "      <td>0.9879</td>\n",
       "    </tr>\n",
       "    <tr>\n",
       "      <th>CatBoost Classifier</th>\n",
       "      <td>0.9855</td>\n",
       "      <td>0.9856</td>\n",
       "      <td>0.9856</td>\n",
       "      <td>0.9854</td>\n",
       "    </tr>\n",
       "    <tr>\n",
       "      <th>ExtraTrees</th>\n",
       "      <td>0.9851</td>\n",
       "      <td>0.9851</td>\n",
       "      <td>0.9852</td>\n",
       "      <td>0.9851</td>\n",
       "    </tr>\n",
       "    <tr>\n",
       "      <th>GradientBoosting Classifier</th>\n",
       "      <td>0.9844</td>\n",
       "      <td>0.9846</td>\n",
       "      <td>0.9846</td>\n",
       "      <td>0.9844</td>\n",
       "    </tr>\n",
       "    <tr>\n",
       "      <th>Decision Tree</th>\n",
       "      <td>0.9842</td>\n",
       "      <td>0.9842</td>\n",
       "      <td>0.9843</td>\n",
       "      <td>0.9842</td>\n",
       "    </tr>\n",
       "    <tr>\n",
       "      <th>K Nearest Neighbors</th>\n",
       "      <td>0.9718</td>\n",
       "      <td>0.9721</td>\n",
       "      <td>0.9721</td>\n",
       "      <td>0.9718</td>\n",
       "    </tr>\n",
       "    <tr>\n",
       "      <th>Bagging Classifier</th>\n",
       "      <td>0.9630</td>\n",
       "      <td>0.9639</td>\n",
       "      <td>0.9634</td>\n",
       "      <td>0.9628</td>\n",
       "    </tr>\n",
       "    <tr>\n",
       "      <th>MLP Classifier</th>\n",
       "      <td>0.9614</td>\n",
       "      <td>0.9621</td>\n",
       "      <td>0.9613</td>\n",
       "      <td>0.9615</td>\n",
       "    </tr>\n",
       "    <tr>\n",
       "      <th>AdaBoost Classifier</th>\n",
       "      <td>0.8656</td>\n",
       "      <td>0.8794</td>\n",
       "      <td>0.8659</td>\n",
       "      <td>0.8634</td>\n",
       "    </tr>\n",
       "  </tbody>\n",
       "</table>\n",
       "</div>"
      ],
      "text/plain": [
       "                             Accuracy  Precision  Recall  F1-Score\n",
       "Classifier                                                        \n",
       "Random Forest                  0.9887     0.9888  0.9888    0.9887\n",
       "XGB Classifier                 0.9879     0.9880  0.9881    0.9879\n",
       "CatBoost Classifier            0.9855     0.9856  0.9856    0.9854\n",
       "ExtraTrees                     0.9851     0.9851  0.9852    0.9851\n",
       "GradientBoosting Classifier    0.9844     0.9846  0.9846    0.9844\n",
       "Decision Tree                  0.9842     0.9842  0.9843    0.9842\n",
       "K Nearest Neighbors            0.9718     0.9721  0.9721    0.9718\n",
       "Bagging Classifier             0.9630     0.9639  0.9634    0.9628\n",
       "MLP Classifier                 0.9614     0.9621  0.9613    0.9615\n",
       "AdaBoost Classifier            0.8656     0.8794  0.8659    0.8634"
      ]
     },
     "metadata": {},
     "output_type": "display_data"
    }
   ],
   "source": [
    "smote = SMOTE('not majority',random_state = 1)\n",
    "X_sm, y_sm = smote.fit_sample(X, y)\n",
    "X_train_sm, X_test_sm, y_train_sm, y_test_sm = train_test_split(X_sm, y_sm, test_size=0.4, random_state=42)\n",
    "\n",
    "print(X_train.shape)\n",
    "print(X_train_sm.shape)\n",
    "display(classification(classifiers,X_train_sm, X_test_sm, y_train_sm, y_test_sm))"
   ]
  },
  {
   "cell_type": "markdown",
   "metadata": {},
   "source": [
    "## Under-sampling"
   ]
  },
  {
   "cell_type": "code",
   "execution_count": 50,
   "metadata": {},
   "outputs": [
    {
     "data": {
      "text/plain": [
       "2    450\n",
       "1    450\n",
       "0    450\n",
       "Name: Target, dtype: int64"
      ]
     },
     "execution_count": 50,
     "metadata": {},
     "output_type": "execute_result"
    }
   ],
   "source": [
    "negative_df = data[data.Target==0]\n",
    "hypothyroid_df = data[data.Target==1]\n",
    "hyperthyroid_df = data[data.Target==2]\n",
    "\n",
    "negative_undersampled = resample(negative_df,replace=False,n_samples=450,random_state=123)\n",
    "hypothyroid_undersampled = resample(hypothyroid_df,replace=False,n_samples=450,random_state=123)\n",
    "\n",
    "downsampled_df = pd.concat([negative_undersampled,hypothyroid_undersampled,hyperthyroid_df])\n",
    "downsampled_df.Target.value_counts()"
   ]
  },
  {
   "cell_type": "code",
   "execution_count": 51,
   "metadata": {},
   "outputs": [
    {
     "name": "stdout",
     "output_type": "stream",
     "text": [
      "Confusion matrix for:  XGB Classifier\n",
      "[[124  10   3]\n",
      " [  0 129   0]\n",
      " [  1   0 138]]\n",
      "Confusion matrix for:  CatBoost Classifier\n",
      "[[126   8   3]\n",
      " [  1 128   0]\n",
      " [  1   0 138]]\n",
      "Confusion matrix for:  K Nearest Neighbors\n",
      "[[109  14  14]\n",
      " [ 18 110   1]\n",
      " [  7   1 131]]\n",
      "Confusion matrix for:  Decision Tree\n",
      "[[124   9   4]\n",
      " [ 11 118   0]\n",
      " [  3   0 136]]\n",
      "Confusion matrix for:  Random Forest\n",
      "[[127   7   3]\n",
      " [  1 128   0]\n",
      " [  0   0 139]]\n",
      "Confusion matrix for:  ExtraTrees\n",
      "[[118  14   5]\n",
      " [  6 118   5]\n",
      " [  4   0 135]]\n",
      "Confusion matrix for:  MLP Classifier\n",
      "[[114  11  12]\n",
      " [  6 122   1]\n",
      " [  8   2 129]]\n",
      "Confusion matrix for:  Bagging Classifier\n",
      "[[104  22  11]\n",
      " [ 24 100   5]\n",
      " [  7   3 129]]\n",
      "Confusion matrix for:  AdaBoost Classifier\n",
      "[[125   6   6]\n",
      " [ 36  87   6]\n",
      " [ 19   0 120]]\n",
      "Confusion matrix for:  GradientBoosting Classifier\n",
      "[[127   7   3]\n",
      " [  1 128   0]\n",
      " [  1   0 138]]\n"
     ]
    },
    {
     "data": {
      "text/html": [
       "<div>\n",
       "<style scoped>\n",
       "    .dataframe tbody tr th:only-of-type {\n",
       "        vertical-align: middle;\n",
       "    }\n",
       "\n",
       "    .dataframe tbody tr th {\n",
       "        vertical-align: top;\n",
       "    }\n",
       "\n",
       "    .dataframe thead th {\n",
       "        text-align: right;\n",
       "    }\n",
       "</style>\n",
       "<table border=\"1\" class=\"dataframe\">\n",
       "  <thead>\n",
       "    <tr style=\"text-align: right;\">\n",
       "      <th></th>\n",
       "      <th>Accuracy</th>\n",
       "      <th>Precision</th>\n",
       "      <th>Recall</th>\n",
       "      <th>F1-Score</th>\n",
       "    </tr>\n",
       "    <tr>\n",
       "      <th>Classifier</th>\n",
       "      <th></th>\n",
       "      <th></th>\n",
       "      <th></th>\n",
       "      <th></th>\n",
       "    </tr>\n",
       "  </thead>\n",
       "  <tbody>\n",
       "    <tr>\n",
       "      <th>Random Forest</th>\n",
       "      <td>0.9728</td>\n",
       "      <td>0.9731</td>\n",
       "      <td>0.9731</td>\n",
       "      <td>0.9725</td>\n",
       "    </tr>\n",
       "    <tr>\n",
       "      <th>GradientBoosting Classifier</th>\n",
       "      <td>0.9704</td>\n",
       "      <td>0.9705</td>\n",
       "      <td>0.9707</td>\n",
       "      <td>0.9701</td>\n",
       "    </tr>\n",
       "    <tr>\n",
       "      <th>CatBoost Classifier</th>\n",
       "      <td>0.9679</td>\n",
       "      <td>0.9681</td>\n",
       "      <td>0.9683</td>\n",
       "      <td>0.9676</td>\n",
       "    </tr>\n",
       "    <tr>\n",
       "      <th>XGB Classifier</th>\n",
       "      <td>0.9654</td>\n",
       "      <td>0.9663</td>\n",
       "      <td>0.9660</td>\n",
       "      <td>0.9650</td>\n",
       "    </tr>\n",
       "    <tr>\n",
       "      <th>Decision Tree</th>\n",
       "      <td>0.9333</td>\n",
       "      <td>0.9330</td>\n",
       "      <td>0.9328</td>\n",
       "      <td>0.9329</td>\n",
       "    </tr>\n",
       "    <tr>\n",
       "      <th>ExtraTrees</th>\n",
       "      <td>0.9160</td>\n",
       "      <td>0.9156</td>\n",
       "      <td>0.9158</td>\n",
       "      <td>0.9152</td>\n",
       "    </tr>\n",
       "    <tr>\n",
       "      <th>MLP Classifier</th>\n",
       "      <td>0.9012</td>\n",
       "      <td>0.9009</td>\n",
       "      <td>0.9020</td>\n",
       "      <td>0.9009</td>\n",
       "    </tr>\n",
       "    <tr>\n",
       "      <th>K Nearest Neighbors</th>\n",
       "      <td>0.8642</td>\n",
       "      <td>0.8636</td>\n",
       "      <td>0.8636</td>\n",
       "      <td>0.8633</td>\n",
       "    </tr>\n",
       "    <tr>\n",
       "      <th>Bagging Classifier</th>\n",
       "      <td>0.8222</td>\n",
       "      <td>0.8200</td>\n",
       "      <td>0.8208</td>\n",
       "      <td>0.8202</td>\n",
       "    </tr>\n",
       "    <tr>\n",
       "      <th>AdaBoost Classifier</th>\n",
       "      <td>0.8198</td>\n",
       "      <td>0.8463</td>\n",
       "      <td>0.8167</td>\n",
       "      <td>0.8193</td>\n",
       "    </tr>\n",
       "  </tbody>\n",
       "</table>\n",
       "</div>"
      ],
      "text/plain": [
       "                             Accuracy  Precision  Recall  F1-Score\n",
       "Classifier                                                        \n",
       "Random Forest                  0.9728     0.9731  0.9731    0.9725\n",
       "GradientBoosting Classifier    0.9704     0.9705  0.9707    0.9701\n",
       "CatBoost Classifier            0.9679     0.9681  0.9683    0.9676\n",
       "XGB Classifier                 0.9654     0.9663  0.9660    0.9650\n",
       "Decision Tree                  0.9333     0.9330  0.9328    0.9329\n",
       "ExtraTrees                     0.9160     0.9156  0.9158    0.9152\n",
       "MLP Classifier                 0.9012     0.9009  0.9020    0.9009\n",
       "K Nearest Neighbors            0.8642     0.8636  0.8636    0.8633\n",
       "Bagging Classifier             0.8222     0.8200  0.8208    0.8202\n",
       "AdaBoost Classifier            0.8198     0.8463  0.8167    0.8193"
      ]
     },
     "metadata": {},
     "output_type": "display_data"
    }
   ],
   "source": [
    "X_under = downsampled_df[X_columns]\n",
    "y_under = downsampled_df['Target']\n",
    "X_train_under, X_test_under, y_train_under, y_test_under = train_test_split(X_under, y_under, test_size=0.3, random_state=42)\n",
    "display(classification(classifiers,X_train_under, X_test_under, y_train_under, y_test_under))"
   ]
  },
  {
   "cell_type": "markdown",
   "metadata": {},
   "source": [
    "## Tuning"
   ]
  },
  {
   "cell_type": "markdown",
   "metadata": {},
   "source": [
    "The top four classifers are: XGBoost, CatBoost, Gradient Boosting and Random Forest."
   ]
  },
  {
   "cell_type": "markdown",
   "metadata": {},
   "source": [
    "### GridSearchCV"
   ]
  },
  {
   "cell_type": "code",
   "execution_count": 65,
   "metadata": {},
   "outputs": [],
   "source": [
    "from sklearn.model_selection import GridSearchCV\n",
    "from sklearn.model_selection import StratifiedShuffleSplit\n",
    "# C_vals is the alpla value of lasso and ridge regression(as \n",
    "# alpha increases the model complexity decreases,)\n",
    "\n",
    "# remember effective alpha scores are 0<alpha<infinity \n",
    "C_vals = [0.2,0.3,0.4,0.5,0.6,0.7,0.8,0.9,1]\n",
    "\n",
    "## Choose a cross validation strategy. \n",
    "cv = StratifiedShuffleSplit(n_splits = 10, test_size = .25)\n",
    "\n",
    "# setting param for param_grid in GridSearchCV. \n",
    "param = {'C': C_vals}\n",
    "\n",
    "n_estimators = [140,145,150,155,160];\n",
    "max_depth = range(1,10);\n",
    "criterions = ['gini', 'entropy'];\n",
    "cv = StratifiedShuffleSplit(n_splits=10, test_size=.30, random_state=15)\n",
    "\n",
    "\n",
    "parameters = {'n_estimators':n_estimators,\n",
    "              'max_depth':max_depth,\n",
    "              'criterion': criterions\n",
    "              \n",
    "        }"
   ]
  },
  {
   "cell_type": "markdown",
   "metadata": {},
   "source": [
    "### XGBoost Modelling\n",
    "\n",
    "We estimate the 'max_depth', 'n_estimators', and 'learning_rate'"
   ]
  },
  {
   "cell_type": "code",
   "execution_count": 119,
   "metadata": {},
   "outputs": [
    {
     "name": "stdout",
     "output_type": "stream",
     "text": [
      "Confusion matrix for:  XGB Classifier\n",
      "[[124  10   3]\n",
      " [  1 128   0]\n",
      " [  1   0 138]]\n"
     ]
    },
    {
     "data": {
      "text/html": [
       "<div>\n",
       "<style scoped>\n",
       "    .dataframe tbody tr th:only-of-type {\n",
       "        vertical-align: middle;\n",
       "    }\n",
       "\n",
       "    .dataframe tbody tr th {\n",
       "        vertical-align: top;\n",
       "    }\n",
       "\n",
       "    .dataframe thead th {\n",
       "        text-align: right;\n",
       "    }\n",
       "</style>\n",
       "<table border=\"1\" class=\"dataframe\">\n",
       "  <thead>\n",
       "    <tr style=\"text-align: right;\">\n",
       "      <th></th>\n",
       "      <th>Accuracy</th>\n",
       "      <th>Precision</th>\n",
       "      <th>Recall</th>\n",
       "      <th>F1-Score</th>\n",
       "    </tr>\n",
       "    <tr>\n",
       "      <th>Classifier</th>\n",
       "      <th></th>\n",
       "      <th></th>\n",
       "      <th></th>\n",
       "      <th></th>\n",
       "    </tr>\n",
       "  </thead>\n",
       "  <tbody>\n",
       "    <tr>\n",
       "      <th>XGB Classifier</th>\n",
       "      <td>0.963</td>\n",
       "      <td>0.9635</td>\n",
       "      <td>0.9634</td>\n",
       "      <td>0.9625</td>\n",
       "    </tr>\n",
       "  </tbody>\n",
       "</table>\n",
       "</div>"
      ],
      "text/plain": [
       "                Accuracy  Precision  Recall  F1-Score\n",
       "Classifier                                           \n",
       "XGB Classifier     0.963     0.9635  0.9634    0.9625"
      ]
     },
     "metadata": {},
     "output_type": "display_data"
    }
   ],
   "source": [
    "XGB_classifier = {\"XGB Classifier\": XGBClassifier(learning_rate=0.1,max_depth=6, n_estimators=2000)}\n",
    "display(classification(XGB_classifier, X_train_under, X_test_under, y_train_under, y_test_under))\n"
   ]
  },
  {
   "cell_type": "code",
   "execution_count": 124,
   "metadata": {},
   "outputs": [],
   "source": [
    "parameters = {\n",
    "              'max_depth':[3,6,9], \n",
    "              'n_estimators':[50,100,200,500], \n",
    "              'learning_rate':[0.01,0.05,0.1,0.2,0.5]\n",
    "}\n",
    "\n",
    "grid = GridSearchCV( XGBClassifier(),\n",
    "                     param_grid=parameters,\n",
    "                     cv=6,\n",
    "                     scoring='roc_auc')\n",
    "\n",
    "grid.fit(X_under, y_under) "
   ]
  },
  {
   "cell_type": "code",
   "execution_count": 123,
   "metadata": {},
   "outputs": [
    {
     "name": "stdout",
     "output_type": "stream",
     "text": [
      "nan\n",
      "{'learning_rate': 0.01, 'max_depth': 3, 'n_estimators': 50}\n",
      "XGBClassifier(base_score=0.5, booster='gbtree', callbacks=None,\n",
      "              colsample_bylevel=1, colsample_bynode=1, colsample_bytree=1,\n",
      "              early_stopping_rounds=None, enable_categorical=False,\n",
      "              eval_metric=None, gamma=0, gpu_id=-1, grow_policy='depthwise',\n",
      "              importance_type=None, interaction_constraints='',\n",
      "              learning_rate=0.01, max_bin=256, max_cat_to_onehot=4,\n",
      "              max_delta_step=0, max_depth=3, max_leaves=0, min_child_weight=1,\n",
      "              missing=nan, monotone_constraints='()', n_estimators=50, n_jobs=0,\n",
      "              num_parallel_tree=1, objective='multi:softprob', predictor='auto',\n",
      "              random_state=0, reg_alpha=0, ...)\n"
     ]
    }
   ],
   "source": [
    "## Getting the best of everything. \n",
    "print(grid.best_score_)\n",
    "print(grid.best_params_)\n",
    "print(grid.best_estimator_)"
   ]
  },
  {
   "cell_type": "code",
   "execution_count": 88,
   "metadata": {},
   "outputs": [
    {
     "data": {
      "text/plain": [
       "0.7459259259259259"
      ]
     },
     "execution_count": 88,
     "metadata": {},
     "output_type": "execute_result"
    }
   ],
   "source": [
    "xgb_grid = grid.best_estimator_\n",
    "xgb_grid.score(X_under, y_under)"
   ]
  },
  {
   "cell_type": "code",
   "execution_count": null,
   "metadata": {},
   "outputs": [],
   "source": []
  },
  {
   "cell_type": "code",
   "execution_count": null,
   "metadata": {},
   "outputs": [],
   "source": []
  },
  {
   "cell_type": "code",
   "execution_count": null,
   "metadata": {},
   "outputs": [],
   "source": []
  },
  {
   "cell_type": "code",
   "execution_count": 70,
   "metadata": {},
   "outputs": [
    {
     "data": {
      "text/plain": [
       "{'learning_rate': 0.01, 'max_depth': 1, 'n_estimators': 1}"
      ]
     },
     "execution_count": 70,
     "metadata": {},
     "output_type": "execute_result"
    }
   ],
   "source": [
    "from sklearn.model_selection import GridSearchCV\n",
    "\n",
    "parameters = {'max_depth':[1,3,5], \n",
    "              'n_estimators':[1,25,50,100], \n",
    "              'learning_rate':[0.01,0.05,0.1,0.2]\n",
    "}\n",
    "\n",
    "\n",
    "xgb = XGBClassifier()\n",
    "grid_search = GridSearchCV(xgb, parameters, scoring='roc_auc', cv=5)\n",
    "\n",
    "# train model\n",
    "grid_search.fit(X_train_sm, y_train_sm)\n",
    "# output the best parameters\n",
    "grid_search.best_params_"
   ]
  },
  {
   "cell_type": "code",
   "execution_count": 71,
   "metadata": {},
   "outputs": [
    {
     "data": {
      "text/html": [
       "<style>#sk-container-id-2 {color: black;background-color: white;}#sk-container-id-2 pre{padding: 0;}#sk-container-id-2 div.sk-toggleable {background-color: white;}#sk-container-id-2 label.sk-toggleable__label {cursor: pointer;display: block;width: 100%;margin-bottom: 0;padding: 0.3em;box-sizing: border-box;text-align: center;}#sk-container-id-2 label.sk-toggleable__label-arrow:before {content: \"▸\";float: left;margin-right: 0.25em;color: #696969;}#sk-container-id-2 label.sk-toggleable__label-arrow:hover:before {color: black;}#sk-container-id-2 div.sk-estimator:hover label.sk-toggleable__label-arrow:before {color: black;}#sk-container-id-2 div.sk-toggleable__content {max-height: 0;max-width: 0;overflow: hidden;text-align: left;background-color: #f0f8ff;}#sk-container-id-2 div.sk-toggleable__content pre {margin: 0.2em;color: black;border-radius: 0.25em;background-color: #f0f8ff;}#sk-container-id-2 input.sk-toggleable__control:checked~div.sk-toggleable__content {max-height: 200px;max-width: 100%;overflow: auto;}#sk-container-id-2 input.sk-toggleable__control:checked~label.sk-toggleable__label-arrow:before {content: \"▾\";}#sk-container-id-2 div.sk-estimator input.sk-toggleable__control:checked~label.sk-toggleable__label {background-color: #d4ebff;}#sk-container-id-2 div.sk-label input.sk-toggleable__control:checked~label.sk-toggleable__label {background-color: #d4ebff;}#sk-container-id-2 input.sk-hidden--visually {border: 0;clip: rect(1px 1px 1px 1px);clip: rect(1px, 1px, 1px, 1px);height: 1px;margin: -1px;overflow: hidden;padding: 0;position: absolute;width: 1px;}#sk-container-id-2 div.sk-estimator {font-family: monospace;background-color: #f0f8ff;border: 1px dotted black;border-radius: 0.25em;box-sizing: border-box;margin-bottom: 0.5em;}#sk-container-id-2 div.sk-estimator:hover {background-color: #d4ebff;}#sk-container-id-2 div.sk-parallel-item::after {content: \"\";width: 100%;border-bottom: 1px solid gray;flex-grow: 1;}#sk-container-id-2 div.sk-label:hover label.sk-toggleable__label {background-color: #d4ebff;}#sk-container-id-2 div.sk-serial::before {content: \"\";position: absolute;border-left: 1px solid gray;box-sizing: border-box;top: 0;bottom: 0;left: 50%;z-index: 0;}#sk-container-id-2 div.sk-serial {display: flex;flex-direction: column;align-items: center;background-color: white;padding-right: 0.2em;padding-left: 0.2em;position: relative;}#sk-container-id-2 div.sk-item {position: relative;z-index: 1;}#sk-container-id-2 div.sk-parallel {display: flex;align-items: stretch;justify-content: center;background-color: white;position: relative;}#sk-container-id-2 div.sk-item::before, #sk-container-id-2 div.sk-parallel-item::before {content: \"\";position: absolute;border-left: 1px solid gray;box-sizing: border-box;top: 0;bottom: 0;left: 50%;z-index: -1;}#sk-container-id-2 div.sk-parallel-item {display: flex;flex-direction: column;z-index: 1;position: relative;background-color: white;}#sk-container-id-2 div.sk-parallel-item:first-child::after {align-self: flex-end;width: 50%;}#sk-container-id-2 div.sk-parallel-item:last-child::after {align-self: flex-start;width: 50%;}#sk-container-id-2 div.sk-parallel-item:only-child::after {width: 0;}#sk-container-id-2 div.sk-dashed-wrapped {border: 1px dashed gray;margin: 0 0.4em 0.5em 0.4em;box-sizing: border-box;padding-bottom: 0.4em;background-color: white;}#sk-container-id-2 div.sk-label label {font-family: monospace;font-weight: bold;display: inline-block;line-height: 1.2em;}#sk-container-id-2 div.sk-label-container {text-align: center;}#sk-container-id-2 div.sk-container {/* jupyter's `normalize.less` sets `[hidden] { display: none; }` but bootstrap.min.css set `[hidden] { display: none !important; }` so we also need the `!important` here to be able to override the default hidden behavior on the sphinx rendered scikit-learn.org. See: https://github.com/scikit-learn/scikit-learn/issues/21755 */display: inline-block !important;position: relative;}#sk-container-id-2 div.sk-text-repr-fallback {display: none;}</style><div id=\"sk-container-id-2\" class=\"sk-top-container\"><div class=\"sk-text-repr-fallback\"><pre>XGBClassifier(base_score=0.5, booster=&#x27;gbtree&#x27;, callbacks=None,\n",
       "              colsample_bylevel=1, colsample_bynode=1, colsample_bytree=1,\n",
       "              early_stopping_rounds=None, enable_categorical=False,\n",
       "              eval_metric=None, gamma=0, gpu_id=-1, grow_policy=&#x27;depthwise&#x27;,\n",
       "              importance_type=None, interaction_constraints=&#x27;&#x27;,\n",
       "              learning_rate=0.01, max_bin=256, max_cat_to_onehot=4,\n",
       "              max_delta_step=0, max_depth=1, max_leaves=0, min_child_weight=1,\n",
       "              missing=nan, monotone_constraints=&#x27;()&#x27;, n_estimators=1, n_jobs=0,\n",
       "              num_parallel_tree=1, objective=&#x27;multi:softprob&#x27;, predictor=&#x27;auto&#x27;,\n",
       "              random_state=0, reg_alpha=0, ...)</pre><b>In a Jupyter environment, please rerun this cell to show the HTML representation or trust the notebook. <br />On GitHub, the HTML representation is unable to render, please try loading this page with nbviewer.org.</b></div><div class=\"sk-container\" hidden><div class=\"sk-item\"><div class=\"sk-estimator sk-toggleable\"><input class=\"sk-toggleable__control sk-hidden--visually\" id=\"sk-estimator-id-2\" type=\"checkbox\" checked><label for=\"sk-estimator-id-2\" class=\"sk-toggleable__label sk-toggleable__label-arrow\">XGBClassifier</label><div class=\"sk-toggleable__content\"><pre>XGBClassifier(base_score=0.5, booster=&#x27;gbtree&#x27;, callbacks=None,\n",
       "              colsample_bylevel=1, colsample_bynode=1, colsample_bytree=1,\n",
       "              early_stopping_rounds=None, enable_categorical=False,\n",
       "              eval_metric=None, gamma=0, gpu_id=-1, grow_policy=&#x27;depthwise&#x27;,\n",
       "              importance_type=None, interaction_constraints=&#x27;&#x27;,\n",
       "              learning_rate=0.01, max_bin=256, max_cat_to_onehot=4,\n",
       "              max_delta_step=0, max_depth=1, max_leaves=0, min_child_weight=1,\n",
       "              missing=nan, monotone_constraints=&#x27;()&#x27;, n_estimators=1, n_jobs=0,\n",
       "              num_parallel_tree=1, objective=&#x27;multi:softprob&#x27;, predictor=&#x27;auto&#x27;,\n",
       "              random_state=0, reg_alpha=0, ...)</pre></div></div></div></div></div>"
      ],
      "text/plain": [
       "XGBClassifier(base_score=0.5, booster='gbtree', callbacks=None,\n",
       "              colsample_bylevel=1, colsample_bynode=1, colsample_bytree=1,\n",
       "              early_stopping_rounds=None, enable_categorical=False,\n",
       "              eval_metric=None, gamma=0, gpu_id=-1, grow_policy='depthwise',\n",
       "              importance_type=None, interaction_constraints='',\n",
       "              learning_rate=0.01, max_bin=256, max_cat_to_onehot=4,\n",
       "              max_delta_step=0, max_depth=1, max_leaves=0, min_child_weight=1,\n",
       "              missing=nan, monotone_constraints='()', n_estimators=1, n_jobs=0,\n",
       "              num_parallel_tree=1, objective='multi:softprob', predictor='auto',\n",
       "              random_state=0, reg_alpha=0, ...)"
      ]
     },
     "execution_count": 71,
     "metadata": {},
     "output_type": "execute_result"
    }
   ],
   "source": [
    "# Train the model using above parameter value\n",
    "clf = XGBClassifier(max_depth=1,n_estimators=1,learning_rate=0.01)\n",
    "clf.fit(X_train, y_train)"
   ]
  },
  {
   "cell_type": "code",
   "execution_count": 72,
   "metadata": {},
   "outputs": [
    {
     "name": "stdout",
     "output_type": "stream",
     "text": [
      "Confusion matrix for:  XBGoost\n",
      "[[6888  190    0]\n",
      " [ 156  411    0]\n",
      " [ 143   34    0]]\n",
      "  Classifier  Accuracy  Precision  Recall  F1-Score\n",
      "0    XBGoost    0.9331     0.5352   0.566    0.5499\n"
     ]
    }
   ],
   "source": [
    "# 查看AUC\n",
    "y_pred = clf.predict(X_test)\n",
    "name = \"XBGoost\"\n",
    "res = pd.DataFrame(columns=[\"Classifier\", \n",
    "                                \"Accuracy\", \n",
    "                                \"Precision\", \n",
    "                                \"Recall\", \n",
    "                                \"F1-Score\"])\n",
    "\n",
    "precision, recall, f1, sup = metrics.precision_recall_fscore_support(y_test, y_pred, average='macro')\n",
    "res = res.append({\"Classifier\": name, \"Accuracy\": round(metrics.accuracy_score(y_test, y_pred), 4),\n",
    "                  \"Precision\": round(precision, 4), \"Recall\":round(recall, 4), \"F1-Score\":round(f1, 4)}, ignore_index=True)\n",
    "print(\"Confusion matrix for: \", name)\n",
    "print(confusion_matrix(y_test, y_pred))\n",
    "print(res)"
   ]
  },
  {
   "cell_type": "markdown",
   "metadata": {},
   "source": [
    "### Random Forest"
   ]
  },
  {
   "cell_type": "code",
   "execution_count": 125,
   "metadata": {},
   "outputs": [
    {
     "data": {
      "text/plain": [
       "{'criterion': 'entropy', 'max_depth': 8, 'n_estimators': 140}"
      ]
     },
     "execution_count": 125,
     "metadata": {},
     "output_type": "execute_result"
    }
   ],
   "source": [
    "from sklearn.model_selection import GridSearchCV, StratifiedKFold, StratifiedShuffleSplit\n",
    "from sklearn.ensemble import RandomForestClassifier\n",
    "n_estimators = [140,145,150,155,160];\n",
    "max_depth = range(1,10);\n",
    "criterions = ['gini', 'entropy'];\n",
    "cv = StratifiedShuffleSplit(n_splits=10, test_size=.30, random_state=15)\n",
    "\n",
    "\n",
    "parameters = {'n_estimators':n_estimators,\n",
    "              'max_depth':max_depth,\n",
    "              'criterion': criterions\n",
    "              \n",
    "        }\n",
    "grid = GridSearchCV(estimator=RandomForestClassifier(max_features='auto'),\n",
    "                                 param_grid=parameters,\n",
    "                                 cv=cv,\n",
    "                                 n_jobs = -1)\n",
    "# Train\n",
    "grid.fit(X_under,y_under) \n",
    "# Output the best parameters\n",
    "grid.best_params_"
   ]
  },
  {
   "cell_type": "markdown",
   "metadata": {},
   "source": [
    "可以得到结果xxx"
   ]
  },
  {
   "cell_type": "code",
   "execution_count": 126,
   "metadata": {},
   "outputs": [
    {
     "data": {
      "text/html": [
       "<style>#sk-container-id-7 {color: black;background-color: white;}#sk-container-id-7 pre{padding: 0;}#sk-container-id-7 div.sk-toggleable {background-color: white;}#sk-container-id-7 label.sk-toggleable__label {cursor: pointer;display: block;width: 100%;margin-bottom: 0;padding: 0.3em;box-sizing: border-box;text-align: center;}#sk-container-id-7 label.sk-toggleable__label-arrow:before {content: \"▸\";float: left;margin-right: 0.25em;color: #696969;}#sk-container-id-7 label.sk-toggleable__label-arrow:hover:before {color: black;}#sk-container-id-7 div.sk-estimator:hover label.sk-toggleable__label-arrow:before {color: black;}#sk-container-id-7 div.sk-toggleable__content {max-height: 0;max-width: 0;overflow: hidden;text-align: left;background-color: #f0f8ff;}#sk-container-id-7 div.sk-toggleable__content pre {margin: 0.2em;color: black;border-radius: 0.25em;background-color: #f0f8ff;}#sk-container-id-7 input.sk-toggleable__control:checked~div.sk-toggleable__content {max-height: 200px;max-width: 100%;overflow: auto;}#sk-container-id-7 input.sk-toggleable__control:checked~label.sk-toggleable__label-arrow:before {content: \"▾\";}#sk-container-id-7 div.sk-estimator input.sk-toggleable__control:checked~label.sk-toggleable__label {background-color: #d4ebff;}#sk-container-id-7 div.sk-label input.sk-toggleable__control:checked~label.sk-toggleable__label {background-color: #d4ebff;}#sk-container-id-7 input.sk-hidden--visually {border: 0;clip: rect(1px 1px 1px 1px);clip: rect(1px, 1px, 1px, 1px);height: 1px;margin: -1px;overflow: hidden;padding: 0;position: absolute;width: 1px;}#sk-container-id-7 div.sk-estimator {font-family: monospace;background-color: #f0f8ff;border: 1px dotted black;border-radius: 0.25em;box-sizing: border-box;margin-bottom: 0.5em;}#sk-container-id-7 div.sk-estimator:hover {background-color: #d4ebff;}#sk-container-id-7 div.sk-parallel-item::after {content: \"\";width: 100%;border-bottom: 1px solid gray;flex-grow: 1;}#sk-container-id-7 div.sk-label:hover label.sk-toggleable__label {background-color: #d4ebff;}#sk-container-id-7 div.sk-serial::before {content: \"\";position: absolute;border-left: 1px solid gray;box-sizing: border-box;top: 0;bottom: 0;left: 50%;z-index: 0;}#sk-container-id-7 div.sk-serial {display: flex;flex-direction: column;align-items: center;background-color: white;padding-right: 0.2em;padding-left: 0.2em;position: relative;}#sk-container-id-7 div.sk-item {position: relative;z-index: 1;}#sk-container-id-7 div.sk-parallel {display: flex;align-items: stretch;justify-content: center;background-color: white;position: relative;}#sk-container-id-7 div.sk-item::before, #sk-container-id-7 div.sk-parallel-item::before {content: \"\";position: absolute;border-left: 1px solid gray;box-sizing: border-box;top: 0;bottom: 0;left: 50%;z-index: -1;}#sk-container-id-7 div.sk-parallel-item {display: flex;flex-direction: column;z-index: 1;position: relative;background-color: white;}#sk-container-id-7 div.sk-parallel-item:first-child::after {align-self: flex-end;width: 50%;}#sk-container-id-7 div.sk-parallel-item:last-child::after {align-self: flex-start;width: 50%;}#sk-container-id-7 div.sk-parallel-item:only-child::after {width: 0;}#sk-container-id-7 div.sk-dashed-wrapped {border: 1px dashed gray;margin: 0 0.4em 0.5em 0.4em;box-sizing: border-box;padding-bottom: 0.4em;background-color: white;}#sk-container-id-7 div.sk-label label {font-family: monospace;font-weight: bold;display: inline-block;line-height: 1.2em;}#sk-container-id-7 div.sk-label-container {text-align: center;}#sk-container-id-7 div.sk-container {/* jupyter's `normalize.less` sets `[hidden] { display: none; }` but bootstrap.min.css set `[hidden] { display: none !important; }` so we also need the `!important` here to be able to override the default hidden behavior on the sphinx rendered scikit-learn.org. See: https://github.com/scikit-learn/scikit-learn/issues/21755 */display: inline-block !important;position: relative;}#sk-container-id-7 div.sk-text-repr-fallback {display: none;}</style><div id=\"sk-container-id-7\" class=\"sk-top-container\"><div class=\"sk-text-repr-fallback\"><pre>RandomForestClassifier(criterion=&#x27;entropy&#x27;, max_depth=8, n_estimators=140)</pre><b>In a Jupyter environment, please rerun this cell to show the HTML representation or trust the notebook. <br />On GitHub, the HTML representation is unable to render, please try loading this page with nbviewer.org.</b></div><div class=\"sk-container\" hidden><div class=\"sk-item\"><div class=\"sk-estimator sk-toggleable\"><input class=\"sk-toggleable__control sk-hidden--visually\" id=\"sk-estimator-id-15\" type=\"checkbox\" checked><label for=\"sk-estimator-id-15\" class=\"sk-toggleable__label sk-toggleable__label-arrow\">RandomForestClassifier</label><div class=\"sk-toggleable__content\"><pre>RandomForestClassifier(criterion=&#x27;entropy&#x27;, max_depth=8, n_estimators=140)</pre></div></div></div></div></div>"
      ],
      "text/plain": [
       "RandomForestClassifier(criterion='entropy', max_depth=8, n_estimators=140)"
      ]
     },
     "execution_count": 126,
     "metadata": {},
     "output_type": "execute_result"
    }
   ],
   "source": []
  },
  {
   "cell_type": "code",
   "execution_count": 133,
   "metadata": {},
   "outputs": [
    {
     "ename": "AttributeError",
     "evalue": "'RandomForestClassifier' object has no attribute 'items'",
     "output_type": "error",
     "traceback": [
      "\u001b[1;31m---------------------------------------------------------------------------\u001b[0m",
      "\u001b[1;31mAttributeError\u001b[0m                            Traceback (most recent call last)",
      "\u001b[1;32m<ipython-input-133-d5f588fd70d9>\u001b[0m in \u001b[0;36m<module>\u001b[1;34m\u001b[0m\n\u001b[0;32m      2\u001b[0m \u001b[0mrandomforest\u001b[0m \u001b[1;33m=\u001b[0m \u001b[0mRandomForestClassifier\u001b[0m\u001b[1;33m(\u001b[0m\u001b[0mn_estimators\u001b[0m\u001b[1;33m=\u001b[0m\u001b[1;36m140\u001b[0m\u001b[1;33m,\u001b[0m \u001b[0mmax_depth\u001b[0m\u001b[1;33m=\u001b[0m\u001b[1;36m8\u001b[0m\u001b[1;33m,\u001b[0m\u001b[0mcriterion\u001b[0m\u001b[1;33m=\u001b[0m\u001b[1;34m'entropy'\u001b[0m\u001b[1;33m)\u001b[0m\u001b[1;33m\u001b[0m\u001b[1;33m\u001b[0m\u001b[0m\n\u001b[0;32m      3\u001b[0m \u001b[1;33m\u001b[0m\u001b[0m\n\u001b[1;32m----> 4\u001b[1;33m \u001b[0mdisplay\u001b[0m\u001b[1;33m(\u001b[0m\u001b[0mclassification\u001b[0m\u001b[1;33m(\u001b[0m\u001b[0mrandomforest\u001b[0m\u001b[1;33m,\u001b[0m\u001b[0mX_train_under\u001b[0m\u001b[1;33m,\u001b[0m\u001b[0my_train_under\u001b[0m\u001b[1;33m,\u001b[0m\u001b[0mX_test_under\u001b[0m\u001b[1;33m,\u001b[0m\u001b[0my_test_under\u001b[0m\u001b[1;33m)\u001b[0m\u001b[1;33m)\u001b[0m\u001b[1;33m\u001b[0m\u001b[1;33m\u001b[0m\u001b[0m\n\u001b[0m",
      "\u001b[1;32m<ipython-input-46-dc8e7354a661>\u001b[0m in \u001b[0;36mclassification\u001b[1;34m(classifiers, X_train, X_test, y_train, y_test)\u001b[0m\n\u001b[0;32m      7\u001b[0m                                 \"F1-Score\"])    \n\u001b[0;32m      8\u001b[0m \u001b[1;33m\u001b[0m\u001b[0m\n\u001b[1;32m----> 9\u001b[1;33m     \u001b[1;32mfor\u001b[0m \u001b[0mname\u001b[0m\u001b[1;33m,\u001b[0m \u001b[0mclf\u001b[0m \u001b[1;32min\u001b[0m \u001b[0mclassifiers\u001b[0m\u001b[1;33m.\u001b[0m\u001b[0mitems\u001b[0m\u001b[1;33m(\u001b[0m\u001b[1;33m)\u001b[0m\u001b[1;33m:\u001b[0m\u001b[1;33m\u001b[0m\u001b[1;33m\u001b[0m\u001b[0m\n\u001b[0m\u001b[0;32m     10\u001b[0m         \u001b[0mclf\u001b[0m\u001b[1;33m.\u001b[0m\u001b[0mfit\u001b[0m\u001b[1;33m(\u001b[0m\u001b[0mX_train\u001b[0m\u001b[1;33m,\u001b[0m \u001b[0my_train\u001b[0m\u001b[1;33m)\u001b[0m\u001b[1;33m\u001b[0m\u001b[1;33m\u001b[0m\u001b[0m\n\u001b[0;32m     11\u001b[0m         \u001b[0my_pred\u001b[0m \u001b[1;33m=\u001b[0m \u001b[0mclf\u001b[0m\u001b[1;33m.\u001b[0m\u001b[0mpredict\u001b[0m\u001b[1;33m(\u001b[0m\u001b[0mX_test\u001b[0m\u001b[1;33m)\u001b[0m\u001b[1;33m\u001b[0m\u001b[1;33m\u001b[0m\u001b[0m\n",
      "\u001b[1;31mAttributeError\u001b[0m: 'RandomForestClassifier' object has no attribute 'items'"
     ]
    }
   ],
   "source": [
    "# Train the model using above parameter value\n",
    "randomforest = RandomForestClassifier(n_estimators=140, max_depth=8,criterion='entropy',max_features='auto')\n",
    "\n",
    "display(classification(randomforest,X_train_under,y_train_under,X_test_under,y_test_under))"
   ]
  },
  {
   "cell_type": "code",
   "execution_count": null,
   "metadata": {},
   "outputs": [],
   "source": [
    "# 这个结果优于调参前的xxx"
   ]
  },
  {
   "cell_type": "code",
   "execution_count": null,
   "metadata": {},
   "outputs": [],
   "source": [
    "rmse=nestimators=[]\n",
    "for n in [20,30,50,80,100,200,300,400,500,600,700,800]:\n",
    "    regressor = RandomForestRegressor(n_estimators=n, random_state=0)\n",
    "    regressor.fit(X_train, y_train)\n",
    "    y_pred = regressor.predict(X_test)\n",
    "    print('-------------------')\n",
    "    print('n_estimators={}'.format(n))\n",
    "    print('Mean Absolute Error:', metrics.mean_absolute_error(y_test, y_pred))\n",
    "    print('Mean Squared Error:', metrics.mean_squared_error(y_test, y_pred))\n",
    "    print('Root Mean Squared Error:', np.sqrt(metrics.mean_squared_error(y_test, y_pred)))\n",
    "    rmse=np.append(rmse,np.sqrt(metrics.mean_squared_error(y_test, y_pred)))\n",
    "    nestimators=np.append(nestimators,n)"
   ]
  },
  {
   "cell_type": "code",
   "execution_count": null,
   "metadata": {},
   "outputs": [],
   "source": [
    "rmse"
   ]
  },
  {
   "cell_type": "code",
   "execution_count": null,
   "metadata": {},
   "outputs": [],
   "source": [
    "nestimators"
   ]
  },
  {
   "cell_type": "code",
   "execution_count": null,
   "metadata": {},
   "outputs": [],
   "source": [
    "# Creating a bar plot\n",
    "sns.set_style('whitegrid')\n",
    "plt.plot(nestimators,rmse,'ro',linestyle='dashed',linewidth=1,markersize=10)\n",
    "# Add labels to your graph\n",
    "plt.xlabel('Feature Importance Score')\n",
    "plt.ylabel('Features')\n",
    "plt.title(\"Visualizing Important Features/RMSE\")\n",
    "plt.show()"
   ]
  },
  {
   "cell_type": "markdown",
   "metadata": {},
   "source": [
    "## XGBoost"
   ]
  },
  {
   "cell_type": "code",
   "execution_count": null,
   "metadata": {},
   "outputs": [],
   "source": []
  },
  {
   "cell_type": "code",
   "execution_count": null,
   "metadata": {},
   "outputs": [],
   "source": []
  },
  {
   "cell_type": "code",
   "execution_count": null,
   "metadata": {},
   "outputs": [],
   "source": []
  },
  {
   "cell_type": "code",
   "execution_count": null,
   "metadata": {},
   "outputs": [],
   "source": []
  },
  {
   "cell_type": "markdown",
   "metadata": {},
   "source": [
    "## ROC "
   ]
  },
  {
   "cell_type": "code",
   "execution_count": null,
   "metadata": {},
   "outputs": [],
   "source": []
  },
  {
   "cell_type": "code",
   "execution_count": null,
   "metadata": {},
   "outputs": [],
   "source": []
  },
  {
   "cell_type": "markdown",
   "metadata": {},
   "source": [
    "# Conclusion:\n",
    "\n",
    "加入图像\n",
    "\n",
    "优化\n"
   ]
  },
  {
   "cell_type": "markdown",
   "metadata": {},
   "source": []
  }
 ],
 "metadata": {
  "kernelspec": {
   "display_name": "Python 3",
   "language": "python",
   "name": "python3"
  },
  "language_info": {
   "codemirror_mode": {
    "name": "ipython",
    "version": 3
   },
   "file_extension": ".py",
   "mimetype": "text/x-python",
   "name": "python",
   "nbconvert_exporter": "python",
   "pygments_lexer": "ipython3",
   "version": "3.8.5"
  },
  "vscode": {
   "interpreter": {
    "hash": "ba0891a06505de67b4d177d9d5e1cfad802960b5ab40987f33a483b4ad9f0d0f"
   }
  }
 },
 "nbformat": 4,
 "nbformat_minor": 4
}
