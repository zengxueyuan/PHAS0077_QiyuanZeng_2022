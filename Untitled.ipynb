{
 "cells": [
  {
   "cell_type": "code",
   "execution_count": 1,
   "metadata": {},
   "outputs": [],
   "source": [
    "import numpy as np\n",
    "import pandas as pd\n",
    "import matplotlib.pyplot as plt\n",
    "import seaborn as sns\n",
    "from scipy import stats\n",
    "\n",
    "import warnings\n",
    "warnings.filterwarnings(\"ignore\")\n",
    " \n",
    "%matplotlib inline"
   ]
  },
  {
   "cell_type": "markdown",
   "metadata": {},
   "source": [
    "# Read dataseta"
   ]
  },
  {
   "cell_type": "code",
   "execution_count": 2,
   "metadata": {},
   "outputs": [],
   "source": [
    "\"\"\"\n",
    "Read dataset\n",
    "\"\"\"\n",
    "data = pd.read_csv('dataset/thyroidDF.csv')"
   ]
  },
  {
   "cell_type": "code",
   "execution_count": 3,
   "metadata": {},
   "outputs": [
    {
     "data": {
      "text/html": [
       "<div>\n",
       "<style scoped>\n",
       "    .dataframe tbody tr th:only-of-type {\n",
       "        vertical-align: middle;\n",
       "    }\n",
       "\n",
       "    .dataframe tbody tr th {\n",
       "        vertical-align: top;\n",
       "    }\n",
       "\n",
       "    .dataframe thead th {\n",
       "        text-align: right;\n",
       "    }\n",
       "</style>\n",
       "<table border=\"1\" class=\"dataframe\">\n",
       "  <thead>\n",
       "    <tr style=\"text-align: right;\">\n",
       "      <th></th>\n",
       "      <th>age</th>\n",
       "      <th>sex</th>\n",
       "      <th>on_thyroxine</th>\n",
       "      <th>query_on_thyroxine</th>\n",
       "      <th>on_antithyroid_meds</th>\n",
       "      <th>sick</th>\n",
       "      <th>pregnant</th>\n",
       "      <th>thyroid_surgery</th>\n",
       "      <th>I131_treatment</th>\n",
       "      <th>query_hypothyroid</th>\n",
       "      <th>...</th>\n",
       "      <th>TT4</th>\n",
       "      <th>T4U_measured</th>\n",
       "      <th>T4U</th>\n",
       "      <th>FTI_measured</th>\n",
       "      <th>FTI</th>\n",
       "      <th>TBG_measured</th>\n",
       "      <th>TBG</th>\n",
       "      <th>referral_source</th>\n",
       "      <th>target</th>\n",
       "      <th>patient_id</th>\n",
       "    </tr>\n",
       "  </thead>\n",
       "  <tbody>\n",
       "    <tr>\n",
       "      <th>0</th>\n",
       "      <td>29</td>\n",
       "      <td>F</td>\n",
       "      <td>f</td>\n",
       "      <td>f</td>\n",
       "      <td>f</td>\n",
       "      <td>f</td>\n",
       "      <td>f</td>\n",
       "      <td>f</td>\n",
       "      <td>f</td>\n",
       "      <td>t</td>\n",
       "      <td>...</td>\n",
       "      <td>NaN</td>\n",
       "      <td>f</td>\n",
       "      <td>NaN</td>\n",
       "      <td>f</td>\n",
       "      <td>NaN</td>\n",
       "      <td>f</td>\n",
       "      <td>NaN</td>\n",
       "      <td>other</td>\n",
       "      <td>-</td>\n",
       "      <td>840801013</td>\n",
       "    </tr>\n",
       "    <tr>\n",
       "      <th>1</th>\n",
       "      <td>29</td>\n",
       "      <td>F</td>\n",
       "      <td>f</td>\n",
       "      <td>f</td>\n",
       "      <td>f</td>\n",
       "      <td>f</td>\n",
       "      <td>f</td>\n",
       "      <td>f</td>\n",
       "      <td>f</td>\n",
       "      <td>f</td>\n",
       "      <td>...</td>\n",
       "      <td>128.0</td>\n",
       "      <td>f</td>\n",
       "      <td>NaN</td>\n",
       "      <td>f</td>\n",
       "      <td>NaN</td>\n",
       "      <td>f</td>\n",
       "      <td>NaN</td>\n",
       "      <td>other</td>\n",
       "      <td>-</td>\n",
       "      <td>840801014</td>\n",
       "    </tr>\n",
       "    <tr>\n",
       "      <th>2</th>\n",
       "      <td>41</td>\n",
       "      <td>F</td>\n",
       "      <td>f</td>\n",
       "      <td>f</td>\n",
       "      <td>f</td>\n",
       "      <td>f</td>\n",
       "      <td>f</td>\n",
       "      <td>f</td>\n",
       "      <td>f</td>\n",
       "      <td>f</td>\n",
       "      <td>...</td>\n",
       "      <td>NaN</td>\n",
       "      <td>f</td>\n",
       "      <td>NaN</td>\n",
       "      <td>f</td>\n",
       "      <td>NaN</td>\n",
       "      <td>t</td>\n",
       "      <td>11.0</td>\n",
       "      <td>other</td>\n",
       "      <td>-</td>\n",
       "      <td>840801042</td>\n",
       "    </tr>\n",
       "    <tr>\n",
       "      <th>3</th>\n",
       "      <td>36</td>\n",
       "      <td>F</td>\n",
       "      <td>f</td>\n",
       "      <td>f</td>\n",
       "      <td>f</td>\n",
       "      <td>f</td>\n",
       "      <td>f</td>\n",
       "      <td>f</td>\n",
       "      <td>f</td>\n",
       "      <td>f</td>\n",
       "      <td>...</td>\n",
       "      <td>NaN</td>\n",
       "      <td>f</td>\n",
       "      <td>NaN</td>\n",
       "      <td>f</td>\n",
       "      <td>NaN</td>\n",
       "      <td>t</td>\n",
       "      <td>26.0</td>\n",
       "      <td>other</td>\n",
       "      <td>-</td>\n",
       "      <td>840803046</td>\n",
       "    </tr>\n",
       "    <tr>\n",
       "      <th>4</th>\n",
       "      <td>32</td>\n",
       "      <td>F</td>\n",
       "      <td>f</td>\n",
       "      <td>f</td>\n",
       "      <td>f</td>\n",
       "      <td>f</td>\n",
       "      <td>f</td>\n",
       "      <td>f</td>\n",
       "      <td>f</td>\n",
       "      <td>f</td>\n",
       "      <td>...</td>\n",
       "      <td>NaN</td>\n",
       "      <td>f</td>\n",
       "      <td>NaN</td>\n",
       "      <td>f</td>\n",
       "      <td>NaN</td>\n",
       "      <td>t</td>\n",
       "      <td>36.0</td>\n",
       "      <td>other</td>\n",
       "      <td>S</td>\n",
       "      <td>840803047</td>\n",
       "    </tr>\n",
       "  </tbody>\n",
       "</table>\n",
       "<p>5 rows × 31 columns</p>\n",
       "</div>"
      ],
      "text/plain": [
       "   age sex on_thyroxine query_on_thyroxine on_antithyroid_meds sick pregnant  \\\n",
       "0   29   F            f                  f                   f    f        f   \n",
       "1   29   F            f                  f                   f    f        f   \n",
       "2   41   F            f                  f                   f    f        f   \n",
       "3   36   F            f                  f                   f    f        f   \n",
       "4   32   F            f                  f                   f    f        f   \n",
       "\n",
       "  thyroid_surgery I131_treatment query_hypothyroid  ...    TT4 T4U_measured  \\\n",
       "0               f              f                 t  ...    NaN            f   \n",
       "1               f              f                 f  ...  128.0            f   \n",
       "2               f              f                 f  ...    NaN            f   \n",
       "3               f              f                 f  ...    NaN            f   \n",
       "4               f              f                 f  ...    NaN            f   \n",
       "\n",
       "  T4U FTI_measured FTI TBG_measured   TBG  referral_source target  patient_id  \n",
       "0 NaN            f NaN            f   NaN            other      -   840801013  \n",
       "1 NaN            f NaN            f   NaN            other      -   840801014  \n",
       "2 NaN            f NaN            t  11.0            other      -   840801042  \n",
       "3 NaN            f NaN            t  26.0            other      -   840803046  \n",
       "4 NaN            f NaN            t  36.0            other      S   840803047  \n",
       "\n",
       "[5 rows x 31 columns]"
      ]
     },
     "execution_count": 3,
     "metadata": {},
     "output_type": "execute_result"
    }
   ],
   "source": [
    "data.head()"
   ]
  },
  {
   "cell_type": "markdown",
   "metadata": {},
   "source": [
    "# Univariate data analysis"
   ]
  },
  {
   "cell_type": "code",
   "execution_count": 4,
   "metadata": {},
   "outputs": [
    {
     "name": "stdout",
     "output_type": "stream",
     "text": [
      "<class 'pandas.core.frame.DataFrame'>\n",
      "RangeIndex: 9172 entries, 0 to 9171\n",
      "Data columns (total 31 columns):\n",
      " #   Column               Non-Null Count  Dtype  \n",
      "---  ------               --------------  -----  \n",
      " 0   age                  9172 non-null   int64  \n",
      " 1   sex                  8865 non-null   object \n",
      " 2   on_thyroxine         9172 non-null   object \n",
      " 3   query_on_thyroxine   9172 non-null   object \n",
      " 4   on_antithyroid_meds  9172 non-null   object \n",
      " 5   sick                 9172 non-null   object \n",
      " 6   pregnant             9172 non-null   object \n",
      " 7   thyroid_surgery      9172 non-null   object \n",
      " 8   I131_treatment       9172 non-null   object \n",
      " 9   query_hypothyroid    9172 non-null   object \n",
      " 10  query_hyperthyroid   9172 non-null   object \n",
      " 11  lithium              9172 non-null   object \n",
      " 12  goitre               9172 non-null   object \n",
      " 13  tumor                9172 non-null   object \n",
      " 14  hypopituitary        9172 non-null   object \n",
      " 15  psych                9172 non-null   object \n",
      " 16  TSH_measured         9172 non-null   object \n",
      " 17  TSH                  8330 non-null   float64\n",
      " 18  T3_measured          9172 non-null   object \n",
      " 19  T3                   6568 non-null   float64\n",
      " 20  TT4_measured         9172 non-null   object \n",
      " 21  TT4                  8730 non-null   float64\n",
      " 22  T4U_measured         9172 non-null   object \n",
      " 23  T4U                  8363 non-null   float64\n",
      " 24  FTI_measured         9172 non-null   object \n",
      " 25  FTI                  8370 non-null   float64\n",
      " 26  TBG_measured         9172 non-null   object \n",
      " 27  TBG                  349 non-null    float64\n",
      " 28  referral_source      9172 non-null   object \n",
      " 29  target               9172 non-null   object \n",
      " 30  patient_id           9172 non-null   int64  \n",
      "dtypes: float64(6), int64(2), object(23)\n",
      "memory usage: 2.2+ MB\n"
     ]
    }
   ],
   "source": [
    "data.info()"
   ]
  },
  {
   "cell_type": "markdown",
   "metadata": {},
   "source": [
    "### Data infomation"
   ]
  },
  {
   "cell_type": "markdown",
   "metadata": {},
   "source": [
    "1. There are 6 **float64**, 2 **int64** and 23 **objects**\n",
    "2. The size: 2.2MB\n",
    "3. 9172 instances in total"
   ]
  },
  {
   "cell_type": "markdown",
   "metadata": {},
   "source": [
    "# Missing Valuea"
   ]
  },
  {
   "cell_type": "markdown",
   "metadata": {},
   "source": [
    "## _Sex_ missing value"
   ]
  },
  {
   "cell_type": "code",
   "execution_count": 5,
   "metadata": {},
   "outputs": [
    {
     "data": {
      "text/plain": [
       "0.03347143480156999"
      ]
     },
     "execution_count": 5,
     "metadata": {},
     "output_type": "execute_result"
    }
   ],
   "source": [
    "(data.shape[0]-data['sex'].count())/data.shape[0]"
   ]
  },
  {
   "cell_type": "code",
   "execution_count": 6,
   "metadata": {},
   "outputs": [
    {
     "data": {
      "text/plain": [
       "age                    307\n",
       "sex                      0\n",
       "on_thyroxine           307\n",
       "query_on_thyroxine     307\n",
       "on_antithyroid_meds    307\n",
       "sick                   307\n",
       "pregnant               307\n",
       "thyroid_surgery        307\n",
       "I131_treatment         307\n",
       "query_hypothyroid      307\n",
       "query_hyperthyroid     307\n",
       "lithium                307\n",
       "goitre                 307\n",
       "tumor                  307\n",
       "hypopituitary          307\n",
       "psych                  307\n",
       "TSH_measured           307\n",
       "TSH                    278\n",
       "T3_measured            307\n",
       "T3                     224\n",
       "TT4_measured           307\n",
       "TT4                    285\n",
       "T4U_measured           307\n",
       "T4U                    273\n",
       "FTI_measured           307\n",
       "FTI                    273\n",
       "TBG_measured           307\n",
       "TBG                     18\n",
       "referral_source        307\n",
       "target                 307\n",
       "patient_id             307\n",
       "dtype: int64"
      ]
     },
     "execution_count": 6,
     "metadata": {},
     "output_type": "execute_result"
    }
   ],
   "source": [
    "data[data['sex'].isna()].count()"
   ]
  },
  {
   "cell_type": "code",
   "execution_count": 7,
   "metadata": {},
   "outputs": [
    {
     "data": {
      "text/html": [
       "<div>\n",
       "<style scoped>\n",
       "    .dataframe tbody tr th:only-of-type {\n",
       "        vertical-align: middle;\n",
       "    }\n",
       "\n",
       "    .dataframe tbody tr th {\n",
       "        vertical-align: top;\n",
       "    }\n",
       "\n",
       "    .dataframe thead th {\n",
       "        text-align: right;\n",
       "    }\n",
       "</style>\n",
       "<table border=\"1\" class=\"dataframe\">\n",
       "  <thead>\n",
       "    <tr style=\"text-align: right;\">\n",
       "      <th></th>\n",
       "      <th>patient_id</th>\n",
       "    </tr>\n",
       "    <tr>\n",
       "      <th>sex</th>\n",
       "      <th></th>\n",
       "    </tr>\n",
       "  </thead>\n",
       "  <tbody>\n",
       "    <tr>\n",
       "      <th>F</th>\n",
       "      <td>6073</td>\n",
       "    </tr>\n",
       "    <tr>\n",
       "      <th>M</th>\n",
       "      <td>2792</td>\n",
       "    </tr>\n",
       "  </tbody>\n",
       "</table>\n",
       "</div>"
      ],
      "text/plain": [
       "     patient_id\n",
       "sex            \n",
       "F          6073\n",
       "M          2792"
      ]
     },
     "execution_count": 7,
     "metadata": {},
     "output_type": "execute_result"
    }
   ],
   "source": [
    "data.groupby(['sex'])[['patient_id']].count()"
   ]
  },
  {
   "cell_type": "markdown",
   "metadata": {},
   "source": [
    "1. The missing rate is: 3.347%\n",
    "2. The number of missing value: 307\n",
    "3. The number of non-missing value: 8865 (6073 Female and 2792 Male)"
   ]
  },
  {
   "cell_type": "markdown",
   "metadata": {},
   "source": [
    "## _TSH_ Missing Value"
   ]
  },
  {
   "cell_type": "code",
   "execution_count": 8,
   "metadata": {},
   "outputs": [
    {
     "data": {
      "text/plain": [
       "0.09180113388573921"
      ]
     },
     "execution_count": 8,
     "metadata": {},
     "output_type": "execute_result"
    }
   ],
   "source": [
    "(data.shape[0]-data['TSH'].count())/data.shape[0]"
   ]
  },
  {
   "cell_type": "code",
   "execution_count": 9,
   "metadata": {},
   "outputs": [
    {
     "data": {
      "text/plain": [
       "age                    842\n",
       "sex                    813\n",
       "on_thyroxine           842\n",
       "query_on_thyroxine     842\n",
       "on_antithyroid_meds    842\n",
       "sick                   842\n",
       "pregnant               842\n",
       "thyroid_surgery        842\n",
       "I131_treatment         842\n",
       "query_hypothyroid      842\n",
       "query_hyperthyroid     842\n",
       "lithium                842\n",
       "goitre                 842\n",
       "tumor                  842\n",
       "hypopituitary          842\n",
       "psych                  842\n",
       "TSH_measured           842\n",
       "TSH                      0\n",
       "T3_measured            842\n",
       "T3                     215\n",
       "TT4_measured           842\n",
       "TT4                    468\n",
       "T4U_measured           842\n",
       "T4U                    454\n",
       "FTI_measured           842\n",
       "FTI                    453\n",
       "TBG_measured           842\n",
       "TBG                    317\n",
       "referral_source        842\n",
       "target                 842\n",
       "patient_id             842\n",
       "dtype: int64"
      ]
     },
     "execution_count": 9,
     "metadata": {},
     "output_type": "execute_result"
    }
   ],
   "source": [
    "data[data['TSH'].isna()].count()"
   ]
  },
  {
   "cell_type": "markdown",
   "metadata": {},
   "source": [
    "1. TSH missing rate: 9.18%\n",
    "2. TSH missed 842 instances\n",
    "3. Non-missing: 8330 instances"
   ]
  },
  {
   "cell_type": "markdown",
   "metadata": {},
   "source": [
    "## _T3_ Missing Value"
   ]
  },
  {
   "cell_type": "code",
   "execution_count": 10,
   "metadata": {},
   "outputs": [
    {
     "data": {
      "text/plain": [
       "0.2839075447012647"
      ]
     },
     "execution_count": 10,
     "metadata": {},
     "output_type": "execute_result"
    }
   ],
   "source": [
    "(data.shape[0]-data['T3'].count())/data.shape[0]"
   ]
  },
  {
   "cell_type": "code",
   "execution_count": 11,
   "metadata": {},
   "outputs": [
    {
     "data": {
      "text/plain": [
       "age                    2604\n",
       "sex                    2521\n",
       "on_thyroxine           2604\n",
       "query_on_thyroxine     2604\n",
       "on_antithyroid_meds    2604\n",
       "sick                   2604\n",
       "pregnant               2604\n",
       "thyroid_surgery        2604\n",
       "I131_treatment         2604\n",
       "query_hypothyroid      2604\n",
       "query_hyperthyroid     2604\n",
       "lithium                2604\n",
       "goitre                 2604\n",
       "tumor                  2604\n",
       "hypopituitary          2604\n",
       "psych                  2604\n",
       "TSH_measured           2604\n",
       "TSH                    1977\n",
       "T3_measured            2604\n",
       "T3                        0\n",
       "TT4_measured           2604\n",
       "TT4                    2247\n",
       "T4U_measured           2604\n",
       "T4U                    2233\n",
       "FTI_measured           2604\n",
       "FTI                    2233\n",
       "TBG_measured           2604\n",
       "TBG                     315\n",
       "referral_source        2604\n",
       "target                 2604\n",
       "patient_id             2604\n",
       "dtype: int64"
      ]
     },
     "execution_count": 11,
     "metadata": {},
     "output_type": "execute_result"
    }
   ],
   "source": [
    "data[data['T3'].isna()].count()"
   ]
  },
  {
   "cell_type": "markdown",
   "metadata": {},
   "source": [
    "1. T3 missing rate: 28.39%\n",
    "2. T3 missed 2604 instances\n",
    "3. Non-missing: 6568 instances"
   ]
  },
  {
   "cell_type": "markdown",
   "metadata": {},
   "source": [
    "## _TT4_ Missing Value"
   ]
  },
  {
   "cell_type": "code",
   "execution_count": 12,
   "metadata": {},
   "outputs": [
    {
     "data": {
      "text/plain": [
       "0.0481901439162669"
      ]
     },
     "execution_count": 12,
     "metadata": {},
     "output_type": "execute_result"
    }
   ],
   "source": [
    "(data.shape[0]-data['TT4'].count())/data.shape[0]"
   ]
  },
  {
   "cell_type": "code",
   "execution_count": 13,
   "metadata": {},
   "outputs": [
    {
     "data": {
      "text/plain": [
       "age                    442\n",
       "sex                    420\n",
       "on_thyroxine           442\n",
       "query_on_thyroxine     442\n",
       "on_antithyroid_meds    442\n",
       "sick                   442\n",
       "pregnant               442\n",
       "thyroid_surgery        442\n",
       "I131_treatment         442\n",
       "query_hypothyroid      442\n",
       "query_hyperthyroid     442\n",
       "lithium                442\n",
       "goitre                 442\n",
       "tumor                  442\n",
       "hypopituitary          442\n",
       "psych                  442\n",
       "TSH_measured           442\n",
       "TSH                     68\n",
       "T3_measured            442\n",
       "T3                      85\n",
       "TT4_measured           442\n",
       "TT4                      0\n",
       "T4U_measured           442\n",
       "T4U                      4\n",
       "FTI_measured           442\n",
       "FTI                      9\n",
       "TBG_measured           442\n",
       "TBG                    307\n",
       "referral_source        442\n",
       "target                 442\n",
       "patient_id             442\n",
       "dtype: int64"
      ]
     },
     "execution_count": 13,
     "metadata": {},
     "output_type": "execute_result"
    }
   ],
   "source": [
    "data[data['TT4'].isna()].count()"
   ]
  },
  {
   "cell_type": "markdown",
   "metadata": {},
   "source": [
    "1. T3 missing rate: 4.819%\n",
    "2. T3 missed 442 instances\n",
    "3. Non-missing: 8730  instances"
   ]
  },
  {
   "cell_type": "markdown",
   "metadata": {},
   "source": [
    "## _T4U_ Missing Value"
   ]
  },
  {
   "cell_type": "code",
   "execution_count": 14,
   "metadata": {},
   "outputs": [
    {
     "data": {
      "text/plain": [
       "0.08820322721325774"
      ]
     },
     "execution_count": 14,
     "metadata": {},
     "output_type": "execute_result"
    }
   ],
   "source": [
    "(data.shape[0]-data['T4U'].count())/data.shape[0]"
   ]
  },
  {
   "cell_type": "code",
   "execution_count": 15,
   "metadata": {},
   "outputs": [
    {
     "data": {
      "text/plain": [
       "age                    809\n",
       "sex                    775\n",
       "on_thyroxine           809\n",
       "query_on_thyroxine     809\n",
       "on_antithyroid_meds    809\n",
       "sick                   809\n",
       "pregnant               809\n",
       "thyroid_surgery        809\n",
       "I131_treatment         809\n",
       "query_hypothyroid      809\n",
       "query_hyperthyroid     809\n",
       "lithium                809\n",
       "goitre                 809\n",
       "tumor                  809\n",
       "hypopituitary          809\n",
       "psych                  809\n",
       "TSH_measured           809\n",
       "TSH                    421\n",
       "T3_measured            809\n",
       "T3                     438\n",
       "TT4_measured           809\n",
       "TT4                    371\n",
       "T4U_measured           809\n",
       "T4U                      0\n",
       "FTI_measured           809\n",
       "FTI                      8\n",
       "TBG_measured           809\n",
       "TBG                    308\n",
       "referral_source        809\n",
       "target                 809\n",
       "patient_id             809\n",
       "dtype: int64"
      ]
     },
     "execution_count": 15,
     "metadata": {},
     "output_type": "execute_result"
    }
   ],
   "source": [
    "data[data['T4U'].isna()].count()"
   ]
  },
  {
   "cell_type": "markdown",
   "metadata": {},
   "source": [
    "1. T3 missing rate: 4.819%\n",
    "2. T3 missed 442 instances\n",
    "3. Non-missing: 8730 instances"
   ]
  },
  {
   "cell_type": "markdown",
   "metadata": {},
   "source": [
    "## _FTI_ Missing Value"
   ]
  },
  {
   "cell_type": "code",
   "execution_count": 16,
   "metadata": {},
   "outputs": [
    {
     "data": {
      "text/plain": [
       "0.08744003488879197"
      ]
     },
     "execution_count": 16,
     "metadata": {},
     "output_type": "execute_result"
    }
   ],
   "source": [
    "(data.shape[0]-data['FTI'].count())/data.shape[0]"
   ]
  },
  {
   "cell_type": "code",
   "execution_count": 17,
   "metadata": {},
   "outputs": [
    {
     "data": {
      "text/plain": [
       "age                    802\n",
       "sex                    768\n",
       "on_thyroxine           802\n",
       "query_on_thyroxine     802\n",
       "on_antithyroid_meds    802\n",
       "sick                   802\n",
       "pregnant               802\n",
       "thyroid_surgery        802\n",
       "I131_treatment         802\n",
       "query_hypothyroid      802\n",
       "query_hyperthyroid     802\n",
       "lithium                802\n",
       "goitre                 802\n",
       "tumor                  802\n",
       "hypopituitary          802\n",
       "psych                  802\n",
       "TSH_measured           802\n",
       "TSH                    413\n",
       "T3_measured            802\n",
       "T3                     431\n",
       "TT4_measured           802\n",
       "TT4                    369\n",
       "T4U_measured           802\n",
       "T4U                      1\n",
       "FTI_measured           802\n",
       "FTI                      0\n",
       "TBG_measured           802\n",
       "TBG                    308\n",
       "referral_source        802\n",
       "target                 802\n",
       "patient_id             802\n",
       "dtype: int64"
      ]
     },
     "execution_count": 17,
     "metadata": {},
     "output_type": "execute_result"
    }
   ],
   "source": [
    "data[data['FTI'].isna()].count()"
   ]
  },
  {
   "cell_type": "markdown",
   "metadata": {},
   "source": [
    "1. T3 missing rate: 8.744%\n",
    "2. T3 missed 802 instances\n",
    "3. Non-missing: 8730 instances"
   ]
  },
  {
   "cell_type": "markdown",
   "metadata": {},
   "source": [
    "## _TBG_ missing value"
   ]
  },
  {
   "cell_type": "code",
   "execution_count": 18,
   "metadata": {},
   "outputs": [
    {
     "data": {
      "text/plain": [
       "0.9619494112516355"
      ]
     },
     "execution_count": 18,
     "metadata": {},
     "output_type": "execute_result"
    }
   ],
   "source": [
    "(data.shape[0]-data['TBG'].count())/data.shape[0]"
   ]
  },
  {
   "cell_type": "code",
   "execution_count": 19,
   "metadata": {},
   "outputs": [
    {
     "data": {
      "text/plain": [
       "age                    8823\n",
       "sex                    8534\n",
       "on_thyroxine           8823\n",
       "query_on_thyroxine     8823\n",
       "on_antithyroid_meds    8823\n",
       "sick                   8823\n",
       "pregnant               8823\n",
       "thyroid_surgery        8823\n",
       "I131_treatment         8823\n",
       "query_hypothyroid      8823\n",
       "query_hyperthyroid     8823\n",
       "lithium                8823\n",
       "goitre                 8823\n",
       "tumor                  8823\n",
       "hypopituitary          8823\n",
       "psych                  8823\n",
       "TSH_measured           8823\n",
       "TSH                    8298\n",
       "T3_measured            8823\n",
       "T3                     6534\n",
       "TT4_measured           8823\n",
       "TT4                    8688\n",
       "T4U_measured           8823\n",
       "T4U                    8322\n",
       "FTI_measured           8823\n",
       "FTI                    8329\n",
       "TBG_measured           8823\n",
       "TBG                       0\n",
       "referral_source        8823\n",
       "target                 8823\n",
       "patient_id             8823\n",
       "dtype: int64"
      ]
     },
     "execution_count": 19,
     "metadata": {},
     "output_type": "execute_result"
    }
   ],
   "source": [
    "data[data['TBG'].isna()].count()"
   ]
  },
  {
   "cell_type": "markdown",
   "metadata": {},
   "source": [
    "1. T3 missing rate: 96.19%\n",
    "2. T3 missed 8823 instances\n",
    "3. Non-missing: 349 instances"
   ]
  },
  {
   "cell_type": "markdown",
   "metadata": {},
   "source": [
    "# Data distribution"
   ]
  },
  {
   "cell_type": "markdown",
   "metadata": {},
   "source": [
    "## Statistical infomation"
   ]
  },
  {
   "cell_type": "code",
   "execution_count": 20,
   "metadata": {},
   "outputs": [
    {
     "data": {
      "text/html": [
       "<div>\n",
       "<style scoped>\n",
       "    .dataframe tbody tr th:only-of-type {\n",
       "        vertical-align: middle;\n",
       "    }\n",
       "\n",
       "    .dataframe tbody tr th {\n",
       "        vertical-align: top;\n",
       "    }\n",
       "\n",
       "    .dataframe thead th {\n",
       "        text-align: right;\n",
       "    }\n",
       "</style>\n",
       "<table border=\"1\" class=\"dataframe\">\n",
       "  <thead>\n",
       "    <tr style=\"text-align: right;\">\n",
       "      <th></th>\n",
       "      <th>age</th>\n",
       "      <th>TSH</th>\n",
       "      <th>T3</th>\n",
       "      <th>TT4</th>\n",
       "      <th>T4U</th>\n",
       "      <th>FTI</th>\n",
       "      <th>TBG</th>\n",
       "      <th>patient_id</th>\n",
       "    </tr>\n",
       "  </thead>\n",
       "  <tbody>\n",
       "    <tr>\n",
       "      <th>count</th>\n",
       "      <td>9172.000000</td>\n",
       "      <td>8330.000000</td>\n",
       "      <td>6568.000000</td>\n",
       "      <td>8730.000000</td>\n",
       "      <td>8363.000000</td>\n",
       "      <td>8370.000000</td>\n",
       "      <td>349.000000</td>\n",
       "      <td>9.172000e+03</td>\n",
       "    </tr>\n",
       "    <tr>\n",
       "      <th>mean</th>\n",
       "      <td>73.555822</td>\n",
       "      <td>5.218403</td>\n",
       "      <td>1.970629</td>\n",
       "      <td>108.700305</td>\n",
       "      <td>0.976056</td>\n",
       "      <td>113.640746</td>\n",
       "      <td>29.870057</td>\n",
       "      <td>8.529473e+08</td>\n",
       "    </tr>\n",
       "    <tr>\n",
       "      <th>std</th>\n",
       "      <td>1183.976718</td>\n",
       "      <td>24.184006</td>\n",
       "      <td>0.887579</td>\n",
       "      <td>37.522670</td>\n",
       "      <td>0.200360</td>\n",
       "      <td>41.551650</td>\n",
       "      <td>21.080504</td>\n",
       "      <td>7.581969e+06</td>\n",
       "    </tr>\n",
       "    <tr>\n",
       "      <th>min</th>\n",
       "      <td>1.000000</td>\n",
       "      <td>0.005000</td>\n",
       "      <td>0.050000</td>\n",
       "      <td>2.000000</td>\n",
       "      <td>0.170000</td>\n",
       "      <td>1.400000</td>\n",
       "      <td>0.100000</td>\n",
       "      <td>8.408010e+08</td>\n",
       "    </tr>\n",
       "    <tr>\n",
       "      <th>25%</th>\n",
       "      <td>37.000000</td>\n",
       "      <td>0.460000</td>\n",
       "      <td>1.500000</td>\n",
       "      <td>87.000000</td>\n",
       "      <td>0.860000</td>\n",
       "      <td>93.000000</td>\n",
       "      <td>21.000000</td>\n",
       "      <td>8.504090e+08</td>\n",
       "    </tr>\n",
       "    <tr>\n",
       "      <th>50%</th>\n",
       "      <td>55.000000</td>\n",
       "      <td>1.400000</td>\n",
       "      <td>1.900000</td>\n",
       "      <td>104.000000</td>\n",
       "      <td>0.960000</td>\n",
       "      <td>109.000000</td>\n",
       "      <td>26.000000</td>\n",
       "      <td>8.510040e+08</td>\n",
       "    </tr>\n",
       "    <tr>\n",
       "      <th>75%</th>\n",
       "      <td>68.000000</td>\n",
       "      <td>2.700000</td>\n",
       "      <td>2.300000</td>\n",
       "      <td>126.000000</td>\n",
       "      <td>1.065000</td>\n",
       "      <td>128.000000</td>\n",
       "      <td>31.000000</td>\n",
       "      <td>8.607110e+08</td>\n",
       "    </tr>\n",
       "    <tr>\n",
       "      <th>max</th>\n",
       "      <td>65526.000000</td>\n",
       "      <td>530.000000</td>\n",
       "      <td>18.000000</td>\n",
       "      <td>600.000000</td>\n",
       "      <td>2.330000</td>\n",
       "      <td>881.000000</td>\n",
       "      <td>200.000000</td>\n",
       "      <td>8.701190e+08</td>\n",
       "    </tr>\n",
       "  </tbody>\n",
       "</table>\n",
       "</div>"
      ],
      "text/plain": [
       "                age          TSH           T3          TT4          T4U  \\\n",
       "count   9172.000000  8330.000000  6568.000000  8730.000000  8363.000000   \n",
       "mean      73.555822     5.218403     1.970629   108.700305     0.976056   \n",
       "std     1183.976718    24.184006     0.887579    37.522670     0.200360   \n",
       "min        1.000000     0.005000     0.050000     2.000000     0.170000   \n",
       "25%       37.000000     0.460000     1.500000    87.000000     0.860000   \n",
       "50%       55.000000     1.400000     1.900000   104.000000     0.960000   \n",
       "75%       68.000000     2.700000     2.300000   126.000000     1.065000   \n",
       "max    65526.000000   530.000000    18.000000   600.000000     2.330000   \n",
       "\n",
       "               FTI         TBG    patient_id  \n",
       "count  8370.000000  349.000000  9.172000e+03  \n",
       "mean    113.640746   29.870057  8.529473e+08  \n",
       "std      41.551650   21.080504  7.581969e+06  \n",
       "min       1.400000    0.100000  8.408010e+08  \n",
       "25%      93.000000   21.000000  8.504090e+08  \n",
       "50%     109.000000   26.000000  8.510040e+08  \n",
       "75%     128.000000   31.000000  8.607110e+08  \n",
       "max     881.000000  200.000000  8.701190e+08  "
      ]
     },
     "execution_count": 20,
     "metadata": {},
     "output_type": "execute_result"
    }
   ],
   "source": [
    "data.describe()"
   ]
  },
  {
   "cell_type": "markdown",
   "metadata": {},
   "source": [
    "## Positive vs Negative label"
   ]
  },
  {
   "cell_type": "code",
   "execution_count": 21,
   "metadata": {},
   "outputs": [
    {
     "name": "stdout",
     "output_type": "stream",
     "text": [
      "The number of label：\n",
      " target\n",
      "-      6771\n",
      "A       147\n",
      "AK       46\n",
      "B        21\n",
      "C         6\n",
      "C|I      12\n",
      "D         8\n",
      "D|R       1\n",
      "E         1\n",
      "F       233\n",
      "FK        6\n",
      "G       359\n",
      "GI       10\n",
      "GK       49\n",
      "GKJ       1\n",
      "H|K       8\n",
      "I       346\n",
      "J        30\n",
      "K       436\n",
      "KJ       11\n",
      "L       115\n",
      "LJ        1\n",
      "M       111\n",
      "MI        2\n",
      "MK       16\n",
      "N       110\n",
      "O        14\n",
      "OI        1\n",
      "P         5\n",
      "Q        14\n",
      "R       196\n",
      "S        85\n",
      "Name: patient_id, dtype: int64\n"
     ]
    },
    {
     "data": {
      "image/png": "[encoded data removed]",
      "text/plain": [
       "<Figure size 864x432 with 2 Axes>"
      ]
     },
     "metadata": {
      "needs_background": "light"
     },
     "output_type": "display_data"
    }
   ],
   "source": [
    "label_gp = data.groupby('target')['patient_id'].count()\n",
    "print('The number of label：\\n',label_gp)\n",
    "_,axe = plt.subplots(1,2,figsize=(12,6))\n",
    "# train_data.label.value_counts().plot(kind='pie',autopct='%1.1f%%',shadow=True,explode=[0,0.1],ax=axe[0])\n",
    "# sns.countplot('label',data=train_data,ax=axe[1],)"
   ]
  },
  {
   "cell_type": "code",
   "execution_count": 22,
   "metadata": {},
   "outputs": [
    {
     "data": {
      "text/plain": [
       "0    -\n",
       "1    -\n",
       "2    -\n",
       "3    -\n",
       "4    S\n",
       "Name: target, dtype: object"
      ]
     },
     "execution_count": 22,
     "metadata": {},
     "output_type": "execute_result"
    }
   ],
   "source": [
    "data.target.head()"
   ]
  },
  {
   "cell_type": "code",
   "execution_count": null,
   "metadata": {},
   "outputs": [],
   "source": []
  }
 ],
 "metadata": {
  "kernelspec": {
   "display_name": "Python 3",
   "language": "python",
   "name": "python3"
  },
  "language_info": {
   "codemirror_mode": {
    "name": "ipython",
    "version": 3
   },
   "file_extension": ".py",
   "mimetype": "text/x-python",
   "name": "python",
   "nbconvert_exporter": "python",
   "pygments_lexer": "ipython3",
   "version": "3.8.5"
  }
 },
 "nbformat": 4,
 "nbformat_minor": 4
}
